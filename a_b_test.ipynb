{
 "cells": [
  {
   "cell_type": "code",
   "execution_count": 1,
   "id": "7caf6fcc",
   "metadata": {},
   "outputs": [],
   "source": [
    "import pandas as pd\n",
    "import numpy as np\n",
    "import matplotlib.pyplot as plt\n",
    "import statsmodels.api as sm\n",
    "import seaborn as sns\n",
    "from scipy import stats"
   ]
  },
  {
   "cell_type": "markdown",
   "id": "d32b966b",
   "metadata": {},
   "source": [
    "Загрузка csv-файла Money (таблица с платежами)."
   ]
  },
  {
   "cell_type": "code",
   "execution_count": 2,
   "id": "1bf10d9d",
   "metadata": {},
   "outputs": [],
   "source": [
    "df_money = pd.read_csv('Money.csv')"
   ]
  },
  {
   "cell_type": "markdown",
   "id": "b135cfdd",
   "metadata": {},
   "source": [
    "Загрузка csv-файла Cheaters (таблица с обнаруженными читерами)."
   ]
  },
  {
   "cell_type": "code",
   "execution_count": 3,
   "id": "34541281",
   "metadata": {},
   "outputs": [],
   "source": [
    "df_cheaters = pd.read_csv('Cheaters.csv');"
   ]
  },
  {
   "cell_type": "markdown",
   "id": "bf8860da",
   "metadata": {},
   "source": [
    "Загрузка csv-файла Platforms (таблица с игровыми платформами (PC, PS4, Xbox))."
   ]
  },
  {
   "cell_type": "code",
   "execution_count": 4,
   "id": "430e6b6f",
   "metadata": {},
   "outputs": [],
   "source": [
    "df_platforms = pd.read_csv('Platforms.csv')"
   ]
  },
  {
   "cell_type": "markdown",
   "id": "61e2dbd2",
   "metadata": {},
   "source": [
    "Загрузка csv-файла Cash (таблица с тратами внутриигровой валюты)."
   ]
  },
  {
   "cell_type": "code",
   "execution_count": 6,
   "id": "2a2b2114",
   "metadata": {},
   "outputs": [],
   "source": [
    "df_cash = pd.read_csv('Cash.csv')"
   ]
  },
  {
   "cell_type": "markdown",
   "id": "891f1798",
   "metadata": {},
   "source": [
    "Загрузка csv-файла ABgroup (таблица с распределением игроков по группам теста)."
   ]
  },
  {
   "cell_type": "code",
   "execution_count": 2,
   "id": "a50f5830",
   "metadata": {},
   "outputs": [],
   "source": [
    "df_abgroup = pd.read_csv('ABgroup.csv')"
   ]
  },
  {
   "cell_type": "code",
   "execution_count": 3,
   "id": "8e8926d6",
   "metadata": {},
   "outputs": [
    {
     "data": {
      "text/html": [
       "<div>\n",
       "<style scoped>\n",
       "    .dataframe tbody tr th:only-of-type {\n",
       "        vertical-align: middle;\n",
       "    }\n",
       "\n",
       "    .dataframe tbody tr th {\n",
       "        vertical-align: top;\n",
       "    }\n",
       "\n",
       "    .dataframe thead th {\n",
       "        text-align: right;\n",
       "    }\n",
       "</style>\n",
       "<table border=\"1\" class=\"dataframe\">\n",
       "  <thead>\n",
       "    <tr style=\"text-align: right;\">\n",
       "      <th></th>\n",
       "      <th>user_id</th>\n",
       "      <th>group</th>\n",
       "    </tr>\n",
       "  </thead>\n",
       "  <tbody>\n",
       "    <tr>\n",
       "      <th>516029</th>\n",
       "      <td>00036L-1T885I</td>\n",
       "      <td>control</td>\n",
       "    </tr>\n",
       "    <tr>\n",
       "      <th>4282472</th>\n",
       "      <td>00036L-1T885I</td>\n",
       "      <td>control</td>\n",
       "    </tr>\n",
       "    <tr>\n",
       "      <th>1530349</th>\n",
       "      <td>00036L-1T885I</td>\n",
       "      <td>control</td>\n",
       "    </tr>\n",
       "    <tr>\n",
       "      <th>4015064</th>\n",
       "      <td>00036L-1T885I</td>\n",
       "      <td>control</td>\n",
       "    </tr>\n",
       "    <tr>\n",
       "      <th>4841272</th>\n",
       "      <td>00036L-1T885I</td>\n",
       "      <td>control</td>\n",
       "    </tr>\n",
       "    <tr>\n",
       "      <th>...</th>\n",
       "      <td>...</td>\n",
       "      <td>...</td>\n",
       "    </tr>\n",
       "    <tr>\n",
       "      <th>522760</th>\n",
       "      <td>ZZZVH1-2OJT7I</td>\n",
       "      <td>control</td>\n",
       "    </tr>\n",
       "    <tr>\n",
       "      <th>777139</th>\n",
       "      <td>ZZZVH1-2OJT7I</td>\n",
       "      <td>control</td>\n",
       "    </tr>\n",
       "    <tr>\n",
       "      <th>8528190</th>\n",
       "      <td>ZZZVH1-2OJT7I</td>\n",
       "      <td>control</td>\n",
       "    </tr>\n",
       "    <tr>\n",
       "      <th>7827472</th>\n",
       "      <td>ZZZVH1-2OJT7I</td>\n",
       "      <td>control</td>\n",
       "    </tr>\n",
       "    <tr>\n",
       "      <th>2287724</th>\n",
       "      <td>ZZZVH1-2OJT7I</td>\n",
       "      <td>control</td>\n",
       "    </tr>\n",
       "  </tbody>\n",
       "</table>\n",
       "<p>8640000 rows × 2 columns</p>\n",
       "</div>"
      ],
      "text/plain": [
       "               user_id    group\n",
       "516029   00036L-1T885I  control\n",
       "4282472  00036L-1T885I  control\n",
       "1530349  00036L-1T885I  control\n",
       "4015064  00036L-1T885I  control\n",
       "4841272  00036L-1T885I  control\n",
       "...                ...      ...\n",
       "522760   ZZZVH1-2OJT7I  control\n",
       "777139   ZZZVH1-2OJT7I  control\n",
       "8528190  ZZZVH1-2OJT7I  control\n",
       "7827472  ZZZVH1-2OJT7I  control\n",
       "2287724  ZZZVH1-2OJT7I  control\n",
       "\n",
       "[8640000 rows x 2 columns]"
      ]
     },
     "execution_count": 3,
     "metadata": {},
     "output_type": "execute_result"
    }
   ],
   "source": [
    "df_abgroup.sort_values('user_id')"
   ]
  },
  {
   "cell_type": "markdown",
   "id": "375224d1",
   "metadata": {},
   "source": [
    " "
   ]
  },
  {
   "cell_type": "markdown",
   "id": "d253536e",
   "metadata": {},
   "source": [
    " "
   ]
  },
  {
   "cell_type": "markdown",
   "id": "c943de86",
   "metadata": {},
   "source": [
    " "
   ]
  },
  {
   "cell_type": "markdown",
   "id": "8a7378bd",
   "metadata": {},
   "source": [
    " "
   ]
  },
  {
   "cell_type": "markdown",
   "id": "6ef3bd4a",
   "metadata": {},
   "source": [
    " "
   ]
  },
  {
   "cell_type": "code",
   "execution_count": 8,
   "id": "4c187fd9",
   "metadata": {},
   "outputs": [
    {
     "data": {
      "text/plain": [
       "353.0"
      ]
     },
     "execution_count": 8,
     "metadata": {},
     "output_type": "execute_result"
    }
   ],
   "source": [
    "len(df_cheaters[df_cheaters['cheaters'] == 1])/8"
   ]
  },
  {
   "cell_type": "markdown",
   "id": "4868ee75",
   "metadata": {},
   "source": [
    "Количество выявленных читеров (353)."
   ]
  },
  {
   "cell_type": "code",
   "execution_count": 9,
   "id": "d0090992",
   "metadata": {
    "colab": {},
    "colab_type": "code",
    "id": "oVotUFlMrPne"
   },
   "outputs": [
    {
     "data": {
      "text/plain": [
       "539653.0"
      ]
     },
     "execution_count": 9,
     "metadata": {},
     "output_type": "execute_result"
    }
   ],
   "source": [
    "len(df_abgroup[df_abgroup['group'] == 'test'])/8"
   ]
  },
  {
   "cell_type": "markdown",
   "id": "91d6ae88",
   "metadata": {},
   "source": [
    "Количество в группе тестируемых (539 653 чел)."
   ]
  },
  {
   "cell_type": "code",
   "execution_count": 10,
   "id": "5b8412d7",
   "metadata": {},
   "outputs": [
    {
     "data": {
      "text/plain": [
       "540347.0"
      ]
     },
     "execution_count": 10,
     "metadata": {},
     "output_type": "execute_result"
    }
   ],
   "source": [
    "len(df_abgroup[df_abgroup['group'] == 'control'])/8"
   ]
  },
  {
   "cell_type": "markdown",
   "id": "173c92b3",
   "metadata": {},
   "source": [
    "Количество в контрольной группе, без изм (540 347 чел)."
   ]
  },
  {
   "cell_type": "code",
   "execution_count": 11,
   "id": "b9beb911",
   "metadata": {},
   "outputs": [
    {
     "data": {
      "text/plain": [
       "694.0"
      ]
     },
     "execution_count": 11,
     "metadata": {},
     "output_type": "execute_result"
    }
   ],
   "source": [
    "len(df_abgroup[df_abgroup['group'] == 'control'])/8 - len(df_abgroup[df_abgroup['group'] == 'test'])/8"
   ]
  },
  {
   "cell_type": "markdown",
   "id": "bca28428",
   "metadata": {},
   "source": [
    "Контрольная группа больше тестируемой на 694 человека (выявленных читеров в исх данных = 353 чел):"
   ]
  },
  {
   "cell_type": "markdown",
   "id": "763ba346",
   "metadata": {},
   "source": [
    " "
   ]
  },
  {
   "cell_type": "markdown",
   "id": "e5036215",
   "metadata": {},
   "source": [
    " "
   ]
  },
  {
   "cell_type": "markdown",
   "id": "f718215a",
   "metadata": {},
   "source": [
    " "
   ]
  },
  {
   "cell_type": "markdown",
   "id": "0387d675",
   "metadata": {},
   "source": [
    " "
   ]
  },
  {
   "cell_type": "markdown",
   "id": "0fab75d0",
   "metadata": {},
   "source": [
    " "
   ]
  },
  {
   "cell_type": "markdown",
   "id": "92fa9b3b",
   "metadata": {},
   "source": [
    " "
   ]
  },
  {
   "cell_type": "markdown",
   "id": "7eb1bffd",
   "metadata": {},
   "source": [
    " "
   ]
  },
  {
   "cell_type": "markdown",
   "id": "73e9167c",
   "metadata": {},
   "source": [
    " "
   ]
  },
  {
   "cell_type": "markdown",
   "id": "8eca1656",
   "metadata": {},
   "source": [
    "Вычистим данные. Соединим две таблицы cash и cheaters, и для начала исключим тех user_id которые на этапе теста определены как читеры."
   ]
  },
  {
   "cell_type": "code",
   "execution_count": 12,
   "id": "e0c3b0ea",
   "metadata": {},
   "outputs": [],
   "source": [
    "# Датафрейм с пользователями-читерами, выявленными до проведения теста\n",
    "cheat_1 = df_cheaters[df_cheaters['cheaters'] == 1].groupby('user_id').count()\n",
    "# получена таблица с начисленными объемами внутренней валюты выявленных читеров ДО:\n",
    "cheat_1_cash = pd.merge(cheat_1, df_cash, how = 'left', left_on='user_id', right_on='user_id')"
   ]
  },
  {
   "cell_type": "code",
   "execution_count": 13,
   "id": "95f4f8b1",
   "metadata": {},
   "outputs": [
    {
     "data": {
      "text/html": [
       "<div>\n",
       "<style scoped>\n",
       "    .dataframe tbody tr th:only-of-type {\n",
       "        vertical-align: middle;\n",
       "    }\n",
       "\n",
       "    .dataframe tbody tr th {\n",
       "        vertical-align: top;\n",
       "    }\n",
       "\n",
       "    .dataframe thead th {\n",
       "        text-align: right;\n",
       "    }\n",
       "</style>\n",
       "<table border=\"1\" class=\"dataframe\">\n",
       "  <thead>\n",
       "    <tr style=\"text-align: right;\">\n",
       "      <th></th>\n",
       "      <th>cash</th>\n",
       "    </tr>\n",
       "    <tr>\n",
       "      <th>user_id</th>\n",
       "      <th></th>\n",
       "    </tr>\n",
       "  </thead>\n",
       "  <tbody>\n",
       "    <tr>\n",
       "      <th>GLGM0P-VMHL3W</th>\n",
       "      <td>46700</td>\n",
       "    </tr>\n",
       "    <tr>\n",
       "      <th>3WOSJF-UC2DAO</th>\n",
       "      <td>50150</td>\n",
       "    </tr>\n",
       "    <tr>\n",
       "      <th>IALNLO-F5DDS6</th>\n",
       "      <td>55800</td>\n",
       "    </tr>\n",
       "    <tr>\n",
       "      <th>9YG4CS-DIEGHQ</th>\n",
       "      <td>70300</td>\n",
       "    </tr>\n",
       "    <tr>\n",
       "      <th>AYLSIY-0XGKR5</th>\n",
       "      <td>70700</td>\n",
       "    </tr>\n",
       "    <tr>\n",
       "      <th>...</th>\n",
       "      <td>...</td>\n",
       "    </tr>\n",
       "    <tr>\n",
       "      <th>57T98Z-SYFLSH</th>\n",
       "      <td>222950</td>\n",
       "    </tr>\n",
       "    <tr>\n",
       "      <th>N9HQS0-Y2L88S</th>\n",
       "      <td>226500</td>\n",
       "    </tr>\n",
       "    <tr>\n",
       "      <th>VTOLQS-23AL7R</th>\n",
       "      <td>231750</td>\n",
       "    </tr>\n",
       "    <tr>\n",
       "      <th>PDOMHG-6CPEZ4</th>\n",
       "      <td>237600</td>\n",
       "    </tr>\n",
       "    <tr>\n",
       "      <th>6Q3KB0-DF2SIX</th>\n",
       "      <td>253150</td>\n",
       "    </tr>\n",
       "  </tbody>\n",
       "</table>\n",
       "<p>353 rows × 1 columns</p>\n",
       "</div>"
      ],
      "text/plain": [
       "                 cash\n",
       "user_id              \n",
       "GLGM0P-VMHL3W   46700\n",
       "3WOSJF-UC2DAO   50150\n",
       "IALNLO-F5DDS6   55800\n",
       "9YG4CS-DIEGHQ   70300\n",
       "AYLSIY-0XGKR5   70700\n",
       "...               ...\n",
       "57T98Z-SYFLSH  222950\n",
       "N9HQS0-Y2L88S  226500\n",
       "VTOLQS-23AL7R  231750\n",
       "PDOMHG-6CPEZ4  237600\n",
       "6Q3KB0-DF2SIX  253150\n",
       "\n",
       "[353 rows x 1 columns]"
      ]
     },
     "execution_count": 13,
     "metadata": {},
     "output_type": "execute_result"
    }
   ],
   "source": [
    "# сумма объемов начисленной внутр валюты за 8 дней по каждому ранее выявленному читеру\n",
    "sum_cheat_1 = cheat_1_cash.groupby('user_id').agg('sum')[['cash']].sort_values('cash')\n",
    "sum_cheat_1"
   ]
  },
  {
   "cell_type": "markdown",
   "id": "abfd16ad",
   "metadata": {},
   "source": [
    "Видим, что объемы начисления внутриигровой валюты с помощью взлома по ранее выявленным читерам варьируются от 46700 до 253150 у.е. по каждому из читеров (суммарно за рассматриваемый период 8 дней)."
   ]
  },
  {
   "cell_type": "markdown",
   "id": "9e6b9e99",
   "metadata": {},
   "source": [
    "Далее перейдем к поиску пока не выявленных читеров."
   ]
  },
  {
   "cell_type": "code",
   "execution_count": 14,
   "id": "e245762d",
   "metadata": {},
   "outputs": [
    {
     "data": {
      "text/html": [
       "<div>\n",
       "<style scoped>\n",
       "    .dataframe tbody tr th:only-of-type {\n",
       "        vertical-align: middle;\n",
       "    }\n",
       "\n",
       "    .dataframe tbody tr th {\n",
       "        vertical-align: top;\n",
       "    }\n",
       "\n",
       "    .dataframe thead th {\n",
       "        text-align: right;\n",
       "    }\n",
       "</style>\n",
       "<table border=\"1\" class=\"dataframe\">\n",
       "  <thead>\n",
       "    <tr style=\"text-align: right;\">\n",
       "      <th></th>\n",
       "      <th>cheaters</th>\n",
       "    </tr>\n",
       "    <tr>\n",
       "      <th>user_id</th>\n",
       "      <th></th>\n",
       "    </tr>\n",
       "  </thead>\n",
       "  <tbody>\n",
       "    <tr>\n",
       "      <th>00036L-1T885I</th>\n",
       "      <td>8</td>\n",
       "    </tr>\n",
       "    <tr>\n",
       "      <th>0004MK-MRBUKF</th>\n",
       "      <td>8</td>\n",
       "    </tr>\n",
       "    <tr>\n",
       "      <th>0004MK-VW0O9L</th>\n",
       "      <td>8</td>\n",
       "    </tr>\n",
       "    <tr>\n",
       "      <th>0005S4-UEC6BE</th>\n",
       "      <td>8</td>\n",
       "    </tr>\n",
       "    <tr>\n",
       "      <th>0007I5-EWUD6O</th>\n",
       "      <td>8</td>\n",
       "    </tr>\n",
       "    <tr>\n",
       "      <th>...</th>\n",
       "      <td>...</td>\n",
       "    </tr>\n",
       "    <tr>\n",
       "      <th>ZZZPEX-P2T8BH</th>\n",
       "      <td>8</td>\n",
       "    </tr>\n",
       "    <tr>\n",
       "      <th>ZZZTEN-0QGZ3X</th>\n",
       "      <td>8</td>\n",
       "    </tr>\n",
       "    <tr>\n",
       "      <th>ZZZTR5-QSI6D3</th>\n",
       "      <td>8</td>\n",
       "    </tr>\n",
       "    <tr>\n",
       "      <th>ZZZV9K-NM9B4Z</th>\n",
       "      <td>8</td>\n",
       "    </tr>\n",
       "    <tr>\n",
       "      <th>ZZZVH1-2OJT7I</th>\n",
       "      <td>8</td>\n",
       "    </tr>\n",
       "  </tbody>\n",
       "</table>\n",
       "<p>1079647 rows × 1 columns</p>\n",
       "</div>"
      ],
      "text/plain": [
       "               cheaters\n",
       "user_id                \n",
       "00036L-1T885I         8\n",
       "0004MK-MRBUKF         8\n",
       "0004MK-VW0O9L         8\n",
       "0005S4-UEC6BE         8\n",
       "0007I5-EWUD6O         8\n",
       "...                 ...\n",
       "ZZZPEX-P2T8BH         8\n",
       "ZZZTEN-0QGZ3X         8\n",
       "ZZZTR5-QSI6D3         8\n",
       "ZZZV9K-NM9B4Z         8\n",
       "ZZZVH1-2OJT7I         8\n",
       "\n",
       "[1079647 rows x 1 columns]"
      ]
     },
     "execution_count": 14,
     "metadata": {},
     "output_type": "execute_result"
    }
   ],
   "source": [
    "# Датафрейм с пользователями-\"не читерами\" (с учетом не выявленных пока читеров)\n",
    "cheat_2 = df_cheaters[df_cheaters['cheaters'] == 0].groupby('user_id').count()\n",
    "cheat_2"
   ]
  },
  {
   "cell_type": "markdown",
   "id": "7bf99fc3",
   "metadata": {},
   "source": [
    "Получен перечень cheat_2 уникальных user_id из 1079647 чел не читеров (в т.ч. пока не выявленные)."
   ]
  },
  {
   "cell_type": "code",
   "execution_count": 15,
   "id": "8e2b1f6d",
   "metadata": {},
   "outputs": [
    {
     "data": {
      "text/html": [
       "<div>\n",
       "<style scoped>\n",
       "    .dataframe tbody tr th:only-of-type {\n",
       "        vertical-align: middle;\n",
       "    }\n",
       "\n",
       "    .dataframe tbody tr th {\n",
       "        vertical-align: top;\n",
       "    }\n",
       "\n",
       "    .dataframe thead th {\n",
       "        text-align: right;\n",
       "    }\n",
       "</style>\n",
       "<table border=\"1\" class=\"dataframe\">\n",
       "  <thead>\n",
       "    <tr style=\"text-align: right;\">\n",
       "      <th></th>\n",
       "      <th>cash</th>\n",
       "    </tr>\n",
       "    <tr>\n",
       "      <th>user_id</th>\n",
       "      <th></th>\n",
       "    </tr>\n",
       "  </thead>\n",
       "  <tbody>\n",
       "    <tr>\n",
       "      <th>DTU9N4-QS35SQ</th>\n",
       "      <td>50</td>\n",
       "    </tr>\n",
       "    <tr>\n",
       "      <th>INBV7M-9S58NQ</th>\n",
       "      <td>50</td>\n",
       "    </tr>\n",
       "    <tr>\n",
       "      <th>4KAX70-CHAJX2</th>\n",
       "      <td>50</td>\n",
       "    </tr>\n",
       "    <tr>\n",
       "      <th>S6F3GG-MUGQG3</th>\n",
       "      <td>100</td>\n",
       "    </tr>\n",
       "    <tr>\n",
       "      <th>2CJYT7-AXT4GP</th>\n",
       "      <td>100</td>\n",
       "    </tr>\n",
       "    <tr>\n",
       "      <th>...</th>\n",
       "      <td>...</td>\n",
       "    </tr>\n",
       "    <tr>\n",
       "      <th>BZRZ88-435FHY</th>\n",
       "      <td>225650</td>\n",
       "    </tr>\n",
       "    <tr>\n",
       "      <th>OCRQ1L-GZH0BP</th>\n",
       "      <td>230600</td>\n",
       "    </tr>\n",
       "    <tr>\n",
       "      <th>BGTT4M-1ZFLMA</th>\n",
       "      <td>235100</td>\n",
       "    </tr>\n",
       "    <tr>\n",
       "      <th>0R9XB0-4J1EVJ</th>\n",
       "      <td>238500</td>\n",
       "    </tr>\n",
       "    <tr>\n",
       "      <th>4HCVCA-V3M19Y</th>\n",
       "      <td>240950</td>\n",
       "    </tr>\n",
       "  </tbody>\n",
       "</table>\n",
       "<p>1079647 rows × 1 columns</p>\n",
       "</div>"
      ],
      "text/plain": [
       "                 cash\n",
       "user_id              \n",
       "DTU9N4-QS35SQ      50\n",
       "INBV7M-9S58NQ      50\n",
       "4KAX70-CHAJX2      50\n",
       "S6F3GG-MUGQG3     100\n",
       "2CJYT7-AXT4GP     100\n",
       "...               ...\n",
       "BZRZ88-435FHY  225650\n",
       "OCRQ1L-GZH0BP  230600\n",
       "BGTT4M-1ZFLMA  235100\n",
       "0R9XB0-4J1EVJ  238500\n",
       "4HCVCA-V3M19Y  240950\n",
       "\n",
       "[1079647 rows x 1 columns]"
      ]
     },
     "execution_count": 15,
     "metadata": {},
     "output_type": "execute_result"
    }
   ],
   "source": [
    "# Датафрейм с пользователями-\"не читерами\" (с учетом не выявленных пока читеров)\n",
    "cheat_2 = df_cheaters[df_cheaters['cheaters'] == 0].groupby('user_id').count()\n",
    "# получена табл с начисленными объемами внутр валюты НЕ читерам (в т.ч. пока не выявленным):\n",
    "notcheat_cash = pd.merge(cheat_2, df_cash, how = 'left', left_on='user_id', right_on='user_id') \n",
    "notcheat_cash = notcheat_cash.groupby('user_id').agg('sum')[['cash']]\n",
    "notcheat_cash.sort_values('cash')"
   ]
  },
  {
   "cell_type": "markdown",
   "id": "ad11250b",
   "metadata": {},
   "source": [
    "Видим, что разброс велик,  от 50 до 240950 у.е. суммарно по каждому игроку за рассматриваемый период. Очевидно, что требуется выявить читеров и убрать их из списка для последующей оценки эффективности проведения ab-теста."
   ]
  },
  {
   "cell_type": "markdown",
   "id": "85050c8f",
   "metadata": {},
   "source": [
    "Передем к поиску читеров (аномалий). Рассмотрим точечные оценки выборки трат внутриигровой валюты нечитерами (в т.ч. пока не выявленными читерами)."
   ]
  },
  {
   "cell_type": "code",
   "execution_count": 16,
   "id": "e95a508b",
   "metadata": {},
   "outputs": [],
   "source": [
    "def basic_research (df = notcheat_cash, column = 'cash'):\n",
    "    print(\"Базовые метрики\")\n",
    "    print(df[column].describe())\n",
    "    print(\"------------------------------------\")\n",
    "    print(\"Самые популярные значения cash, топ 5\")\n",
    "    print(df[column].value_counts().nlargest(5))\n",
    "    print(\"------------------------------------\")\n",
    "    sns.distplot(df[column])\n",
    "    plt.title(\"Распределение трат внутриигровой валюты по игрокам\")"
   ]
  },
  {
   "cell_type": "code",
   "execution_count": 17,
   "id": "757de1ac",
   "metadata": {},
   "outputs": [
    {
     "name": "stdout",
     "output_type": "stream",
     "text": [
      "Базовые метрики\n",
      "count    1.079647e+06\n",
      "mean     6.061209e+03\n",
      "std      3.004201e+03\n",
      "min      5.000000e+01\n",
      "25%      5.050000e+03\n",
      "50%      6.000000e+03\n",
      "75%      6.950000e+03\n",
      "max      2.409500e+05\n",
      "Name: cash, dtype: float64\n",
      "------------------------------------\n",
      "Самые популярные значения cash, топ 5\n",
      "6050    15629\n",
      "6000    15600\n",
      "5850    15510\n",
      "6100    15501\n",
      "5900    15499\n",
      "Name: cash, dtype: int64\n",
      "------------------------------------\n"
     ]
    },
    {
     "name": "stderr",
     "output_type": "stream",
     "text": [
      "C:\\Users\\HP\\anaconda3\\lib\\site-packages\\seaborn\\distributions.py:2619: FutureWarning: `distplot` is a deprecated function and will be removed in a future version. Please adapt your code to use either `displot` (a figure-level function with similar flexibility) or `histplot` (an axes-level function for histograms).\n",
      "  warnings.warn(msg, FutureWarning)\n"
     ]
    },
    {
     "data": {
      "image/png": "[encoded data removed]",
      "text/plain": [
       "<Figure size 432x288 with 1 Axes>"
      ]
     },
     "metadata": {
      "needs_background": "light"
     },
     "output_type": "display_data"
    }
   ],
   "source": [
    "basic_research()"
   ]
  },
  {
   "cell_type": "code",
   "execution_count": 18,
   "id": "c4d8fde1",
   "metadata": {},
   "outputs": [
    {
     "data": {
      "text/plain": [
       "6050    15629\n",
       "6000    15600\n",
       "5850    15510\n",
       "6100    15501\n",
       "5900    15499\n",
       "Name: cash, dtype: int64"
      ]
     },
     "execution_count": 18,
     "metadata": {},
     "output_type": "execute_result"
    }
   ],
   "source": [
    "# рассчитаем moda (самые популярные значения) объем внутр валюты по НЕ читерам \n",
    "# (в т.ч. пока не выявленным)\n",
    "notcheat_cash['cash'].value_counts().nlargest(5)"
   ]
  },
  {
   "cell_type": "code",
   "execution_count": 19,
   "id": "faefcd9b",
   "metadata": {},
   "outputs": [
    {
     "data": {
      "text/plain": [
       "6000.0"
      ]
     },
     "execution_count": 19,
     "metadata": {},
     "output_type": "execute_result"
    }
   ],
   "source": [
    "# рассчитаем median объем внутр валюты по НЕ читерам (в т.ч. пока не выявленным)\n",
    "notcheat_cash['cash'].median()"
   ]
  },
  {
   "cell_type": "code",
   "execution_count": 20,
   "id": "c1abf139",
   "metadata": {},
   "outputs": [
    {
     "data": {
      "text/plain": [
       "count    1.079647e+06\n",
       "mean     6.061209e+03\n",
       "std      3.004201e+03\n",
       "min      5.000000e+01\n",
       "25%      5.050000e+03\n",
       "50%      6.000000e+03\n",
       "75%      6.950000e+03\n",
       "max      2.409500e+05\n",
       "Name: cash, dtype: float64"
      ]
     },
     "execution_count": 20,
     "metadata": {},
     "output_type": "execute_result"
    }
   ],
   "source": [
    "notcheat_cash['cash'].describe()"
   ]
  },
  {
   "cell_type": "code",
   "execution_count": 21,
   "id": "cb9c4fc5",
   "metadata": {},
   "outputs": [
    {
     "data": {
      "text/plain": [
       "Text(0.5, 1.0, 'Распределение V внутр валюты, полученной НЕ читерами (в т.ч. пока не выявленным)')"
      ]
     },
     "execution_count": 21,
     "metadata": {},
     "output_type": "execute_result"
    },
    {
     "data": {
      "image/png": "[encoded data removed]",
      "text/plain": [
       "<Figure size 432x288 with 1 Axes>"
      ]
     },
     "metadata": {
      "needs_background": "light"
     },
     "output_type": "display_data"
    }
   ],
   "source": [
    "# построим гистограмму распределения\n",
    "notcheat_cash['cash'].hist(bins = 100)\n",
    "plt.title('Распределение V внутр валюты, полученной НЕ читерами (в т.ч. пока не выявленным)')"
   ]
  },
  {
   "cell_type": "markdown",
   "id": "2c136566",
   "metadata": {},
   "source": [
    "Очевидно, что распредление cash ассиметричное (наличие читеров в нем делает диаграмму смещенной в право). "
   ]
  },
  {
   "cell_type": "code",
   "execution_count": 22,
   "id": "51d1f591",
   "metadata": {},
   "outputs": [
    {
     "data": {
      "text/plain": [
       "Text(0.5, 1.0, 'Распределение V внутр валюты, полученной НЕ читерами (в т.ч. пока не выявленным)')"
      ]
     },
     "execution_count": 22,
     "metadata": {},
     "output_type": "execute_result"
    },
    {
     "data": {
      "image/png": "[encoded data removed]",
      "text/plain": [
       "<Figure size 432x288 with 1 Axes>"
      ]
     },
     "metadata": {
      "needs_background": "light"
     },
     "output_type": "display_data"
    }
   ],
   "source": [
    "notcheat_cash['cash'].plot()\n",
    "plt.title('Распределение V внутр валюты, полученной НЕ читерами (в т.ч. пока не выявленным)')"
   ]
  },
  {
   "cell_type": "markdown",
   "id": "c5b193b2",
   "metadata": {},
   "source": [
    "Построим график QQ plot (который сравнивает квантили еашей выборки и квантили нормального распределения с таким же средним и сигмой)"
   ]
  },
  {
   "cell_type": "code",
   "execution_count": 23,
   "id": "6d0107fa",
   "metadata": {},
   "outputs": [
    {
     "data": {
      "image/png": "[encoded data removed]",
      "text/plain": [
       "<Figure size 432x288 with 1 Axes>"
      ]
     },
     "metadata": {
      "needs_background": "light"
     },
     "output_type": "display_data"
    }
   ],
   "source": [
    "sm.qqplot(notcheat_cash['cash'], fit = True)\n",
    "plt.title('QQ plot')\n",
    "plt.show()"
   ]
  },
  {
   "cell_type": "markdown",
   "id": "255a6941",
   "metadata": {},
   "source": [
    "Видим, что у нас не очевидно нормальное распредление, график в начале не под 45 градусов, но вторая часть графика похожа на норм распредление."
   ]
  },
  {
   "cell_type": "markdown",
   "id": "64915e40",
   "metadata": {},
   "source": [
    "Построим доверительный интервал."
   ]
  },
  {
   "cell_type": "code",
   "execution_count": 24,
   "id": "362f1eef",
   "metadata": {},
   "outputs": [],
   "source": [
    "def my_norm_confidence(df=notcheat_cash, column='cash', alpha = 0.95):\n",
    "    interval = stats.norm.interval(alpha, loc=df[column].mean(), scale = df[column].std())\n",
    "    return interval"
   ]
  },
  {
   "cell_type": "code",
   "execution_count": 25,
   "id": "f22e28a6",
   "metadata": {},
   "outputs": [
    {
     "name": "stdout",
     "output_type": "stream",
     "text": [
      "(173.08327322169953, 11949.334517037525)\n"
     ]
    }
   ],
   "source": [
    "confidence = my_norm_confidence()\n",
    "print(confidence)"
   ]
  },
  {
   "cell_type": "code",
   "execution_count": 26,
   "id": "864a5b2b",
   "metadata": {},
   "outputs": [
    {
     "data": {
      "text/plain": [
       "Text(0.5, 1.0, 'Доверительный интервал')"
      ]
     },
     "execution_count": 26,
     "metadata": {},
     "output_type": "execute_result"
    },
    {
     "data": {
      "image/png": "[encoded data removed]",
      "text/plain": [
       "<Figure size 432x288 with 1 Axes>"
      ]
     },
     "metadata": {
      "needs_background": "light"
     },
     "output_type": "display_data"
    }
   ],
   "source": [
    "notcheat_cash['cash'].plot()\n",
    "plt.axhline(y = confidence[1], color = 'g', linestyle = '-')\n",
    "plt.axhline(y = confidence[0], color = 'r', linestyle = '-')\n",
    "plt.title('Доверительный интервал')"
   ]
  },
  {
   "cell_type": "markdown",
   "id": "349747e1",
   "metadata": {},
   "source": [
    "Все, что выше верхней границы доверительного интервала = 11949, можно смело называть аномалией или, в нашем конкретном случае, - проделки читеров."
   ]
  },
  {
   "cell_type": "markdown",
   "id": "751c6f4d",
   "metadata": {},
   "source": [
    "Отметим читеров (аномальные события, выходящие за верхнюю зеленую границу)."
   ]
  },
  {
   "cell_type": "code",
   "execution_count": 27,
   "id": "e7b8cabd",
   "metadata": {},
   "outputs": [],
   "source": [
    "notcheat_cash['anomaly_big'] = np.where(notcheat_cash['cash'] > confidence[1], 1, 0)"
   ]
  },
  {
   "cell_type": "code",
   "execution_count": 28,
   "id": "d8f7aa77",
   "metadata": {},
   "outputs": [
    {
     "data": {
      "text/html": [
       "<div>\n",
       "<style scoped>\n",
       "    .dataframe tbody tr th:only-of-type {\n",
       "        vertical-align: middle;\n",
       "    }\n",
       "\n",
       "    .dataframe tbody tr th {\n",
       "        vertical-align: top;\n",
       "    }\n",
       "\n",
       "    .dataframe thead th {\n",
       "        text-align: right;\n",
       "    }\n",
       "</style>\n",
       "<table border=\"1\" class=\"dataframe\">\n",
       "  <thead>\n",
       "    <tr style=\"text-align: right;\">\n",
       "      <th></th>\n",
       "      <th>cash</th>\n",
       "      <th>anomaly_big</th>\n",
       "    </tr>\n",
       "  </thead>\n",
       "  <tbody>\n",
       "    <tr>\n",
       "      <th>count</th>\n",
       "      <td>362.000000</td>\n",
       "      <td>362.0</td>\n",
       "    </tr>\n",
       "    <tr>\n",
       "      <th>mean</th>\n",
       "      <td>144094.889503</td>\n",
       "      <td>1.0</td>\n",
       "    </tr>\n",
       "    <tr>\n",
       "      <th>std</th>\n",
       "      <td>45314.555978</td>\n",
       "      <td>0.0</td>\n",
       "    </tr>\n",
       "    <tr>\n",
       "      <th>min</th>\n",
       "      <td>11950.000000</td>\n",
       "      <td>1.0</td>\n",
       "    </tr>\n",
       "    <tr>\n",
       "      <th>25%</th>\n",
       "      <td>122362.500000</td>\n",
       "      <td>1.0</td>\n",
       "    </tr>\n",
       "    <tr>\n",
       "      <th>50%</th>\n",
       "      <td>147525.000000</td>\n",
       "      <td>1.0</td>\n",
       "    </tr>\n",
       "    <tr>\n",
       "      <th>75%</th>\n",
       "      <td>171387.500000</td>\n",
       "      <td>1.0</td>\n",
       "    </tr>\n",
       "    <tr>\n",
       "      <th>max</th>\n",
       "      <td>240950.000000</td>\n",
       "      <td>1.0</td>\n",
       "    </tr>\n",
       "  </tbody>\n",
       "</table>\n",
       "</div>"
      ],
      "text/plain": [
       "                cash  anomaly_big\n",
       "count     362.000000        362.0\n",
       "mean   144094.889503          1.0\n",
       "std     45314.555978          0.0\n",
       "min     11950.000000          1.0\n",
       "25%    122362.500000          1.0\n",
       "50%    147525.000000          1.0\n",
       "75%    171387.500000          1.0\n",
       "max    240950.000000          1.0"
      ]
     },
     "execution_count": 28,
     "metadata": {},
     "output_type": "execute_result"
    }
   ],
   "source": [
    "found_cheaters = notcheat_cash[notcheat_cash['anomaly_big'] == 1]\n",
    "found_cheaters.describe()"
   ]
  },
  {
   "cell_type": "code",
   "execution_count": 29,
   "id": "5980c4af",
   "metadata": {},
   "outputs": [
    {
     "data": {
      "text/html": [
       "<div>\n",
       "<style scoped>\n",
       "    .dataframe tbody tr th:only-of-type {\n",
       "        vertical-align: middle;\n",
       "    }\n",
       "\n",
       "    .dataframe tbody tr th {\n",
       "        vertical-align: top;\n",
       "    }\n",
       "\n",
       "    .dataframe thead th {\n",
       "        text-align: right;\n",
       "    }\n",
       "</style>\n",
       "<table border=\"1\" class=\"dataframe\">\n",
       "  <thead>\n",
       "    <tr style=\"text-align: right;\">\n",
       "      <th></th>\n",
       "      <th>cash</th>\n",
       "      <th>anomaly_big</th>\n",
       "    </tr>\n",
       "    <tr>\n",
       "      <th>user_id</th>\n",
       "      <th></th>\n",
       "      <th></th>\n",
       "    </tr>\n",
       "  </thead>\n",
       "  <tbody>\n",
       "    <tr>\n",
       "      <th>ALMETB-LKZNKD</th>\n",
       "      <td>11950</td>\n",
       "      <td>1</td>\n",
       "    </tr>\n",
       "    <tr>\n",
       "      <th>CXDLR8-JWHVG3</th>\n",
       "      <td>11950</td>\n",
       "      <td>1</td>\n",
       "    </tr>\n",
       "    <tr>\n",
       "      <th>HWMZBD-41YY42</th>\n",
       "      <td>11950</td>\n",
       "      <td>1</td>\n",
       "    </tr>\n",
       "    <tr>\n",
       "      <th>BT8G1W-PLFH3I</th>\n",
       "      <td>12000</td>\n",
       "      <td>1</td>\n",
       "    </tr>\n",
       "    <tr>\n",
       "      <th>QBD342-S7QOW4</th>\n",
       "      <td>12000</td>\n",
       "      <td>1</td>\n",
       "    </tr>\n",
       "    <tr>\n",
       "      <th>...</th>\n",
       "      <td>...</td>\n",
       "      <td>...</td>\n",
       "    </tr>\n",
       "    <tr>\n",
       "      <th>BZRZ88-435FHY</th>\n",
       "      <td>225650</td>\n",
       "      <td>1</td>\n",
       "    </tr>\n",
       "    <tr>\n",
       "      <th>OCRQ1L-GZH0BP</th>\n",
       "      <td>230600</td>\n",
       "      <td>1</td>\n",
       "    </tr>\n",
       "    <tr>\n",
       "      <th>BGTT4M-1ZFLMA</th>\n",
       "      <td>235100</td>\n",
       "      <td>1</td>\n",
       "    </tr>\n",
       "    <tr>\n",
       "      <th>0R9XB0-4J1EVJ</th>\n",
       "      <td>238500</td>\n",
       "      <td>1</td>\n",
       "    </tr>\n",
       "    <tr>\n",
       "      <th>4HCVCA-V3M19Y</th>\n",
       "      <td>240950</td>\n",
       "      <td>1</td>\n",
       "    </tr>\n",
       "  </tbody>\n",
       "</table>\n",
       "<p>362 rows × 2 columns</p>\n",
       "</div>"
      ],
      "text/plain": [
       "                 cash  anomaly_big\n",
       "user_id                           \n",
       "ALMETB-LKZNKD   11950            1\n",
       "CXDLR8-JWHVG3   11950            1\n",
       "HWMZBD-41YY42   11950            1\n",
       "BT8G1W-PLFH3I   12000            1\n",
       "QBD342-S7QOW4   12000            1\n",
       "...               ...          ...\n",
       "BZRZ88-435FHY  225650            1\n",
       "OCRQ1L-GZH0BP  230600            1\n",
       "BGTT4M-1ZFLMA  235100            1\n",
       "0R9XB0-4J1EVJ  238500            1\n",
       "4HCVCA-V3M19Y  240950            1\n",
       "\n",
       "[362 rows x 2 columns]"
      ]
     },
     "execution_count": 29,
     "metadata": {},
     "output_type": "execute_result"
    }
   ],
   "source": [
    "found_cheaters.sort_values('cash')"
   ]
  },
  {
   "cell_type": "markdown",
   "id": "8153acf2",
   "metadata": {},
   "source": [
    "С помощью доверительного интервала выявлены и отобраны 362 читера. Итого, с учетом выявленных ранее 353 читеров, сумма всех читеров составила = 715 читеров."
   ]
  },
  {
   "cell_type": "markdown",
   "id": "f2d89cfd",
   "metadata": {},
   "source": [
    "А теперь получим пользователей НЕ читеров."
   ]
  },
  {
   "cell_type": "code",
   "execution_count": 30,
   "id": "40335e1d",
   "metadata": {},
   "outputs": [
    {
     "data": {
      "text/html": [
       "<div>\n",
       "<style scoped>\n",
       "    .dataframe tbody tr th:only-of-type {\n",
       "        vertical-align: middle;\n",
       "    }\n",
       "\n",
       "    .dataframe tbody tr th {\n",
       "        vertical-align: top;\n",
       "    }\n",
       "\n",
       "    .dataframe thead th {\n",
       "        text-align: right;\n",
       "    }\n",
       "</style>\n",
       "<table border=\"1\" class=\"dataframe\">\n",
       "  <thead>\n",
       "    <tr style=\"text-align: right;\">\n",
       "      <th></th>\n",
       "      <th>cash</th>\n",
       "      <th>anomaly_big</th>\n",
       "    </tr>\n",
       "    <tr>\n",
       "      <th>user_id</th>\n",
       "      <th></th>\n",
       "      <th></th>\n",
       "    </tr>\n",
       "  </thead>\n",
       "  <tbody>\n",
       "    <tr>\n",
       "      <th>00036L-1T885I</th>\n",
       "      <td>7600</td>\n",
       "      <td>0</td>\n",
       "    </tr>\n",
       "    <tr>\n",
       "      <th>0004MK-MRBUKF</th>\n",
       "      <td>6150</td>\n",
       "      <td>0</td>\n",
       "    </tr>\n",
       "    <tr>\n",
       "      <th>0004MK-VW0O9L</th>\n",
       "      <td>6300</td>\n",
       "      <td>0</td>\n",
       "    </tr>\n",
       "    <tr>\n",
       "      <th>0005S4-UEC6BE</th>\n",
       "      <td>5000</td>\n",
       "      <td>0</td>\n",
       "    </tr>\n",
       "    <tr>\n",
       "      <th>0007I5-EWUD6O</th>\n",
       "      <td>6350</td>\n",
       "      <td>0</td>\n",
       "    </tr>\n",
       "    <tr>\n",
       "      <th>...</th>\n",
       "      <td>...</td>\n",
       "      <td>...</td>\n",
       "    </tr>\n",
       "    <tr>\n",
       "      <th>ZZZPEX-P2T8BH</th>\n",
       "      <td>6600</td>\n",
       "      <td>0</td>\n",
       "    </tr>\n",
       "    <tr>\n",
       "      <th>ZZZTEN-0QGZ3X</th>\n",
       "      <td>4600</td>\n",
       "      <td>0</td>\n",
       "    </tr>\n",
       "    <tr>\n",
       "      <th>ZZZTR5-QSI6D3</th>\n",
       "      <td>5900</td>\n",
       "      <td>0</td>\n",
       "    </tr>\n",
       "    <tr>\n",
       "      <th>ZZZV9K-NM9B4Z</th>\n",
       "      <td>3900</td>\n",
       "      <td>0</td>\n",
       "    </tr>\n",
       "    <tr>\n",
       "      <th>ZZZVH1-2OJT7I</th>\n",
       "      <td>5250</td>\n",
       "      <td>0</td>\n",
       "    </tr>\n",
       "  </tbody>\n",
       "</table>\n",
       "<p>1079285 rows × 2 columns</p>\n",
       "</div>"
      ],
      "text/plain": [
       "               cash  anomaly_big\n",
       "user_id                         \n",
       "00036L-1T885I  7600            0\n",
       "0004MK-MRBUKF  6150            0\n",
       "0004MK-VW0O9L  6300            0\n",
       "0005S4-UEC6BE  5000            0\n",
       "0007I5-EWUD6O  6350            0\n",
       "...             ...          ...\n",
       "ZZZPEX-P2T8BH  6600            0\n",
       "ZZZTEN-0QGZ3X  4600            0\n",
       "ZZZTR5-QSI6D3  5900            0\n",
       "ZZZV9K-NM9B4Z  3900            0\n",
       "ZZZVH1-2OJT7I  5250            0\n",
       "\n",
       "[1079285 rows x 2 columns]"
      ]
     },
     "execution_count": 30,
     "metadata": {},
     "output_type": "execute_result"
    }
   ],
   "source": [
    "notcheat = notcheat_cash[notcheat_cash['anomaly_big'] == 0]\n",
    "notcheat.sort_values('user_id')"
   ]
  },
  {
   "cell_type": "markdown",
   "id": "61832f46",
   "metadata": {},
   "source": [
    "Проверим вычищенный список на норм распредeление."
   ]
  },
  {
   "cell_type": "code",
   "execution_count": 31,
   "id": "a30b220d",
   "metadata": {},
   "outputs": [
    {
     "data": {
      "text/plain": [
       "Text(0.5, 1.0, 'Распределение V внутр валюты, полученной НЕ читерами')"
      ]
     },
     "execution_count": 31,
     "metadata": {},
     "output_type": "execute_result"
    },
    {
     "data": {
      "image/png": "[encoded data removed]",
      "text/plain": [
       "<Figure size 432x288 with 1 Axes>"
      ]
     },
     "metadata": {
      "needs_background": "light"
     },
     "output_type": "display_data"
    }
   ],
   "source": [
    "# построим гистограмму распределения\n",
    "notcheat['cash'].hist(bins = 100)\n",
    "plt.title('Распределение V внутр валюты, полученной НЕ читерами')"
   ]
  },
  {
   "cell_type": "code",
   "execution_count": 32,
   "id": "336734f2",
   "metadata": {},
   "outputs": [
    {
     "data": {
      "text/plain": [
       "Text(0.5, 1.0, 'Распределение V внутр валюты, полученной НЕ читерами')"
      ]
     },
     "execution_count": 32,
     "metadata": {},
     "output_type": "execute_result"
    },
    {
     "data": {
      "image/png": "[encoded data removed]",
      "text/plain": [
       "<Figure size 432x288 with 1 Axes>"
      ]
     },
     "metadata": {
      "needs_background": "light"
     },
     "output_type": "display_data"
    }
   ],
   "source": [
    "notcheat['cash'].plot()\n",
    "plt.title('Распределение V внутр валюты, полученной НЕ читерами')"
   ]
  },
  {
   "cell_type": "code",
   "execution_count": 33,
   "id": "2f0f5759",
   "metadata": {},
   "outputs": [
    {
     "data": {
      "image/png": "[encoded data removed]",
      "text/plain": [
       "<Figure size 432x288 with 1 Axes>"
      ]
     },
     "metadata": {
      "needs_background": "light"
     },
     "output_type": "display_data"
    }
   ],
   "source": [
    "# построим график QQ plot\n",
    "sm.qqplot(notcheat['cash'], fit = True)\n",
    "plt.title('QQ plot')\n",
    "plt.show()"
   ]
  },
  {
   "cell_type": "markdown",
   "id": "f6506d3d",
   "metadata": {},
   "source": [
    "Теперь видим, что данные очень близки к Гауссову распределению, график под 45 градусов."
   ]
  },
  {
   "cell_type": "markdown",
   "id": "7e19d4ac",
   "metadata": {},
   "source": [
    " "
   ]
  },
  {
   "cell_type": "markdown",
   "id": "01c96b04",
   "metadata": {},
   "source": [
    " "
   ]
  },
  {
   "cell_type": "markdown",
   "id": "ddd5206f",
   "metadata": {},
   "source": [
    " "
   ]
  },
  {
   "cell_type": "markdown",
   "id": "322d66da",
   "metadata": {},
   "source": [
    " "
   ]
  },
  {
   "cell_type": "markdown",
   "id": "c6a9260b",
   "metadata": {},
   "source": [
    " "
   ]
  },
  {
   "cell_type": "markdown",
   "id": "9d30e197",
   "metadata": {},
   "source": [
    " "
   ]
  },
  {
   "cell_type": "markdown",
   "id": "f924d570",
   "metadata": {},
   "source": [
    "  "
   ]
  },
  {
   "cell_type": "markdown",
   "id": "da746919",
   "metadata": {},
   "source": [
    " "
   ]
  },
  {
   "cell_type": "markdown",
   "id": "7c6bb4e3",
   "metadata": {},
   "source": [
    " "
   ]
  },
  {
   "cell_type": "markdown",
   "id": "ca22e700",
   "metadata": {},
   "source": [
    " "
   ]
  },
  {
   "cell_type": "markdown",
   "id": "eb839392",
   "metadata": {},
   "source": [
    "Данные по игрокам вычищены от читеров для дальнейшего проведения анализа a/b-тестирования."
   ]
  },
  {
   "cell_type": "code",
   "execution_count": 36,
   "id": "88d9b491",
   "metadata": {},
   "outputs": [
    {
     "data": {
      "text/html": [
       "<div>\n",
       "<style scoped>\n",
       "    .dataframe tbody tr th:only-of-type {\n",
       "        vertical-align: middle;\n",
       "    }\n",
       "\n",
       "    .dataframe tbody tr th {\n",
       "        vertical-align: top;\n",
       "    }\n",
       "\n",
       "    .dataframe thead th {\n",
       "        text-align: right;\n",
       "    }\n",
       "</style>\n",
       "<table border=\"1\" class=\"dataframe\">\n",
       "  <thead>\n",
       "    <tr style=\"text-align: right;\">\n",
       "      <th></th>\n",
       "      <th>cash</th>\n",
       "      <th>anomaly_big</th>\n",
       "    </tr>\n",
       "    <tr>\n",
       "      <th>user_id</th>\n",
       "      <th></th>\n",
       "      <th></th>\n",
       "    </tr>\n",
       "  </thead>\n",
       "  <tbody>\n",
       "    <tr>\n",
       "      <th>00036L-1T885I</th>\n",
       "      <td>7600</td>\n",
       "      <td>0</td>\n",
       "    </tr>\n",
       "    <tr>\n",
       "      <th>0004MK-MRBUKF</th>\n",
       "      <td>6150</td>\n",
       "      <td>0</td>\n",
       "    </tr>\n",
       "    <tr>\n",
       "      <th>0004MK-VW0O9L</th>\n",
       "      <td>6300</td>\n",
       "      <td>0</td>\n",
       "    </tr>\n",
       "    <tr>\n",
       "      <th>0005S4-UEC6BE</th>\n",
       "      <td>5000</td>\n",
       "      <td>0</td>\n",
       "    </tr>\n",
       "    <tr>\n",
       "      <th>0007I5-EWUD6O</th>\n",
       "      <td>6350</td>\n",
       "      <td>0</td>\n",
       "    </tr>\n",
       "    <tr>\n",
       "      <th>...</th>\n",
       "      <td>...</td>\n",
       "      <td>...</td>\n",
       "    </tr>\n",
       "    <tr>\n",
       "      <th>ZZZPEX-P2T8BH</th>\n",
       "      <td>6600</td>\n",
       "      <td>0</td>\n",
       "    </tr>\n",
       "    <tr>\n",
       "      <th>ZZZTEN-0QGZ3X</th>\n",
       "      <td>4600</td>\n",
       "      <td>0</td>\n",
       "    </tr>\n",
       "    <tr>\n",
       "      <th>ZZZTR5-QSI6D3</th>\n",
       "      <td>5900</td>\n",
       "      <td>0</td>\n",
       "    </tr>\n",
       "    <tr>\n",
       "      <th>ZZZV9K-NM9B4Z</th>\n",
       "      <td>3900</td>\n",
       "      <td>0</td>\n",
       "    </tr>\n",
       "    <tr>\n",
       "      <th>ZZZVH1-2OJT7I</th>\n",
       "      <td>5250</td>\n",
       "      <td>0</td>\n",
       "    </tr>\n",
       "  </tbody>\n",
       "</table>\n",
       "<p>1079285 rows × 2 columns</p>\n",
       "</div>"
      ],
      "text/plain": [
       "               cash  anomaly_big\n",
       "user_id                         \n",
       "00036L-1T885I  7600            0\n",
       "0004MK-MRBUKF  6150            0\n",
       "0004MK-VW0O9L  6300            0\n",
       "0005S4-UEC6BE  5000            0\n",
       "0007I5-EWUD6O  6350            0\n",
       "...             ...          ...\n",
       "ZZZPEX-P2T8BH  6600            0\n",
       "ZZZTEN-0QGZ3X  4600            0\n",
       "ZZZTR5-QSI6D3  5900            0\n",
       "ZZZV9K-NM9B4Z  3900            0\n",
       "ZZZVH1-2OJT7I  5250            0\n",
       "\n",
       "[1079285 rows x 2 columns]"
      ]
     },
     "execution_count": 36,
     "metadata": {},
     "output_type": "execute_result"
    }
   ],
   "source": [
    "notcheat.sort_values('user_id')"
   ]
  },
  {
   "cell_type": "markdown",
   "id": "5034ae2b",
   "metadata": {},
   "source": [
    "Оставим в табл notcheat только перечень неповторяющихся user_id игроков - не читеров (удалим столбцы anomaly_big и cash)."
   ]
  },
  {
   "cell_type": "code",
   "execution_count": 40,
   "id": "bc92eeda",
   "metadata": {},
   "outputs": [
    {
     "data": {
      "text/html": [
       "<div>\n",
       "<style scoped>\n",
       "    .dataframe tbody tr th:only-of-type {\n",
       "        vertical-align: middle;\n",
       "    }\n",
       "\n",
       "    .dataframe tbody tr th {\n",
       "        vertical-align: top;\n",
       "    }\n",
       "\n",
       "    .dataframe thead th {\n",
       "        text-align: right;\n",
       "    }\n",
       "</style>\n",
       "<table border=\"1\" class=\"dataframe\">\n",
       "  <thead>\n",
       "    <tr style=\"text-align: right;\">\n",
       "      <th></th>\n",
       "    </tr>\n",
       "    <tr>\n",
       "      <th>user_id</th>\n",
       "    </tr>\n",
       "  </thead>\n",
       "  <tbody>\n",
       "    <tr>\n",
       "      <th>00036L-1T885I</th>\n",
       "    </tr>\n",
       "    <tr>\n",
       "      <th>0004MK-MRBUKF</th>\n",
       "    </tr>\n",
       "    <tr>\n",
       "      <th>0004MK-VW0O9L</th>\n",
       "    </tr>\n",
       "    <tr>\n",
       "      <th>0005S4-UEC6BE</th>\n",
       "    </tr>\n",
       "    <tr>\n",
       "      <th>0007I5-EWUD6O</th>\n",
       "    </tr>\n",
       "    <tr>\n",
       "      <th>...</th>\n",
       "    </tr>\n",
       "    <tr>\n",
       "      <th>ZZZPEX-P2T8BH</th>\n",
       "    </tr>\n",
       "    <tr>\n",
       "      <th>ZZZTEN-0QGZ3X</th>\n",
       "    </tr>\n",
       "    <tr>\n",
       "      <th>ZZZTR5-QSI6D3</th>\n",
       "    </tr>\n",
       "    <tr>\n",
       "      <th>ZZZV9K-NM9B4Z</th>\n",
       "    </tr>\n",
       "    <tr>\n",
       "      <th>ZZZVH1-2OJT7I</th>\n",
       "    </tr>\n",
       "  </tbody>\n",
       "</table>\n",
       "<p>1079285 rows × 0 columns</p>\n",
       "</div>"
      ],
      "text/plain": [
       "Empty DataFrame\n",
       "Columns: []\n",
       "Index: [00036L-1T885I, 0004MK-MRBUKF, 0004MK-VW0O9L, 0005S4-UEC6BE, 0007I5-EWUD6O, 0009DN-TWTJIG, 000A88-I8NCEL, 000B68-JX82RN, 000B9M-CLSPQD, 000F5V-PDHPGB, 000FGL-B0RMB9, 000GCO-EY0QBQ, 000GOD-0KXGY5, 000IF8-UU506H, 000IOD-BG0LRG, 000IP5-YWFJUK, 000IX6-VZLBS1, 000JK3-VMUGDX, 000KCL-NZW0HP, 000OSN-DWQNSM, 000RX9-5YYMGT, 000SHU-W066BT, 000VUR-GOM0WQ, 000Y97-TS8SCA, 000ZGC-DIN1B8, 0010WN-5F7MJS, 00110R-7KB5YJ, 00125T-4TGLN5, 0012X0-XOIFO3, 00132X-8XCJLP, 0014OK-24JWQ6, 001614-WIIQ7N, 001836-R41SE4, 001A08-2LDJ06, 001CDL-X0VK10, 001DF4-8KCCNY, 001ELA-M6PPC8, 001KO4-TM7NT3, 001KOA-ARCSB6, 001KV7-3M9D6W, 001OMT-4LD4L3, 001OOW-QXYFXH, 001Q6Y-DAY70Y, 001R4O-191TJD, 001XF4-DYIB3U, 0020I7-N4Z2TX, 0021TD-WYWOSS, 0022XL-BUC1QH, 0023F4-PPGTX1, 0023ZL-AST2JM, 00246B-IVC4GB, 0024E3-EJ8QDG, 0027E0-EZNT30, 0027YR-MULYFQ, 0028UQ-XZLCTJ, 0029WP-DGN1SX, 002B9B-DZGFEU, 002BWL-ZEHNEL, 002CEX-TOQF8H, 002E1K-BLORTZ, 002GSA-6S3J3C, 002GTV-O3L4TN, 002HYS-3J45BH, 002KMC-DFR6LS, 002NAZ-IU2JEO, 002O6R-B3UPW5, 002PIJ-B544GA, 002RXV-5BQPSG, 002TU4-ODSY4H, 002V6S-UP8YVS, 002W8H-JPQCI5, 002XE0-7MWNYR, 002XEH-NZVHO7, 002XJT-IWUZP9, 002Z57-CLCKN4, 0032O9-NO83N8, 0033NQ-2YQ62P, 0036JT-GQ32PK, 0038W9-4P8676, 0039GV-DENXJN, 003A1H-ZIIFE4, 003AAC-6NWCX9, 003B79-EY7CL8, 003BB8-ZRNNAO, 003D4A-1X1JLE, 003D86-G96I9R, 003FPY-RNUS3M, 003G2M-6689E8, 003JWP-0GQYT6, 003L21-5J5K7R, 003MFB-J3EEC8, 003O74-X68WBH, 003PBR-IZ2RKE, 003RZ4-VH3UC5, 003SDC-PUCPW6, 0041FD-Y3HIY9, 0042G9-UH643K, 0047LO-70H02Q, 0048FN-IP5UC2, 0048XL-PC4ZUA, ...]\n",
       "\n",
       "[1079285 rows x 0 columns]"
      ]
     },
     "execution_count": 40,
     "metadata": {},
     "output_type": "execute_result"
    }
   ],
   "source": [
    "notcheat = notcheat.drop(columns=['anomaly_big', 'cash']) \n",
    "notcheat"
   ]
  },
  {
   "cell_type": "markdown",
   "id": "46fd25e4",
   "metadata": {},
   "source": [
    "Разделим датафрейм df_platforms на 3 по видам игровых платформ."
   ]
  },
  {
   "cell_type": "code",
   "execution_count": 86,
   "id": "4b25abe3",
   "metadata": {},
   "outputs": [
    {
     "data": {
      "text/html": [
       "<div>\n",
       "<style scoped>\n",
       "    .dataframe tbody tr th:only-of-type {\n",
       "        vertical-align: middle;\n",
       "    }\n",
       "\n",
       "    .dataframe tbody tr th {\n",
       "        vertical-align: top;\n",
       "    }\n",
       "\n",
       "    .dataframe thead th {\n",
       "        text-align: right;\n",
       "    }\n",
       "</style>\n",
       "<table border=\"1\" class=\"dataframe\">\n",
       "  <thead>\n",
       "    <tr style=\"text-align: right;\">\n",
       "      <th></th>\n",
       "      <th>user_id</th>\n",
       "    </tr>\n",
       "    <tr>\n",
       "      <th>platform</th>\n",
       "      <th></th>\n",
       "    </tr>\n",
       "  </thead>\n",
       "  <tbody>\n",
       "    <tr>\n",
       "      <th>PC</th>\n",
       "      <td>2881992</td>\n",
       "    </tr>\n",
       "    <tr>\n",
       "      <th>PS4</th>\n",
       "      <td>2873752</td>\n",
       "    </tr>\n",
       "    <tr>\n",
       "      <th>XBox</th>\n",
       "      <td>2884256</td>\n",
       "    </tr>\n",
       "  </tbody>\n",
       "</table>\n",
       "</div>"
      ],
      "text/plain": [
       "          user_id\n",
       "platform         \n",
       "PC        2881992\n",
       "PS4       2873752\n",
       "XBox      2884256"
      ]
     },
     "execution_count": 86,
     "metadata": {},
     "output_type": "execute_result"
    }
   ],
   "source": [
    "df_platforms.groupby('platform').agg('count')"
   ]
  },
  {
   "cell_type": "markdown",
   "id": "713942a3",
   "metadata": {},
   "source": [
    "Подготовим сводный датафрейм с данными по платежам и второй с тратами внутренней валюты пользователей площадки PC."
   ]
  },
  {
   "cell_type": "code",
   "execution_count": 87,
   "id": "c50bef3f",
   "metadata": {},
   "outputs": [],
   "source": [
    "# Датафрейм с уникальным перечнем user_id РС игровой платформы\n",
    "user_PC = df_platforms[df_platforms['platform'] == 'PC'].groupby('user_id').agg('count')"
   ]
  },
  {
   "cell_type": "code",
   "execution_count": 89,
   "id": "240b25e4",
   "metadata": {},
   "outputs": [
    {
     "name": "stderr",
     "output_type": "stream",
     "text": [
      "C:\\Users\\HP\\AppData\\Local\\Temp\\ipykernel_8964\\3962336163.py:1: FutureWarning: In a future version of pandas all arguments of DataFrame.drop except for the argument 'labels' will be keyword-only.\n",
      "  user_PC = user_PC.drop('platform', 1)\n"
     ]
    },
    {
     "data": {
      "text/html": [
       "<div>\n",
       "<style scoped>\n",
       "    .dataframe tbody tr th:only-of-type {\n",
       "        vertical-align: middle;\n",
       "    }\n",
       "\n",
       "    .dataframe tbody tr th {\n",
       "        vertical-align: top;\n",
       "    }\n",
       "\n",
       "    .dataframe thead th {\n",
       "        text-align: right;\n",
       "    }\n",
       "</style>\n",
       "<table border=\"1\" class=\"dataframe\">\n",
       "  <thead>\n",
       "    <tr style=\"text-align: right;\">\n",
       "      <th></th>\n",
       "      <th>platform</th>\n",
       "    </tr>\n",
       "    <tr>\n",
       "      <th>user_id</th>\n",
       "      <th></th>\n",
       "    </tr>\n",
       "  </thead>\n",
       "  <tbody>\n",
       "    <tr>\n",
       "      <th>0004MK-VW0O9L</th>\n",
       "      <td>PC</td>\n",
       "    </tr>\n",
       "    <tr>\n",
       "      <th>0005S4-UEC6BE</th>\n",
       "      <td>PC</td>\n",
       "    </tr>\n",
       "    <tr>\n",
       "      <th>0007I5-EWUD6O</th>\n",
       "      <td>PC</td>\n",
       "    </tr>\n",
       "    <tr>\n",
       "      <th>000GCO-EY0QBQ</th>\n",
       "      <td>PC</td>\n",
       "    </tr>\n",
       "    <tr>\n",
       "      <th>000GOD-0KXGY5</th>\n",
       "      <td>PC</td>\n",
       "    </tr>\n",
       "    <tr>\n",
       "      <th>...</th>\n",
       "      <td>...</td>\n",
       "    </tr>\n",
       "    <tr>\n",
       "      <th>ZZZC9G-FQ4ABS</th>\n",
       "      <td>PC</td>\n",
       "    </tr>\n",
       "    <tr>\n",
       "      <th>ZZZIS2-9EYJF3</th>\n",
       "      <td>PC</td>\n",
       "    </tr>\n",
       "    <tr>\n",
       "      <th>ZZZONB-1W7QEW</th>\n",
       "      <td>PC</td>\n",
       "    </tr>\n",
       "    <tr>\n",
       "      <th>ZZZPEX-P2T8BH</th>\n",
       "      <td>PC</td>\n",
       "    </tr>\n",
       "    <tr>\n",
       "      <th>ZZZVH1-2OJT7I</th>\n",
       "      <td>PC</td>\n",
       "    </tr>\n",
       "  </tbody>\n",
       "</table>\n",
       "<p>360249 rows × 1 columns</p>\n",
       "</div>"
      ],
      "text/plain": [
       "              platform\n",
       "user_id               \n",
       "0004MK-VW0O9L       PC\n",
       "0005S4-UEC6BE       PC\n",
       "0007I5-EWUD6O       PC\n",
       "000GCO-EY0QBQ       PC\n",
       "000GOD-0KXGY5       PC\n",
       "...                ...\n",
       "ZZZC9G-FQ4ABS       PC\n",
       "ZZZIS2-9EYJF3       PC\n",
       "ZZZONB-1W7QEW       PC\n",
       "ZZZPEX-P2T8BH       PC\n",
       "ZZZVH1-2OJT7I       PC\n",
       "\n",
       "[360249 rows x 1 columns]"
      ]
     },
     "execution_count": 89,
     "metadata": {},
     "output_type": "execute_result"
    }
   ],
   "source": [
    "user_PC = user_PC.drop('platform', 1)\n",
    "user_PC['platform'] = 'PC'\n",
    "user_PC"
   ]
  },
  {
   "cell_type": "code",
   "execution_count": 90,
   "id": "19c01e0c",
   "metadata": {},
   "outputs": [
    {
     "data": {
      "text/html": [
       "<div>\n",
       "<style scoped>\n",
       "    .dataframe tbody tr th:only-of-type {\n",
       "        vertical-align: middle;\n",
       "    }\n",
       "\n",
       "    .dataframe tbody tr th {\n",
       "        vertical-align: top;\n",
       "    }\n",
       "\n",
       "    .dataframe thead th {\n",
       "        text-align: right;\n",
       "    }\n",
       "</style>\n",
       "<table border=\"1\" class=\"dataframe\">\n",
       "  <thead>\n",
       "    <tr style=\"text-align: right;\">\n",
       "      <th></th>\n",
       "      <th>platform</th>\n",
       "    </tr>\n",
       "    <tr>\n",
       "      <th>user_id</th>\n",
       "      <th></th>\n",
       "    </tr>\n",
       "  </thead>\n",
       "  <tbody>\n",
       "    <tr>\n",
       "      <th>0004MK-VW0O9L</th>\n",
       "      <td>PC</td>\n",
       "    </tr>\n",
       "    <tr>\n",
       "      <th>0005S4-UEC6BE</th>\n",
       "      <td>PC</td>\n",
       "    </tr>\n",
       "    <tr>\n",
       "      <th>0007I5-EWUD6O</th>\n",
       "      <td>PC</td>\n",
       "    </tr>\n",
       "    <tr>\n",
       "      <th>000GCO-EY0QBQ</th>\n",
       "      <td>PC</td>\n",
       "    </tr>\n",
       "    <tr>\n",
       "      <th>000GOD-0KXGY5</th>\n",
       "      <td>PC</td>\n",
       "    </tr>\n",
       "    <tr>\n",
       "      <th>...</th>\n",
       "      <td>...</td>\n",
       "    </tr>\n",
       "    <tr>\n",
       "      <th>ZZZC9G-FQ4ABS</th>\n",
       "      <td>PC</td>\n",
       "    </tr>\n",
       "    <tr>\n",
       "      <th>ZZZIS2-9EYJF3</th>\n",
       "      <td>PC</td>\n",
       "    </tr>\n",
       "    <tr>\n",
       "      <th>ZZZONB-1W7QEW</th>\n",
       "      <td>PC</td>\n",
       "    </tr>\n",
       "    <tr>\n",
       "      <th>ZZZPEX-P2T8BH</th>\n",
       "      <td>PC</td>\n",
       "    </tr>\n",
       "    <tr>\n",
       "      <th>ZZZVH1-2OJT7I</th>\n",
       "      <td>PC</td>\n",
       "    </tr>\n",
       "  </tbody>\n",
       "</table>\n",
       "<p>359542 rows × 1 columns</p>\n",
       "</div>"
      ],
      "text/plain": [
       "              platform\n",
       "user_id               \n",
       "0004MK-VW0O9L       PC\n",
       "0005S4-UEC6BE       PC\n",
       "0007I5-EWUD6O       PC\n",
       "000GCO-EY0QBQ       PC\n",
       "000GOD-0KXGY5       PC\n",
       "...                ...\n",
       "ZZZC9G-FQ4ABS       PC\n",
       "ZZZIS2-9EYJF3       PC\n",
       "ZZZONB-1W7QEW       PC\n",
       "ZZZPEX-P2T8BH       PC\n",
       "ZZZVH1-2OJT7I       PC\n",
       "\n",
       "[359542 rows x 1 columns]"
      ]
     },
     "execution_count": 90,
     "metadata": {},
     "output_type": "execute_result"
    }
   ],
   "source": [
    "# соединим таблицы user_PC и табл notcheat (с user_id = \"не читерами\"), \n",
    "# получим перечень уникальных user_id PC без читеров:\n",
    "user_PC1 = pd.merge(user_PC, notcheat, left_on='user_id', right_on='user_id') \n",
    "user_PC1"
   ]
  },
  {
   "cell_type": "markdown",
   "id": "1d9ad86d",
   "metadata": {},
   "source": [
    "Добавим данные ab-group по \"не читерам\" площадки PC."
   ]
  },
  {
   "cell_type": "code",
   "execution_count": 55,
   "id": "00d9474a",
   "metadata": {},
   "outputs": [
    {
     "data": {
      "text/html": [
       "<div>\n",
       "<style scoped>\n",
       "    .dataframe tbody tr th:only-of-type {\n",
       "        vertical-align: middle;\n",
       "    }\n",
       "\n",
       "    .dataframe tbody tr th {\n",
       "        vertical-align: top;\n",
       "    }\n",
       "\n",
       "    .dataframe thead th {\n",
       "        text-align: right;\n",
       "    }\n",
       "</style>\n",
       "<table border=\"1\" class=\"dataframe\">\n",
       "  <thead>\n",
       "    <tr style=\"text-align: right;\">\n",
       "      <th></th>\n",
       "      <th>group</th>\n",
       "    </tr>\n",
       "    <tr>\n",
       "      <th>user_id</th>\n",
       "      <th></th>\n",
       "    </tr>\n",
       "  </thead>\n",
       "  <tbody>\n",
       "    <tr>\n",
       "      <th>00036L-1T885I</th>\n",
       "      <td>control</td>\n",
       "    </tr>\n",
       "    <tr>\n",
       "      <th>0004MK-MRBUKF</th>\n",
       "      <td>control</td>\n",
       "    </tr>\n",
       "    <tr>\n",
       "      <th>0004MK-VW0O9L</th>\n",
       "      <td>test</td>\n",
       "    </tr>\n",
       "    <tr>\n",
       "      <th>0005S4-UEC6BE</th>\n",
       "      <td>test</td>\n",
       "    </tr>\n",
       "    <tr>\n",
       "      <th>0007I5-EWUD6O</th>\n",
       "      <td>test</td>\n",
       "    </tr>\n",
       "    <tr>\n",
       "      <th>...</th>\n",
       "      <td>...</td>\n",
       "    </tr>\n",
       "    <tr>\n",
       "      <th>ZZZPEX-P2T8BH</th>\n",
       "      <td>test</td>\n",
       "    </tr>\n",
       "    <tr>\n",
       "      <th>ZZZTEN-0QGZ3X</th>\n",
       "      <td>test</td>\n",
       "    </tr>\n",
       "    <tr>\n",
       "      <th>ZZZTR5-QSI6D3</th>\n",
       "      <td>test</td>\n",
       "    </tr>\n",
       "    <tr>\n",
       "      <th>ZZZV9K-NM9B4Z</th>\n",
       "      <td>control</td>\n",
       "    </tr>\n",
       "    <tr>\n",
       "      <th>ZZZVH1-2OJT7I</th>\n",
       "      <td>control</td>\n",
       "    </tr>\n",
       "  </tbody>\n",
       "</table>\n",
       "<p>1080000 rows × 1 columns</p>\n",
       "</div>"
      ],
      "text/plain": [
       "                 group\n",
       "user_id               \n",
       "00036L-1T885I  control\n",
       "0004MK-MRBUKF  control\n",
       "0004MK-VW0O9L     test\n",
       "0005S4-UEC6BE     test\n",
       "0007I5-EWUD6O     test\n",
       "...                ...\n",
       "ZZZPEX-P2T8BH     test\n",
       "ZZZTEN-0QGZ3X     test\n",
       "ZZZTR5-QSI6D3     test\n",
       "ZZZV9K-NM9B4Z  control\n",
       "ZZZVH1-2OJT7I  control\n",
       "\n",
       "[1080000 rows x 1 columns]"
      ]
     },
     "execution_count": 55,
     "metadata": {},
     "output_type": "execute_result"
    }
   ],
   "source": [
    "abgroup = df_abgroup.groupby('user_id').agg('max')[['group']]\n",
    "abgroup"
   ]
  },
  {
   "cell_type": "code",
   "execution_count": 93,
   "id": "831b2cc2",
   "metadata": {},
   "outputs": [
    {
     "data": {
      "text/html": [
       "<div>\n",
       "<style scoped>\n",
       "    .dataframe tbody tr th:only-of-type {\n",
       "        vertical-align: middle;\n",
       "    }\n",
       "\n",
       "    .dataframe tbody tr th {\n",
       "        vertical-align: top;\n",
       "    }\n",
       "\n",
       "    .dataframe thead th {\n",
       "        text-align: right;\n",
       "    }\n",
       "</style>\n",
       "<table border=\"1\" class=\"dataframe\">\n",
       "  <thead>\n",
       "    <tr style=\"text-align: right;\">\n",
       "      <th></th>\n",
       "      <th>platform</th>\n",
       "      <th>group</th>\n",
       "    </tr>\n",
       "    <tr>\n",
       "      <th>user_id</th>\n",
       "      <th></th>\n",
       "      <th></th>\n",
       "    </tr>\n",
       "  </thead>\n",
       "  <tbody>\n",
       "    <tr>\n",
       "      <th>0004MK-VW0O9L</th>\n",
       "      <td>PC</td>\n",
       "      <td>test</td>\n",
       "    </tr>\n",
       "    <tr>\n",
       "      <th>0005S4-UEC6BE</th>\n",
       "      <td>PC</td>\n",
       "      <td>test</td>\n",
       "    </tr>\n",
       "    <tr>\n",
       "      <th>0007I5-EWUD6O</th>\n",
       "      <td>PC</td>\n",
       "      <td>test</td>\n",
       "    </tr>\n",
       "    <tr>\n",
       "      <th>000GCO-EY0QBQ</th>\n",
       "      <td>PC</td>\n",
       "      <td>control</td>\n",
       "    </tr>\n",
       "    <tr>\n",
       "      <th>000GOD-0KXGY5</th>\n",
       "      <td>PC</td>\n",
       "      <td>control</td>\n",
       "    </tr>\n",
       "    <tr>\n",
       "      <th>...</th>\n",
       "      <td>...</td>\n",
       "      <td>...</td>\n",
       "    </tr>\n",
       "    <tr>\n",
       "      <th>ZZZC9G-FQ4ABS</th>\n",
       "      <td>PC</td>\n",
       "      <td>test</td>\n",
       "    </tr>\n",
       "    <tr>\n",
       "      <th>ZZZIS2-9EYJF3</th>\n",
       "      <td>PC</td>\n",
       "      <td>test</td>\n",
       "    </tr>\n",
       "    <tr>\n",
       "      <th>ZZZONB-1W7QEW</th>\n",
       "      <td>PC</td>\n",
       "      <td>test</td>\n",
       "    </tr>\n",
       "    <tr>\n",
       "      <th>ZZZPEX-P2T8BH</th>\n",
       "      <td>PC</td>\n",
       "      <td>test</td>\n",
       "    </tr>\n",
       "    <tr>\n",
       "      <th>ZZZVH1-2OJT7I</th>\n",
       "      <td>PC</td>\n",
       "      <td>control</td>\n",
       "    </tr>\n",
       "  </tbody>\n",
       "</table>\n",
       "<p>359542 rows × 2 columns</p>\n",
       "</div>"
      ],
      "text/plain": [
       "              platform    group\n",
       "user_id                        \n",
       "0004MK-VW0O9L       PC     test\n",
       "0005S4-UEC6BE       PC     test\n",
       "0007I5-EWUD6O       PC     test\n",
       "000GCO-EY0QBQ       PC  control\n",
       "000GOD-0KXGY5       PC  control\n",
       "...                ...      ...\n",
       "ZZZC9G-FQ4ABS       PC     test\n",
       "ZZZIS2-9EYJF3       PC     test\n",
       "ZZZONB-1W7QEW       PC     test\n",
       "ZZZPEX-P2T8BH       PC     test\n",
       "ZZZVH1-2OJT7I       PC  control\n",
       "\n",
       "[359542 rows x 2 columns]"
      ]
     },
     "execution_count": 93,
     "metadata": {},
     "output_type": "execute_result"
    }
   ],
   "source": [
    "user_PC_group = pd.merge(user_PC1, abgroup, left_on='user_id', right_on='user_id') \n",
    "user_PC_group.sort_values('user_id')"
   ]
  },
  {
   "cell_type": "markdown",
   "id": "0ee382c6",
   "metadata": {},
   "source": [
    "Добавим в сводный датафрейм по PC (user_PC_group) данные по платежам."
   ]
  },
  {
   "cell_type": "code",
   "execution_count": 94,
   "id": "12db9d69",
   "metadata": {},
   "outputs": [
    {
     "data": {
      "text/html": [
       "<div>\n",
       "<style scoped>\n",
       "    .dataframe tbody tr th:only-of-type {\n",
       "        vertical-align: middle;\n",
       "    }\n",
       "\n",
       "    .dataframe tbody tr th {\n",
       "        vertical-align: top;\n",
       "    }\n",
       "\n",
       "    .dataframe thead th {\n",
       "        text-align: right;\n",
       "    }\n",
       "</style>\n",
       "<table border=\"1\" class=\"dataframe\">\n",
       "  <thead>\n",
       "    <tr style=\"text-align: right;\">\n",
       "      <th></th>\n",
       "      <th>user_id</th>\n",
       "      <th>platform</th>\n",
       "      <th>group</th>\n",
       "      <th>date</th>\n",
       "      <th>money</th>\n",
       "    </tr>\n",
       "  </thead>\n",
       "  <tbody>\n",
       "    <tr>\n",
       "      <th>1</th>\n",
       "      <td>0004MK-VW0O9L</td>\n",
       "      <td>PC</td>\n",
       "      <td>test</td>\n",
       "      <td>10.07.2021</td>\n",
       "      <td>0.00</td>\n",
       "    </tr>\n",
       "    <tr>\n",
       "      <th>3</th>\n",
       "      <td>0004MK-VW0O9L</td>\n",
       "      <td>PC</td>\n",
       "      <td>test</td>\n",
       "      <td>11.07.2021</td>\n",
       "      <td>0.00</td>\n",
       "    </tr>\n",
       "    <tr>\n",
       "      <th>6</th>\n",
       "      <td>0004MK-VW0O9L</td>\n",
       "      <td>PC</td>\n",
       "      <td>test</td>\n",
       "      <td>12.07.2021</td>\n",
       "      <td>0.00</td>\n",
       "    </tr>\n",
       "    <tr>\n",
       "      <th>2</th>\n",
       "      <td>0004MK-VW0O9L</td>\n",
       "      <td>PC</td>\n",
       "      <td>test</td>\n",
       "      <td>13.07.2021</td>\n",
       "      <td>0.99</td>\n",
       "    </tr>\n",
       "    <tr>\n",
       "      <th>0</th>\n",
       "      <td>0004MK-VW0O9L</td>\n",
       "      <td>PC</td>\n",
       "      <td>test</td>\n",
       "      <td>14.07.2021</td>\n",
       "      <td>1.99</td>\n",
       "    </tr>\n",
       "    <tr>\n",
       "      <th>4</th>\n",
       "      <td>0004MK-VW0O9L</td>\n",
       "      <td>PC</td>\n",
       "      <td>test</td>\n",
       "      <td>15.07.2021</td>\n",
       "      <td>0.99</td>\n",
       "    </tr>\n",
       "    <tr>\n",
       "      <th>7</th>\n",
       "      <td>0004MK-VW0O9L</td>\n",
       "      <td>PC</td>\n",
       "      <td>test</td>\n",
       "      <td>16.07.2021</td>\n",
       "      <td>0.00</td>\n",
       "    </tr>\n",
       "    <tr>\n",
       "      <th>5</th>\n",
       "      <td>0004MK-VW0O9L</td>\n",
       "      <td>PC</td>\n",
       "      <td>test</td>\n",
       "      <td>17.07.2021</td>\n",
       "      <td>0.99</td>\n",
       "    </tr>\n",
       "    <tr>\n",
       "      <th>12</th>\n",
       "      <td>0005S4-UEC6BE</td>\n",
       "      <td>PC</td>\n",
       "      <td>test</td>\n",
       "      <td>10.07.2021</td>\n",
       "      <td>0.99</td>\n",
       "    </tr>\n",
       "    <tr>\n",
       "      <th>11</th>\n",
       "      <td>0005S4-UEC6BE</td>\n",
       "      <td>PC</td>\n",
       "      <td>test</td>\n",
       "      <td>11.07.2021</td>\n",
       "      <td>1.99</td>\n",
       "    </tr>\n",
       "    <tr>\n",
       "      <th>15</th>\n",
       "      <td>0005S4-UEC6BE</td>\n",
       "      <td>PC</td>\n",
       "      <td>test</td>\n",
       "      <td>12.07.2021</td>\n",
       "      <td>0.99</td>\n",
       "    </tr>\n",
       "    <tr>\n",
       "      <th>8</th>\n",
       "      <td>0005S4-UEC6BE</td>\n",
       "      <td>PC</td>\n",
       "      <td>test</td>\n",
       "      <td>13.07.2021</td>\n",
       "      <td>0.99</td>\n",
       "    </tr>\n",
       "    <tr>\n",
       "      <th>10</th>\n",
       "      <td>0005S4-UEC6BE</td>\n",
       "      <td>PC</td>\n",
       "      <td>test</td>\n",
       "      <td>14.07.2021</td>\n",
       "      <td>0.00</td>\n",
       "    </tr>\n",
       "    <tr>\n",
       "      <th>14</th>\n",
       "      <td>0005S4-UEC6BE</td>\n",
       "      <td>PC</td>\n",
       "      <td>test</td>\n",
       "      <td>15.07.2021</td>\n",
       "      <td>0.00</td>\n",
       "    </tr>\n",
       "    <tr>\n",
       "      <th>9</th>\n",
       "      <td>0005S4-UEC6BE</td>\n",
       "      <td>PC</td>\n",
       "      <td>test</td>\n",
       "      <td>16.07.2021</td>\n",
       "      <td>0.00</td>\n",
       "    </tr>\n",
       "    <tr>\n",
       "      <th>13</th>\n",
       "      <td>0005S4-UEC6BE</td>\n",
       "      <td>PC</td>\n",
       "      <td>test</td>\n",
       "      <td>17.07.2021</td>\n",
       "      <td>0.99</td>\n",
       "    </tr>\n",
       "    <tr>\n",
       "      <th>17</th>\n",
       "      <td>0007I5-EWUD6O</td>\n",
       "      <td>PC</td>\n",
       "      <td>test</td>\n",
       "      <td>10.07.2021</td>\n",
       "      <td>0.99</td>\n",
       "    </tr>\n",
       "    <tr>\n",
       "      <th>16</th>\n",
       "      <td>0007I5-EWUD6O</td>\n",
       "      <td>PC</td>\n",
       "      <td>test</td>\n",
       "      <td>11.07.2021</td>\n",
       "      <td>0.99</td>\n",
       "    </tr>\n",
       "    <tr>\n",
       "      <th>23</th>\n",
       "      <td>0007I5-EWUD6O</td>\n",
       "      <td>PC</td>\n",
       "      <td>test</td>\n",
       "      <td>12.07.2021</td>\n",
       "      <td>0.00</td>\n",
       "    </tr>\n",
       "    <tr>\n",
       "      <th>22</th>\n",
       "      <td>0007I5-EWUD6O</td>\n",
       "      <td>PC</td>\n",
       "      <td>test</td>\n",
       "      <td>13.07.2021</td>\n",
       "      <td>0.00</td>\n",
       "    </tr>\n",
       "  </tbody>\n",
       "</table>\n",
       "</div>"
      ],
      "text/plain": [
       "          user_id platform group        date  money\n",
       "1   0004MK-VW0O9L       PC  test  10.07.2021   0.00\n",
       "3   0004MK-VW0O9L       PC  test  11.07.2021   0.00\n",
       "6   0004MK-VW0O9L       PC  test  12.07.2021   0.00\n",
       "2   0004MK-VW0O9L       PC  test  13.07.2021   0.99\n",
       "0   0004MK-VW0O9L       PC  test  14.07.2021   1.99\n",
       "4   0004MK-VW0O9L       PC  test  15.07.2021   0.99\n",
       "7   0004MK-VW0O9L       PC  test  16.07.2021   0.00\n",
       "5   0004MK-VW0O9L       PC  test  17.07.2021   0.99\n",
       "12  0005S4-UEC6BE       PC  test  10.07.2021   0.99\n",
       "11  0005S4-UEC6BE       PC  test  11.07.2021   1.99\n",
       "15  0005S4-UEC6BE       PC  test  12.07.2021   0.99\n",
       "8   0005S4-UEC6BE       PC  test  13.07.2021   0.99\n",
       "10  0005S4-UEC6BE       PC  test  14.07.2021   0.00\n",
       "14  0005S4-UEC6BE       PC  test  15.07.2021   0.00\n",
       "9   0005S4-UEC6BE       PC  test  16.07.2021   0.00\n",
       "13  0005S4-UEC6BE       PC  test  17.07.2021   0.99\n",
       "17  0007I5-EWUD6O       PC  test  10.07.2021   0.99\n",
       "16  0007I5-EWUD6O       PC  test  11.07.2021   0.99\n",
       "23  0007I5-EWUD6O       PC  test  12.07.2021   0.00\n",
       "22  0007I5-EWUD6O       PC  test  13.07.2021   0.00"
      ]
     },
     "execution_count": 94,
     "metadata": {},
     "output_type": "execute_result"
    }
   ],
   "source": [
    "PC_money = pd.merge(user_PC_group, df_money, left_on='user_id', right_on='user_id') \n",
    "PC_money.sort_values(['user_id', 'date']).head(20)"
   ]
  },
  {
   "cell_type": "markdown",
   "id": "5c3000c3",
   "metadata": {},
   "source": [
    "Добавим в сводный датафрейм по PC (user_PC_group) данные по тратам внутриигровой валюты."
   ]
  },
  {
   "cell_type": "code",
   "execution_count": 95,
   "id": "29eb0692",
   "metadata": {},
   "outputs": [
    {
     "data": {
      "text/html": [
       "<div>\n",
       "<style scoped>\n",
       "    .dataframe tbody tr th:only-of-type {\n",
       "        vertical-align: middle;\n",
       "    }\n",
       "\n",
       "    .dataframe tbody tr th {\n",
       "        vertical-align: top;\n",
       "    }\n",
       "\n",
       "    .dataframe thead th {\n",
       "        text-align: right;\n",
       "    }\n",
       "</style>\n",
       "<table border=\"1\" class=\"dataframe\">\n",
       "  <thead>\n",
       "    <tr style=\"text-align: right;\">\n",
       "      <th></th>\n",
       "      <th>user_id</th>\n",
       "      <th>platform</th>\n",
       "      <th>group</th>\n",
       "      <th>date</th>\n",
       "      <th>cash</th>\n",
       "    </tr>\n",
       "  </thead>\n",
       "  <tbody>\n",
       "    <tr>\n",
       "      <th>4</th>\n",
       "      <td>0004MK-VW0O9L</td>\n",
       "      <td>PC</td>\n",
       "      <td>test</td>\n",
       "      <td>10.07.2021</td>\n",
       "      <td>0</td>\n",
       "    </tr>\n",
       "    <tr>\n",
       "      <th>1</th>\n",
       "      <td>0004MK-VW0O9L</td>\n",
       "      <td>PC</td>\n",
       "      <td>test</td>\n",
       "      <td>11.07.2021</td>\n",
       "      <td>50</td>\n",
       "    </tr>\n",
       "    <tr>\n",
       "      <th>0</th>\n",
       "      <td>0004MK-VW0O9L</td>\n",
       "      <td>PC</td>\n",
       "      <td>test</td>\n",
       "      <td>12.07.2021</td>\n",
       "      <td>550</td>\n",
       "    </tr>\n",
       "    <tr>\n",
       "      <th>6</th>\n",
       "      <td>0004MK-VW0O9L</td>\n",
       "      <td>PC</td>\n",
       "      <td>test</td>\n",
       "      <td>13.07.2021</td>\n",
       "      <td>1450</td>\n",
       "    </tr>\n",
       "    <tr>\n",
       "      <th>3</th>\n",
       "      <td>0004MK-VW0O9L</td>\n",
       "      <td>PC</td>\n",
       "      <td>test</td>\n",
       "      <td>14.07.2021</td>\n",
       "      <td>1250</td>\n",
       "    </tr>\n",
       "    <tr>\n",
       "      <th>7</th>\n",
       "      <td>0004MK-VW0O9L</td>\n",
       "      <td>PC</td>\n",
       "      <td>test</td>\n",
       "      <td>15.07.2021</td>\n",
       "      <td>1550</td>\n",
       "    </tr>\n",
       "    <tr>\n",
       "      <th>5</th>\n",
       "      <td>0004MK-VW0O9L</td>\n",
       "      <td>PC</td>\n",
       "      <td>test</td>\n",
       "      <td>16.07.2021</td>\n",
       "      <td>900</td>\n",
       "    </tr>\n",
       "    <tr>\n",
       "      <th>2</th>\n",
       "      <td>0004MK-VW0O9L</td>\n",
       "      <td>PC</td>\n",
       "      <td>test</td>\n",
       "      <td>17.07.2021</td>\n",
       "      <td>550</td>\n",
       "    </tr>\n",
       "    <tr>\n",
       "      <th>13</th>\n",
       "      <td>0005S4-UEC6BE</td>\n",
       "      <td>PC</td>\n",
       "      <td>test</td>\n",
       "      <td>10.07.2021</td>\n",
       "      <td>1200</td>\n",
       "    </tr>\n",
       "    <tr>\n",
       "      <th>9</th>\n",
       "      <td>0005S4-UEC6BE</td>\n",
       "      <td>PC</td>\n",
       "      <td>test</td>\n",
       "      <td>11.07.2021</td>\n",
       "      <td>1050</td>\n",
       "    </tr>\n",
       "    <tr>\n",
       "      <th>10</th>\n",
       "      <td>0005S4-UEC6BE</td>\n",
       "      <td>PC</td>\n",
       "      <td>test</td>\n",
       "      <td>12.07.2021</td>\n",
       "      <td>950</td>\n",
       "    </tr>\n",
       "    <tr>\n",
       "      <th>8</th>\n",
       "      <td>0005S4-UEC6BE</td>\n",
       "      <td>PC</td>\n",
       "      <td>test</td>\n",
       "      <td>13.07.2021</td>\n",
       "      <td>1250</td>\n",
       "    </tr>\n",
       "    <tr>\n",
       "      <th>12</th>\n",
       "      <td>0005S4-UEC6BE</td>\n",
       "      <td>PC</td>\n",
       "      <td>test</td>\n",
       "      <td>14.07.2021</td>\n",
       "      <td>550</td>\n",
       "    </tr>\n",
       "    <tr>\n",
       "      <th>11</th>\n",
       "      <td>0005S4-UEC6BE</td>\n",
       "      <td>PC</td>\n",
       "      <td>test</td>\n",
       "      <td>15.07.2021</td>\n",
       "      <td>0</td>\n",
       "    </tr>\n",
       "    <tr>\n",
       "      <th>15</th>\n",
       "      <td>0005S4-UEC6BE</td>\n",
       "      <td>PC</td>\n",
       "      <td>test</td>\n",
       "      <td>16.07.2021</td>\n",
       "      <td>0</td>\n",
       "    </tr>\n",
       "    <tr>\n",
       "      <th>14</th>\n",
       "      <td>0005S4-UEC6BE</td>\n",
       "      <td>PC</td>\n",
       "      <td>test</td>\n",
       "      <td>17.07.2021</td>\n",
       "      <td>0</td>\n",
       "    </tr>\n",
       "    <tr>\n",
       "      <th>21</th>\n",
       "      <td>0007I5-EWUD6O</td>\n",
       "      <td>PC</td>\n",
       "      <td>test</td>\n",
       "      <td>10.07.2021</td>\n",
       "      <td>1600</td>\n",
       "    </tr>\n",
       "    <tr>\n",
       "      <th>22</th>\n",
       "      <td>0007I5-EWUD6O</td>\n",
       "      <td>PC</td>\n",
       "      <td>test</td>\n",
       "      <td>11.07.2021</td>\n",
       "      <td>350</td>\n",
       "    </tr>\n",
       "    <tr>\n",
       "      <th>18</th>\n",
       "      <td>0007I5-EWUD6O</td>\n",
       "      <td>PC</td>\n",
       "      <td>test</td>\n",
       "      <td>12.07.2021</td>\n",
       "      <td>650</td>\n",
       "    </tr>\n",
       "    <tr>\n",
       "      <th>20</th>\n",
       "      <td>0007I5-EWUD6O</td>\n",
       "      <td>PC</td>\n",
       "      <td>test</td>\n",
       "      <td>13.07.2021</td>\n",
       "      <td>200</td>\n",
       "    </tr>\n",
       "  </tbody>\n",
       "</table>\n",
       "</div>"
      ],
      "text/plain": [
       "          user_id platform group        date  cash\n",
       "4   0004MK-VW0O9L       PC  test  10.07.2021     0\n",
       "1   0004MK-VW0O9L       PC  test  11.07.2021    50\n",
       "0   0004MK-VW0O9L       PC  test  12.07.2021   550\n",
       "6   0004MK-VW0O9L       PC  test  13.07.2021  1450\n",
       "3   0004MK-VW0O9L       PC  test  14.07.2021  1250\n",
       "7   0004MK-VW0O9L       PC  test  15.07.2021  1550\n",
       "5   0004MK-VW0O9L       PC  test  16.07.2021   900\n",
       "2   0004MK-VW0O9L       PC  test  17.07.2021   550\n",
       "13  0005S4-UEC6BE       PC  test  10.07.2021  1200\n",
       "9   0005S4-UEC6BE       PC  test  11.07.2021  1050\n",
       "10  0005S4-UEC6BE       PC  test  12.07.2021   950\n",
       "8   0005S4-UEC6BE       PC  test  13.07.2021  1250\n",
       "12  0005S4-UEC6BE       PC  test  14.07.2021   550\n",
       "11  0005S4-UEC6BE       PC  test  15.07.2021     0\n",
       "15  0005S4-UEC6BE       PC  test  16.07.2021     0\n",
       "14  0005S4-UEC6BE       PC  test  17.07.2021     0\n",
       "21  0007I5-EWUD6O       PC  test  10.07.2021  1600\n",
       "22  0007I5-EWUD6O       PC  test  11.07.2021   350\n",
       "18  0007I5-EWUD6O       PC  test  12.07.2021   650\n",
       "20  0007I5-EWUD6O       PC  test  13.07.2021   200"
      ]
     },
     "execution_count": 95,
     "metadata": {},
     "output_type": "execute_result"
    }
   ],
   "source": [
    "PC_cash = pd.merge(user_PC_group, df_cash, left_on='user_id', right_on='user_id') \n",
    "PC_cash.sort_values(['user_id', 'date']).head(20)"
   ]
  },
  {
   "cell_type": "markdown",
   "id": "d58aaa11",
   "metadata": {},
   "source": [
    "Получены два датафрейма PC_money, PC_cash по площадке PC для дальнейшего анализа результатов ab-теста."
   ]
  },
  {
   "cell_type": "markdown",
   "id": "81f9913b",
   "metadata": {},
   "source": [
    "Подготовим сводный датафрейм с данными по платежам и второй с тратами внутренней валюты пользователей площадки PS4."
   ]
  },
  {
   "cell_type": "code",
   "execution_count": 106,
   "id": "9aad699e",
   "metadata": {},
   "outputs": [
    {
     "data": {
      "text/html": [
       "<div>\n",
       "<style scoped>\n",
       "    .dataframe tbody tr th:only-of-type {\n",
       "        vertical-align: middle;\n",
       "    }\n",
       "\n",
       "    .dataframe tbody tr th {\n",
       "        vertical-align: top;\n",
       "    }\n",
       "\n",
       "    .dataframe thead th {\n",
       "        text-align: right;\n",
       "    }\n",
       "</style>\n",
       "<table border=\"1\" class=\"dataframe\">\n",
       "  <thead>\n",
       "    <tr style=\"text-align: right;\">\n",
       "      <th></th>\n",
       "      <th>platform</th>\n",
       "    </tr>\n",
       "    <tr>\n",
       "      <th>user_id</th>\n",
       "      <th></th>\n",
       "    </tr>\n",
       "  </thead>\n",
       "  <tbody>\n",
       "    <tr>\n",
       "      <th>0004MK-MRBUKF</th>\n",
       "      <td>8</td>\n",
       "    </tr>\n",
       "    <tr>\n",
       "      <th>000A88-I8NCEL</th>\n",
       "      <td>8</td>\n",
       "    </tr>\n",
       "    <tr>\n",
       "      <th>000B68-JX82RN</th>\n",
       "      <td>8</td>\n",
       "    </tr>\n",
       "    <tr>\n",
       "      <th>000FGL-B0RMB9</th>\n",
       "      <td>8</td>\n",
       "    </tr>\n",
       "    <tr>\n",
       "      <th>000IF8-UU506H</th>\n",
       "      <td>8</td>\n",
       "    </tr>\n",
       "    <tr>\n",
       "      <th>...</th>\n",
       "      <td>...</td>\n",
       "    </tr>\n",
       "    <tr>\n",
       "      <th>ZZZF7J-O80D44</th>\n",
       "      <td>8</td>\n",
       "    </tr>\n",
       "    <tr>\n",
       "      <th>ZZZIL3-5TLJT0</th>\n",
       "      <td>8</td>\n",
       "    </tr>\n",
       "    <tr>\n",
       "      <th>ZZZL1P-5DBOHS</th>\n",
       "      <td>8</td>\n",
       "    </tr>\n",
       "    <tr>\n",
       "      <th>ZZZNBN-SJROHK</th>\n",
       "      <td>8</td>\n",
       "    </tr>\n",
       "    <tr>\n",
       "      <th>ZZZV9K-NM9B4Z</th>\n",
       "      <td>8</td>\n",
       "    </tr>\n",
       "  </tbody>\n",
       "</table>\n",
       "<p>359219 rows × 1 columns</p>\n",
       "</div>"
      ],
      "text/plain": [
       "               platform\n",
       "user_id                \n",
       "0004MK-MRBUKF         8\n",
       "000A88-I8NCEL         8\n",
       "000B68-JX82RN         8\n",
       "000FGL-B0RMB9         8\n",
       "000IF8-UU506H         8\n",
       "...                 ...\n",
       "ZZZF7J-O80D44         8\n",
       "ZZZIL3-5TLJT0         8\n",
       "ZZZL1P-5DBOHS         8\n",
       "ZZZNBN-SJROHK         8\n",
       "ZZZV9K-NM9B4Z         8\n",
       "\n",
       "[359219 rows x 1 columns]"
      ]
     },
     "execution_count": 106,
     "metadata": {},
     "output_type": "execute_result"
    }
   ],
   "source": [
    "# Датафрейм с уникальным перечнем user_id PS4 игровой платформы\n",
    "user_PS4 = df_platforms[df_platforms['platform'] == 'PS4'].groupby('user_id').agg('count')\n",
    "user_PS4"
   ]
  },
  {
   "cell_type": "code",
   "execution_count": 107,
   "id": "b3fca9c3",
   "metadata": {},
   "outputs": [
    {
     "name": "stderr",
     "output_type": "stream",
     "text": [
      "C:\\Users\\HP\\AppData\\Local\\Temp\\ipykernel_8964\\769916331.py:1: FutureWarning: In a future version of pandas all arguments of DataFrame.drop except for the argument 'labels' will be keyword-only.\n",
      "  user_PS4 = user_PS4.drop('platform', 1)\n"
     ]
    },
    {
     "data": {
      "text/html": [
       "<div>\n",
       "<style scoped>\n",
       "    .dataframe tbody tr th:only-of-type {\n",
       "        vertical-align: middle;\n",
       "    }\n",
       "\n",
       "    .dataframe tbody tr th {\n",
       "        vertical-align: top;\n",
       "    }\n",
       "\n",
       "    .dataframe thead th {\n",
       "        text-align: right;\n",
       "    }\n",
       "</style>\n",
       "<table border=\"1\" class=\"dataframe\">\n",
       "  <thead>\n",
       "    <tr style=\"text-align: right;\">\n",
       "      <th></th>\n",
       "      <th>platform</th>\n",
       "    </tr>\n",
       "    <tr>\n",
       "      <th>user_id</th>\n",
       "      <th></th>\n",
       "    </tr>\n",
       "  </thead>\n",
       "  <tbody>\n",
       "    <tr>\n",
       "      <th>0004MK-MRBUKF</th>\n",
       "      <td>PS4</td>\n",
       "    </tr>\n",
       "    <tr>\n",
       "      <th>000A88-I8NCEL</th>\n",
       "      <td>PS4</td>\n",
       "    </tr>\n",
       "    <tr>\n",
       "      <th>000B68-JX82RN</th>\n",
       "      <td>PS4</td>\n",
       "    </tr>\n",
       "    <tr>\n",
       "      <th>000FGL-B0RMB9</th>\n",
       "      <td>PS4</td>\n",
       "    </tr>\n",
       "    <tr>\n",
       "      <th>000IF8-UU506H</th>\n",
       "      <td>PS4</td>\n",
       "    </tr>\n",
       "    <tr>\n",
       "      <th>...</th>\n",
       "      <td>...</td>\n",
       "    </tr>\n",
       "    <tr>\n",
       "      <th>ZZZF7J-O80D44</th>\n",
       "      <td>PS4</td>\n",
       "    </tr>\n",
       "    <tr>\n",
       "      <th>ZZZIL3-5TLJT0</th>\n",
       "      <td>PS4</td>\n",
       "    </tr>\n",
       "    <tr>\n",
       "      <th>ZZZL1P-5DBOHS</th>\n",
       "      <td>PS4</td>\n",
       "    </tr>\n",
       "    <tr>\n",
       "      <th>ZZZNBN-SJROHK</th>\n",
       "      <td>PS4</td>\n",
       "    </tr>\n",
       "    <tr>\n",
       "      <th>ZZZV9K-NM9B4Z</th>\n",
       "      <td>PS4</td>\n",
       "    </tr>\n",
       "  </tbody>\n",
       "</table>\n",
       "<p>359219 rows × 1 columns</p>\n",
       "</div>"
      ],
      "text/plain": [
       "              platform\n",
       "user_id               \n",
       "0004MK-MRBUKF      PS4\n",
       "000A88-I8NCEL      PS4\n",
       "000B68-JX82RN      PS4\n",
       "000FGL-B0RMB9      PS4\n",
       "000IF8-UU506H      PS4\n",
       "...                ...\n",
       "ZZZF7J-O80D44      PS4\n",
       "ZZZIL3-5TLJT0      PS4\n",
       "ZZZL1P-5DBOHS      PS4\n",
       "ZZZNBN-SJROHK      PS4\n",
       "ZZZV9K-NM9B4Z      PS4\n",
       "\n",
       "[359219 rows x 1 columns]"
      ]
     },
     "execution_count": 107,
     "metadata": {},
     "output_type": "execute_result"
    }
   ],
   "source": [
    "user_PS4 = user_PS4.drop('platform', 1)\n",
    "user_PS4['platform'] = 'PS4'\n",
    "user_PS4"
   ]
  },
  {
   "cell_type": "code",
   "execution_count": 108,
   "id": "8dd721a4",
   "metadata": {},
   "outputs": [
    {
     "data": {
      "text/html": [
       "<div>\n",
       "<style scoped>\n",
       "    .dataframe tbody tr th:only-of-type {\n",
       "        vertical-align: middle;\n",
       "    }\n",
       "\n",
       "    .dataframe tbody tr th {\n",
       "        vertical-align: top;\n",
       "    }\n",
       "\n",
       "    .dataframe thead th {\n",
       "        text-align: right;\n",
       "    }\n",
       "</style>\n",
       "<table border=\"1\" class=\"dataframe\">\n",
       "  <thead>\n",
       "    <tr style=\"text-align: right;\">\n",
       "      <th></th>\n",
       "      <th>platform</th>\n",
       "    </tr>\n",
       "    <tr>\n",
       "      <th>user_id</th>\n",
       "      <th></th>\n",
       "    </tr>\n",
       "  </thead>\n",
       "  <tbody>\n",
       "    <tr>\n",
       "      <th>0004MK-MRBUKF</th>\n",
       "      <td>PS4</td>\n",
       "    </tr>\n",
       "    <tr>\n",
       "      <th>000A88-I8NCEL</th>\n",
       "      <td>PS4</td>\n",
       "    </tr>\n",
       "    <tr>\n",
       "      <th>000B68-JX82RN</th>\n",
       "      <td>PS4</td>\n",
       "    </tr>\n",
       "    <tr>\n",
       "      <th>000FGL-B0RMB9</th>\n",
       "      <td>PS4</td>\n",
       "    </tr>\n",
       "    <tr>\n",
       "      <th>000IF8-UU506H</th>\n",
       "      <td>PS4</td>\n",
       "    </tr>\n",
       "    <tr>\n",
       "      <th>...</th>\n",
       "      <td>...</td>\n",
       "    </tr>\n",
       "    <tr>\n",
       "      <th>ZZZF7J-O80D44</th>\n",
       "      <td>PS4</td>\n",
       "    </tr>\n",
       "    <tr>\n",
       "      <th>ZZZIL3-5TLJT0</th>\n",
       "      <td>PS4</td>\n",
       "    </tr>\n",
       "    <tr>\n",
       "      <th>ZZZL1P-5DBOHS</th>\n",
       "      <td>PS4</td>\n",
       "    </tr>\n",
       "    <tr>\n",
       "      <th>ZZZNBN-SJROHK</th>\n",
       "      <td>PS4</td>\n",
       "    </tr>\n",
       "    <tr>\n",
       "      <th>ZZZV9K-NM9B4Z</th>\n",
       "      <td>PS4</td>\n",
       "    </tr>\n",
       "  </tbody>\n",
       "</table>\n",
       "<p>359216 rows × 1 columns</p>\n",
       "</div>"
      ],
      "text/plain": [
       "              platform\n",
       "user_id               \n",
       "0004MK-MRBUKF      PS4\n",
       "000A88-I8NCEL      PS4\n",
       "000B68-JX82RN      PS4\n",
       "000FGL-B0RMB9      PS4\n",
       "000IF8-UU506H      PS4\n",
       "...                ...\n",
       "ZZZF7J-O80D44      PS4\n",
       "ZZZIL3-5TLJT0      PS4\n",
       "ZZZL1P-5DBOHS      PS4\n",
       "ZZZNBN-SJROHK      PS4\n",
       "ZZZV9K-NM9B4Z      PS4\n",
       "\n",
       "[359216 rows x 1 columns]"
      ]
     },
     "execution_count": 108,
     "metadata": {},
     "output_type": "execute_result"
    }
   ],
   "source": [
    "# соединим таблицы user_PS4 и табл notcheat (с user_id = \"не читерами\"), \n",
    "# получим перечень уникальных user_id PS4 без читеров:\n",
    "user_PS4_1 = pd.merge(user_PS4, notcheat, left_on='user_id', right_on='user_id') \n",
    "user_PS4_1"
   ]
  },
  {
   "cell_type": "markdown",
   "id": "03b6d63d",
   "metadata": {},
   "source": [
    "Добавим данные ab-group по \"не читерам\" площадки PS4."
   ]
  },
  {
   "cell_type": "code",
   "execution_count": 109,
   "id": "265014d4",
   "metadata": {},
   "outputs": [
    {
     "data": {
      "text/html": [
       "<div>\n",
       "<style scoped>\n",
       "    .dataframe tbody tr th:only-of-type {\n",
       "        vertical-align: middle;\n",
       "    }\n",
       "\n",
       "    .dataframe tbody tr th {\n",
       "        vertical-align: top;\n",
       "    }\n",
       "\n",
       "    .dataframe thead th {\n",
       "        text-align: right;\n",
       "    }\n",
       "</style>\n",
       "<table border=\"1\" class=\"dataframe\">\n",
       "  <thead>\n",
       "    <tr style=\"text-align: right;\">\n",
       "      <th></th>\n",
       "      <th>platform</th>\n",
       "      <th>group</th>\n",
       "    </tr>\n",
       "    <tr>\n",
       "      <th>user_id</th>\n",
       "      <th></th>\n",
       "      <th></th>\n",
       "    </tr>\n",
       "  </thead>\n",
       "  <tbody>\n",
       "    <tr>\n",
       "      <th>0004MK-MRBUKF</th>\n",
       "      <td>PS4</td>\n",
       "      <td>control</td>\n",
       "    </tr>\n",
       "    <tr>\n",
       "      <th>000A88-I8NCEL</th>\n",
       "      <td>PS4</td>\n",
       "      <td>control</td>\n",
       "    </tr>\n",
       "    <tr>\n",
       "      <th>000B68-JX82RN</th>\n",
       "      <td>PS4</td>\n",
       "      <td>control</td>\n",
       "    </tr>\n",
       "    <tr>\n",
       "      <th>000FGL-B0RMB9</th>\n",
       "      <td>PS4</td>\n",
       "      <td>control</td>\n",
       "    </tr>\n",
       "    <tr>\n",
       "      <th>000IF8-UU506H</th>\n",
       "      <td>PS4</td>\n",
       "      <td>test</td>\n",
       "    </tr>\n",
       "    <tr>\n",
       "      <th>...</th>\n",
       "      <td>...</td>\n",
       "      <td>...</td>\n",
       "    </tr>\n",
       "    <tr>\n",
       "      <th>ZZZF7J-O80D44</th>\n",
       "      <td>PS4</td>\n",
       "      <td>test</td>\n",
       "    </tr>\n",
       "    <tr>\n",
       "      <th>ZZZIL3-5TLJT0</th>\n",
       "      <td>PS4</td>\n",
       "      <td>test</td>\n",
       "    </tr>\n",
       "    <tr>\n",
       "      <th>ZZZL1P-5DBOHS</th>\n",
       "      <td>PS4</td>\n",
       "      <td>control</td>\n",
       "    </tr>\n",
       "    <tr>\n",
       "      <th>ZZZNBN-SJROHK</th>\n",
       "      <td>PS4</td>\n",
       "      <td>control</td>\n",
       "    </tr>\n",
       "    <tr>\n",
       "      <th>ZZZV9K-NM9B4Z</th>\n",
       "      <td>PS4</td>\n",
       "      <td>control</td>\n",
       "    </tr>\n",
       "  </tbody>\n",
       "</table>\n",
       "<p>359216 rows × 2 columns</p>\n",
       "</div>"
      ],
      "text/plain": [
       "              platform    group\n",
       "user_id                        \n",
       "0004MK-MRBUKF      PS4  control\n",
       "000A88-I8NCEL      PS4  control\n",
       "000B68-JX82RN      PS4  control\n",
       "000FGL-B0RMB9      PS4  control\n",
       "000IF8-UU506H      PS4     test\n",
       "...                ...      ...\n",
       "ZZZF7J-O80D44      PS4     test\n",
       "ZZZIL3-5TLJT0      PS4     test\n",
       "ZZZL1P-5DBOHS      PS4  control\n",
       "ZZZNBN-SJROHK      PS4  control\n",
       "ZZZV9K-NM9B4Z      PS4  control\n",
       "\n",
       "[359216 rows x 2 columns]"
      ]
     },
     "execution_count": 109,
     "metadata": {},
     "output_type": "execute_result"
    }
   ],
   "source": [
    "user_PS4_group = pd.merge(user_PS4_1, abgroup, left_on='user_id', right_on='user_id') \n",
    "user_PS4_group.sort_values('user_id')"
   ]
  },
  {
   "cell_type": "markdown",
   "id": "879dd7be",
   "metadata": {},
   "source": [
    "Добавим в сводный датафрейм по PS4 (user_PS4_group) данные по платежам."
   ]
  },
  {
   "cell_type": "code",
   "execution_count": 110,
   "id": "91356d7e",
   "metadata": {},
   "outputs": [
    {
     "data": {
      "text/html": [
       "<div>\n",
       "<style scoped>\n",
       "    .dataframe tbody tr th:only-of-type {\n",
       "        vertical-align: middle;\n",
       "    }\n",
       "\n",
       "    .dataframe tbody tr th {\n",
       "        vertical-align: top;\n",
       "    }\n",
       "\n",
       "    .dataframe thead th {\n",
       "        text-align: right;\n",
       "    }\n",
       "</style>\n",
       "<table border=\"1\" class=\"dataframe\">\n",
       "  <thead>\n",
       "    <tr style=\"text-align: right;\">\n",
       "      <th></th>\n",
       "      <th>user_id</th>\n",
       "      <th>platform</th>\n",
       "      <th>group</th>\n",
       "      <th>date</th>\n",
       "      <th>money</th>\n",
       "    </tr>\n",
       "  </thead>\n",
       "  <tbody>\n",
       "    <tr>\n",
       "      <th>1</th>\n",
       "      <td>0004MK-MRBUKF</td>\n",
       "      <td>PS4</td>\n",
       "      <td>control</td>\n",
       "      <td>10.07.2021</td>\n",
       "      <td>0.00</td>\n",
       "    </tr>\n",
       "    <tr>\n",
       "      <th>2</th>\n",
       "      <td>0004MK-MRBUKF</td>\n",
       "      <td>PS4</td>\n",
       "      <td>control</td>\n",
       "      <td>11.07.2021</td>\n",
       "      <td>1.99</td>\n",
       "    </tr>\n",
       "    <tr>\n",
       "      <th>4</th>\n",
       "      <td>0004MK-MRBUKF</td>\n",
       "      <td>PS4</td>\n",
       "      <td>control</td>\n",
       "      <td>12.07.2021</td>\n",
       "      <td>0.99</td>\n",
       "    </tr>\n",
       "    <tr>\n",
       "      <th>6</th>\n",
       "      <td>0004MK-MRBUKF</td>\n",
       "      <td>PS4</td>\n",
       "      <td>control</td>\n",
       "      <td>13.07.2021</td>\n",
       "      <td>0.99</td>\n",
       "    </tr>\n",
       "    <tr>\n",
       "      <th>5</th>\n",
       "      <td>0004MK-MRBUKF</td>\n",
       "      <td>PS4</td>\n",
       "      <td>control</td>\n",
       "      <td>14.07.2021</td>\n",
       "      <td>0.99</td>\n",
       "    </tr>\n",
       "    <tr>\n",
       "      <th>0</th>\n",
       "      <td>0004MK-MRBUKF</td>\n",
       "      <td>PS4</td>\n",
       "      <td>control</td>\n",
       "      <td>15.07.2021</td>\n",
       "      <td>0.99</td>\n",
       "    </tr>\n",
       "    <tr>\n",
       "      <th>7</th>\n",
       "      <td>0004MK-MRBUKF</td>\n",
       "      <td>PS4</td>\n",
       "      <td>control</td>\n",
       "      <td>16.07.2021</td>\n",
       "      <td>0.00</td>\n",
       "    </tr>\n",
       "    <tr>\n",
       "      <th>3</th>\n",
       "      <td>0004MK-MRBUKF</td>\n",
       "      <td>PS4</td>\n",
       "      <td>control</td>\n",
       "      <td>17.07.2021</td>\n",
       "      <td>0.00</td>\n",
       "    </tr>\n",
       "    <tr>\n",
       "      <th>11</th>\n",
       "      <td>000A88-I8NCEL</td>\n",
       "      <td>PS4</td>\n",
       "      <td>control</td>\n",
       "      <td>10.07.2021</td>\n",
       "      <td>0.99</td>\n",
       "    </tr>\n",
       "    <tr>\n",
       "      <th>13</th>\n",
       "      <td>000A88-I8NCEL</td>\n",
       "      <td>PS4</td>\n",
       "      <td>control</td>\n",
       "      <td>11.07.2021</td>\n",
       "      <td>0.99</td>\n",
       "    </tr>\n",
       "    <tr>\n",
       "      <th>9</th>\n",
       "      <td>000A88-I8NCEL</td>\n",
       "      <td>PS4</td>\n",
       "      <td>control</td>\n",
       "      <td>12.07.2021</td>\n",
       "      <td>0.00</td>\n",
       "    </tr>\n",
       "    <tr>\n",
       "      <th>15</th>\n",
       "      <td>000A88-I8NCEL</td>\n",
       "      <td>PS4</td>\n",
       "      <td>control</td>\n",
       "      <td>13.07.2021</td>\n",
       "      <td>0.00</td>\n",
       "    </tr>\n",
       "    <tr>\n",
       "      <th>10</th>\n",
       "      <td>000A88-I8NCEL</td>\n",
       "      <td>PS4</td>\n",
       "      <td>control</td>\n",
       "      <td>14.07.2021</td>\n",
       "      <td>0.00</td>\n",
       "    </tr>\n",
       "    <tr>\n",
       "      <th>8</th>\n",
       "      <td>000A88-I8NCEL</td>\n",
       "      <td>PS4</td>\n",
       "      <td>control</td>\n",
       "      <td>15.07.2021</td>\n",
       "      <td>0.00</td>\n",
       "    </tr>\n",
       "    <tr>\n",
       "      <th>14</th>\n",
       "      <td>000A88-I8NCEL</td>\n",
       "      <td>PS4</td>\n",
       "      <td>control</td>\n",
       "      <td>16.07.2021</td>\n",
       "      <td>0.00</td>\n",
       "    </tr>\n",
       "    <tr>\n",
       "      <th>12</th>\n",
       "      <td>000A88-I8NCEL</td>\n",
       "      <td>PS4</td>\n",
       "      <td>control</td>\n",
       "      <td>17.07.2021</td>\n",
       "      <td>1.99</td>\n",
       "    </tr>\n",
       "    <tr>\n",
       "      <th>20</th>\n",
       "      <td>000B68-JX82RN</td>\n",
       "      <td>PS4</td>\n",
       "      <td>control</td>\n",
       "      <td>10.07.2021</td>\n",
       "      <td>0.99</td>\n",
       "    </tr>\n",
       "    <tr>\n",
       "      <th>17</th>\n",
       "      <td>000B68-JX82RN</td>\n",
       "      <td>PS4</td>\n",
       "      <td>control</td>\n",
       "      <td>11.07.2021</td>\n",
       "      <td>0.00</td>\n",
       "    </tr>\n",
       "    <tr>\n",
       "      <th>23</th>\n",
       "      <td>000B68-JX82RN</td>\n",
       "      <td>PS4</td>\n",
       "      <td>control</td>\n",
       "      <td>12.07.2021</td>\n",
       "      <td>0.00</td>\n",
       "    </tr>\n",
       "    <tr>\n",
       "      <th>21</th>\n",
       "      <td>000B68-JX82RN</td>\n",
       "      <td>PS4</td>\n",
       "      <td>control</td>\n",
       "      <td>13.07.2021</td>\n",
       "      <td>1.99</td>\n",
       "    </tr>\n",
       "  </tbody>\n",
       "</table>\n",
       "</div>"
      ],
      "text/plain": [
       "          user_id platform    group        date  money\n",
       "1   0004MK-MRBUKF      PS4  control  10.07.2021   0.00\n",
       "2   0004MK-MRBUKF      PS4  control  11.07.2021   1.99\n",
       "4   0004MK-MRBUKF      PS4  control  12.07.2021   0.99\n",
       "6   0004MK-MRBUKF      PS4  control  13.07.2021   0.99\n",
       "5   0004MK-MRBUKF      PS4  control  14.07.2021   0.99\n",
       "0   0004MK-MRBUKF      PS4  control  15.07.2021   0.99\n",
       "7   0004MK-MRBUKF      PS4  control  16.07.2021   0.00\n",
       "3   0004MK-MRBUKF      PS4  control  17.07.2021   0.00\n",
       "11  000A88-I8NCEL      PS4  control  10.07.2021   0.99\n",
       "13  000A88-I8NCEL      PS4  control  11.07.2021   0.99\n",
       "9   000A88-I8NCEL      PS4  control  12.07.2021   0.00\n",
       "15  000A88-I8NCEL      PS4  control  13.07.2021   0.00\n",
       "10  000A88-I8NCEL      PS4  control  14.07.2021   0.00\n",
       "8   000A88-I8NCEL      PS4  control  15.07.2021   0.00\n",
       "14  000A88-I8NCEL      PS4  control  16.07.2021   0.00\n",
       "12  000A88-I8NCEL      PS4  control  17.07.2021   1.99\n",
       "20  000B68-JX82RN      PS4  control  10.07.2021   0.99\n",
       "17  000B68-JX82RN      PS4  control  11.07.2021   0.00\n",
       "23  000B68-JX82RN      PS4  control  12.07.2021   0.00\n",
       "21  000B68-JX82RN      PS4  control  13.07.2021   1.99"
      ]
     },
     "execution_count": 110,
     "metadata": {},
     "output_type": "execute_result"
    }
   ],
   "source": [
    "PS4_money = pd.merge(user_PS4_group, df_money, left_on='user_id', right_on='user_id') \n",
    "PS4_money.sort_values(['user_id', 'date']).head(20)"
   ]
  },
  {
   "cell_type": "markdown",
   "id": "8fa211a4",
   "metadata": {},
   "source": [
    "Добавим в сводный датафрейм по PS4 (user_PS4_group) данные по тратам внутриигровой валюты."
   ]
  },
  {
   "cell_type": "code",
   "execution_count": 111,
   "id": "769e981a",
   "metadata": {},
   "outputs": [
    {
     "data": {
      "text/html": [
       "<div>\n",
       "<style scoped>\n",
       "    .dataframe tbody tr th:only-of-type {\n",
       "        vertical-align: middle;\n",
       "    }\n",
       "\n",
       "    .dataframe tbody tr th {\n",
       "        vertical-align: top;\n",
       "    }\n",
       "\n",
       "    .dataframe thead th {\n",
       "        text-align: right;\n",
       "    }\n",
       "</style>\n",
       "<table border=\"1\" class=\"dataframe\">\n",
       "  <thead>\n",
       "    <tr style=\"text-align: right;\">\n",
       "      <th></th>\n",
       "      <th>user_id</th>\n",
       "      <th>platform</th>\n",
       "      <th>group</th>\n",
       "      <th>date</th>\n",
       "      <th>cash</th>\n",
       "    </tr>\n",
       "  </thead>\n",
       "  <tbody>\n",
       "    <tr>\n",
       "      <th>2</th>\n",
       "      <td>0004MK-MRBUKF</td>\n",
       "      <td>PS4</td>\n",
       "      <td>control</td>\n",
       "      <td>10.07.2021</td>\n",
       "      <td>550</td>\n",
       "    </tr>\n",
       "    <tr>\n",
       "      <th>6</th>\n",
       "      <td>0004MK-MRBUKF</td>\n",
       "      <td>PS4</td>\n",
       "      <td>control</td>\n",
       "      <td>11.07.2021</td>\n",
       "      <td>1100</td>\n",
       "    </tr>\n",
       "    <tr>\n",
       "      <th>4</th>\n",
       "      <td>0004MK-MRBUKF</td>\n",
       "      <td>PS4</td>\n",
       "      <td>control</td>\n",
       "      <td>12.07.2021</td>\n",
       "      <td>1350</td>\n",
       "    </tr>\n",
       "    <tr>\n",
       "      <th>7</th>\n",
       "      <td>0004MK-MRBUKF</td>\n",
       "      <td>PS4</td>\n",
       "      <td>control</td>\n",
       "      <td>13.07.2021</td>\n",
       "      <td>50</td>\n",
       "    </tr>\n",
       "    <tr>\n",
       "      <th>5</th>\n",
       "      <td>0004MK-MRBUKF</td>\n",
       "      <td>PS4</td>\n",
       "      <td>control</td>\n",
       "      <td>14.07.2021</td>\n",
       "      <td>250</td>\n",
       "    </tr>\n",
       "    <tr>\n",
       "      <th>1</th>\n",
       "      <td>0004MK-MRBUKF</td>\n",
       "      <td>PS4</td>\n",
       "      <td>control</td>\n",
       "      <td>15.07.2021</td>\n",
       "      <td>1350</td>\n",
       "    </tr>\n",
       "    <tr>\n",
       "      <th>3</th>\n",
       "      <td>0004MK-MRBUKF</td>\n",
       "      <td>PS4</td>\n",
       "      <td>control</td>\n",
       "      <td>16.07.2021</td>\n",
       "      <td>700</td>\n",
       "    </tr>\n",
       "    <tr>\n",
       "      <th>0</th>\n",
       "      <td>0004MK-MRBUKF</td>\n",
       "      <td>PS4</td>\n",
       "      <td>control</td>\n",
       "      <td>17.07.2021</td>\n",
       "      <td>800</td>\n",
       "    </tr>\n",
       "    <tr>\n",
       "      <th>11</th>\n",
       "      <td>000A88-I8NCEL</td>\n",
       "      <td>PS4</td>\n",
       "      <td>control</td>\n",
       "      <td>10.07.2021</td>\n",
       "      <td>150</td>\n",
       "    </tr>\n",
       "    <tr>\n",
       "      <th>10</th>\n",
       "      <td>000A88-I8NCEL</td>\n",
       "      <td>PS4</td>\n",
       "      <td>control</td>\n",
       "      <td>11.07.2021</td>\n",
       "      <td>200</td>\n",
       "    </tr>\n",
       "    <tr>\n",
       "      <th>14</th>\n",
       "      <td>000A88-I8NCEL</td>\n",
       "      <td>PS4</td>\n",
       "      <td>control</td>\n",
       "      <td>12.07.2021</td>\n",
       "      <td>50</td>\n",
       "    </tr>\n",
       "    <tr>\n",
       "      <th>8</th>\n",
       "      <td>000A88-I8NCEL</td>\n",
       "      <td>PS4</td>\n",
       "      <td>control</td>\n",
       "      <td>13.07.2021</td>\n",
       "      <td>500</td>\n",
       "    </tr>\n",
       "    <tr>\n",
       "      <th>15</th>\n",
       "      <td>000A88-I8NCEL</td>\n",
       "      <td>PS4</td>\n",
       "      <td>control</td>\n",
       "      <td>14.07.2021</td>\n",
       "      <td>800</td>\n",
       "    </tr>\n",
       "    <tr>\n",
       "      <th>13</th>\n",
       "      <td>000A88-I8NCEL</td>\n",
       "      <td>PS4</td>\n",
       "      <td>control</td>\n",
       "      <td>15.07.2021</td>\n",
       "      <td>600</td>\n",
       "    </tr>\n",
       "    <tr>\n",
       "      <th>9</th>\n",
       "      <td>000A88-I8NCEL</td>\n",
       "      <td>PS4</td>\n",
       "      <td>control</td>\n",
       "      <td>16.07.2021</td>\n",
       "      <td>850</td>\n",
       "    </tr>\n",
       "    <tr>\n",
       "      <th>12</th>\n",
       "      <td>000A88-I8NCEL</td>\n",
       "      <td>PS4</td>\n",
       "      <td>control</td>\n",
       "      <td>17.07.2021</td>\n",
       "      <td>1350</td>\n",
       "    </tr>\n",
       "    <tr>\n",
       "      <th>21</th>\n",
       "      <td>000B68-JX82RN</td>\n",
       "      <td>PS4</td>\n",
       "      <td>control</td>\n",
       "      <td>10.07.2021</td>\n",
       "      <td>100</td>\n",
       "    </tr>\n",
       "    <tr>\n",
       "      <th>20</th>\n",
       "      <td>000B68-JX82RN</td>\n",
       "      <td>PS4</td>\n",
       "      <td>control</td>\n",
       "      <td>11.07.2021</td>\n",
       "      <td>500</td>\n",
       "    </tr>\n",
       "    <tr>\n",
       "      <th>16</th>\n",
       "      <td>000B68-JX82RN</td>\n",
       "      <td>PS4</td>\n",
       "      <td>control</td>\n",
       "      <td>12.07.2021</td>\n",
       "      <td>800</td>\n",
       "    </tr>\n",
       "    <tr>\n",
       "      <th>18</th>\n",
       "      <td>000B68-JX82RN</td>\n",
       "      <td>PS4</td>\n",
       "      <td>control</td>\n",
       "      <td>13.07.2021</td>\n",
       "      <td>1350</td>\n",
       "    </tr>\n",
       "  </tbody>\n",
       "</table>\n",
       "</div>"
      ],
      "text/plain": [
       "          user_id platform    group        date  cash\n",
       "2   0004MK-MRBUKF      PS4  control  10.07.2021   550\n",
       "6   0004MK-MRBUKF      PS4  control  11.07.2021  1100\n",
       "4   0004MK-MRBUKF      PS4  control  12.07.2021  1350\n",
       "7   0004MK-MRBUKF      PS4  control  13.07.2021    50\n",
       "5   0004MK-MRBUKF      PS4  control  14.07.2021   250\n",
       "1   0004MK-MRBUKF      PS4  control  15.07.2021  1350\n",
       "3   0004MK-MRBUKF      PS4  control  16.07.2021   700\n",
       "0   0004MK-MRBUKF      PS4  control  17.07.2021   800\n",
       "11  000A88-I8NCEL      PS4  control  10.07.2021   150\n",
       "10  000A88-I8NCEL      PS4  control  11.07.2021   200\n",
       "14  000A88-I8NCEL      PS4  control  12.07.2021    50\n",
       "8   000A88-I8NCEL      PS4  control  13.07.2021   500\n",
       "15  000A88-I8NCEL      PS4  control  14.07.2021   800\n",
       "13  000A88-I8NCEL      PS4  control  15.07.2021   600\n",
       "9   000A88-I8NCEL      PS4  control  16.07.2021   850\n",
       "12  000A88-I8NCEL      PS4  control  17.07.2021  1350\n",
       "21  000B68-JX82RN      PS4  control  10.07.2021   100\n",
       "20  000B68-JX82RN      PS4  control  11.07.2021   500\n",
       "16  000B68-JX82RN      PS4  control  12.07.2021   800\n",
       "18  000B68-JX82RN      PS4  control  13.07.2021  1350"
      ]
     },
     "execution_count": 111,
     "metadata": {},
     "output_type": "execute_result"
    }
   ],
   "source": [
    "PS4_cash = pd.merge(user_PS4_group, df_cash, left_on='user_id', right_on='user_id') \n",
    "PS4_cash.sort_values(['user_id', 'date']).head(20)"
   ]
  },
  {
   "cell_type": "markdown",
   "id": "8d92fc35",
   "metadata": {},
   "source": [
    "Получены два датафрейма PS4_money, PS4_cash по площадке PC для дальнейшего анализа результатов ab-теста."
   ]
  },
  {
   "cell_type": "markdown",
   "id": "7f2ae93c",
   "metadata": {},
   "source": [
    "Подготовим сводный датафрейм с данными по платежам и второй с тратами внутренней валюты пользователей площадки XBox."
   ]
  },
  {
   "cell_type": "code",
   "execution_count": 102,
   "id": "30ad55df",
   "metadata": {},
   "outputs": [
    {
     "data": {
      "text/html": [
       "<div>\n",
       "<style scoped>\n",
       "    .dataframe tbody tr th:only-of-type {\n",
       "        vertical-align: middle;\n",
       "    }\n",
       "\n",
       "    .dataframe tbody tr th {\n",
       "        vertical-align: top;\n",
       "    }\n",
       "\n",
       "    .dataframe thead th {\n",
       "        text-align: right;\n",
       "    }\n",
       "</style>\n",
       "<table border=\"1\" class=\"dataframe\">\n",
       "  <thead>\n",
       "    <tr style=\"text-align: right;\">\n",
       "      <th></th>\n",
       "      <th>platform</th>\n",
       "    </tr>\n",
       "    <tr>\n",
       "      <th>user_id</th>\n",
       "      <th></th>\n",
       "    </tr>\n",
       "  </thead>\n",
       "  <tbody>\n",
       "    <tr>\n",
       "      <th>00036L-1T885I</th>\n",
       "      <td>8</td>\n",
       "    </tr>\n",
       "    <tr>\n",
       "      <th>0009DN-TWTJIG</th>\n",
       "      <td>8</td>\n",
       "    </tr>\n",
       "    <tr>\n",
       "      <th>000B9M-CLSPQD</th>\n",
       "      <td>8</td>\n",
       "    </tr>\n",
       "    <tr>\n",
       "      <th>000F5V-PDHPGB</th>\n",
       "      <td>8</td>\n",
       "    </tr>\n",
       "    <tr>\n",
       "      <th>000IP5-YWFJUK</th>\n",
       "      <td>8</td>\n",
       "    </tr>\n",
       "    <tr>\n",
       "      <th>...</th>\n",
       "      <td>...</td>\n",
       "    </tr>\n",
       "    <tr>\n",
       "      <th>ZZZ6L1-Y6RHU9</th>\n",
       "      <td>8</td>\n",
       "    </tr>\n",
       "    <tr>\n",
       "      <th>ZZZ6UB-ON8WFC</th>\n",
       "      <td>8</td>\n",
       "    </tr>\n",
       "    <tr>\n",
       "      <th>ZZZ91E-MFSYMW</th>\n",
       "      <td>8</td>\n",
       "    </tr>\n",
       "    <tr>\n",
       "      <th>ZZZTEN-0QGZ3X</th>\n",
       "      <td>8</td>\n",
       "    </tr>\n",
       "    <tr>\n",
       "      <th>ZZZTR5-QSI6D3</th>\n",
       "      <td>8</td>\n",
       "    </tr>\n",
       "  </tbody>\n",
       "</table>\n",
       "<p>360532 rows × 1 columns</p>\n",
       "</div>"
      ],
      "text/plain": [
       "               platform\n",
       "user_id                \n",
       "00036L-1T885I         8\n",
       "0009DN-TWTJIG         8\n",
       "000B9M-CLSPQD         8\n",
       "000F5V-PDHPGB         8\n",
       "000IP5-YWFJUK         8\n",
       "...                 ...\n",
       "ZZZ6L1-Y6RHU9         8\n",
       "ZZZ6UB-ON8WFC         8\n",
       "ZZZ91E-MFSYMW         8\n",
       "ZZZTEN-0QGZ3X         8\n",
       "ZZZTR5-QSI6D3         8\n",
       "\n",
       "[360532 rows x 1 columns]"
      ]
     },
     "execution_count": 102,
     "metadata": {},
     "output_type": "execute_result"
    }
   ],
   "source": [
    "# Датафрейм с уникальным перечнем user_id XBox игровой платформы\n",
    "user_XBox = df_platforms[df_platforms['platform'] == 'XBox'].groupby('user_id').agg('count')\n",
    "user_XBox"
   ]
  },
  {
   "cell_type": "code",
   "execution_count": 112,
   "id": "695bdfd3",
   "metadata": {},
   "outputs": [
    {
     "name": "stderr",
     "output_type": "stream",
     "text": [
      "C:\\Users\\HP\\AppData\\Local\\Temp\\ipykernel_8964\\2045362758.py:1: FutureWarning: In a future version of pandas all arguments of DataFrame.drop except for the argument 'labels' will be keyword-only.\n",
      "  user_XBox = user_XBox.drop('platform', 1)\n"
     ]
    },
    {
     "data": {
      "text/html": [
       "<div>\n",
       "<style scoped>\n",
       "    .dataframe tbody tr th:only-of-type {\n",
       "        vertical-align: middle;\n",
       "    }\n",
       "\n",
       "    .dataframe tbody tr th {\n",
       "        vertical-align: top;\n",
       "    }\n",
       "\n",
       "    .dataframe thead th {\n",
       "        text-align: right;\n",
       "    }\n",
       "</style>\n",
       "<table border=\"1\" class=\"dataframe\">\n",
       "  <thead>\n",
       "    <tr style=\"text-align: right;\">\n",
       "      <th></th>\n",
       "      <th>platform</th>\n",
       "    </tr>\n",
       "    <tr>\n",
       "      <th>user_id</th>\n",
       "      <th></th>\n",
       "    </tr>\n",
       "  </thead>\n",
       "  <tbody>\n",
       "    <tr>\n",
       "      <th>00036L-1T885I</th>\n",
       "      <td>XBox</td>\n",
       "    </tr>\n",
       "    <tr>\n",
       "      <th>0009DN-TWTJIG</th>\n",
       "      <td>XBox</td>\n",
       "    </tr>\n",
       "    <tr>\n",
       "      <th>000B9M-CLSPQD</th>\n",
       "      <td>XBox</td>\n",
       "    </tr>\n",
       "    <tr>\n",
       "      <th>000F5V-PDHPGB</th>\n",
       "      <td>XBox</td>\n",
       "    </tr>\n",
       "    <tr>\n",
       "      <th>000IP5-YWFJUK</th>\n",
       "      <td>XBox</td>\n",
       "    </tr>\n",
       "    <tr>\n",
       "      <th>...</th>\n",
       "      <td>...</td>\n",
       "    </tr>\n",
       "    <tr>\n",
       "      <th>ZZZ6L1-Y6RHU9</th>\n",
       "      <td>XBox</td>\n",
       "    </tr>\n",
       "    <tr>\n",
       "      <th>ZZZ6UB-ON8WFC</th>\n",
       "      <td>XBox</td>\n",
       "    </tr>\n",
       "    <tr>\n",
       "      <th>ZZZ91E-MFSYMW</th>\n",
       "      <td>XBox</td>\n",
       "    </tr>\n",
       "    <tr>\n",
       "      <th>ZZZTEN-0QGZ3X</th>\n",
       "      <td>XBox</td>\n",
       "    </tr>\n",
       "    <tr>\n",
       "      <th>ZZZTR5-QSI6D3</th>\n",
       "      <td>XBox</td>\n",
       "    </tr>\n",
       "  </tbody>\n",
       "</table>\n",
       "<p>360532 rows × 1 columns</p>\n",
       "</div>"
      ],
      "text/plain": [
       "              platform\n",
       "user_id               \n",
       "00036L-1T885I     XBox\n",
       "0009DN-TWTJIG     XBox\n",
       "000B9M-CLSPQD     XBox\n",
       "000F5V-PDHPGB     XBox\n",
       "000IP5-YWFJUK     XBox\n",
       "...                ...\n",
       "ZZZ6L1-Y6RHU9     XBox\n",
       "ZZZ6UB-ON8WFC     XBox\n",
       "ZZZ91E-MFSYMW     XBox\n",
       "ZZZTEN-0QGZ3X     XBox\n",
       "ZZZTR5-QSI6D3     XBox\n",
       "\n",
       "[360532 rows x 1 columns]"
      ]
     },
     "execution_count": 112,
     "metadata": {},
     "output_type": "execute_result"
    }
   ],
   "source": [
    "user_XBox = user_XBox.drop('platform', 1)\n",
    "user_XBox['platform'] = 'XBox'\n",
    "user_XBox"
   ]
  },
  {
   "cell_type": "code",
   "execution_count": 113,
   "id": "4166bc86",
   "metadata": {},
   "outputs": [
    {
     "data": {
      "text/html": [
       "<div>\n",
       "<style scoped>\n",
       "    .dataframe tbody tr th:only-of-type {\n",
       "        vertical-align: middle;\n",
       "    }\n",
       "\n",
       "    .dataframe tbody tr th {\n",
       "        vertical-align: top;\n",
       "    }\n",
       "\n",
       "    .dataframe thead th {\n",
       "        text-align: right;\n",
       "    }\n",
       "</style>\n",
       "<table border=\"1\" class=\"dataframe\">\n",
       "  <thead>\n",
       "    <tr style=\"text-align: right;\">\n",
       "      <th></th>\n",
       "      <th>platform</th>\n",
       "    </tr>\n",
       "    <tr>\n",
       "      <th>user_id</th>\n",
       "      <th></th>\n",
       "    </tr>\n",
       "  </thead>\n",
       "  <tbody>\n",
       "    <tr>\n",
       "      <th>00036L-1T885I</th>\n",
       "      <td>XBox</td>\n",
       "    </tr>\n",
       "    <tr>\n",
       "      <th>0009DN-TWTJIG</th>\n",
       "      <td>XBox</td>\n",
       "    </tr>\n",
       "    <tr>\n",
       "      <th>000B9M-CLSPQD</th>\n",
       "      <td>XBox</td>\n",
       "    </tr>\n",
       "    <tr>\n",
       "      <th>000F5V-PDHPGB</th>\n",
       "      <td>XBox</td>\n",
       "    </tr>\n",
       "    <tr>\n",
       "      <th>000IP5-YWFJUK</th>\n",
       "      <td>XBox</td>\n",
       "    </tr>\n",
       "    <tr>\n",
       "      <th>...</th>\n",
       "      <td>...</td>\n",
       "    </tr>\n",
       "    <tr>\n",
       "      <th>ZZZ6L1-Y6RHU9</th>\n",
       "      <td>XBox</td>\n",
       "    </tr>\n",
       "    <tr>\n",
       "      <th>ZZZ6UB-ON8WFC</th>\n",
       "      <td>XBox</td>\n",
       "    </tr>\n",
       "    <tr>\n",
       "      <th>ZZZ91E-MFSYMW</th>\n",
       "      <td>XBox</td>\n",
       "    </tr>\n",
       "    <tr>\n",
       "      <th>ZZZTEN-0QGZ3X</th>\n",
       "      <td>XBox</td>\n",
       "    </tr>\n",
       "    <tr>\n",
       "      <th>ZZZTR5-QSI6D3</th>\n",
       "      <td>XBox</td>\n",
       "    </tr>\n",
       "  </tbody>\n",
       "</table>\n",
       "<p>360527 rows × 1 columns</p>\n",
       "</div>"
      ],
      "text/plain": [
       "              platform\n",
       "user_id               \n",
       "00036L-1T885I     XBox\n",
       "0009DN-TWTJIG     XBox\n",
       "000B9M-CLSPQD     XBox\n",
       "000F5V-PDHPGB     XBox\n",
       "000IP5-YWFJUK     XBox\n",
       "...                ...\n",
       "ZZZ6L1-Y6RHU9     XBox\n",
       "ZZZ6UB-ON8WFC     XBox\n",
       "ZZZ91E-MFSYMW     XBox\n",
       "ZZZTEN-0QGZ3X     XBox\n",
       "ZZZTR5-QSI6D3     XBox\n",
       "\n",
       "[360527 rows x 1 columns]"
      ]
     },
     "execution_count": 113,
     "metadata": {},
     "output_type": "execute_result"
    }
   ],
   "source": [
    "# соединим таблицы user_XBox и табл notcheat (с user_id = \"не читерами\"), \n",
    "# получим перечень уникальных user_id XBox без читеров:\n",
    "user_XBox1 = pd.merge(user_XBox, notcheat, left_on='user_id', right_on='user_id') \n",
    "user_XBox1"
   ]
  },
  {
   "cell_type": "markdown",
   "id": "70d59696",
   "metadata": {},
   "source": [
    "Добавим данные ab-group по \"не читерам\" площадки XBox."
   ]
  },
  {
   "cell_type": "code",
   "execution_count": 114,
   "id": "09acd26e",
   "metadata": {},
   "outputs": [
    {
     "data": {
      "text/html": [
       "<div>\n",
       "<style scoped>\n",
       "    .dataframe tbody tr th:only-of-type {\n",
       "        vertical-align: middle;\n",
       "    }\n",
       "\n",
       "    .dataframe tbody tr th {\n",
       "        vertical-align: top;\n",
       "    }\n",
       "\n",
       "    .dataframe thead th {\n",
       "        text-align: right;\n",
       "    }\n",
       "</style>\n",
       "<table border=\"1\" class=\"dataframe\">\n",
       "  <thead>\n",
       "    <tr style=\"text-align: right;\">\n",
       "      <th></th>\n",
       "      <th>platform</th>\n",
       "      <th>group</th>\n",
       "    </tr>\n",
       "    <tr>\n",
       "      <th>user_id</th>\n",
       "      <th></th>\n",
       "      <th></th>\n",
       "    </tr>\n",
       "  </thead>\n",
       "  <tbody>\n",
       "    <tr>\n",
       "      <th>00036L-1T885I</th>\n",
       "      <td>XBox</td>\n",
       "      <td>control</td>\n",
       "    </tr>\n",
       "    <tr>\n",
       "      <th>0009DN-TWTJIG</th>\n",
       "      <td>XBox</td>\n",
       "      <td>control</td>\n",
       "    </tr>\n",
       "    <tr>\n",
       "      <th>000B9M-CLSPQD</th>\n",
       "      <td>XBox</td>\n",
       "      <td>control</td>\n",
       "    </tr>\n",
       "    <tr>\n",
       "      <th>000F5V-PDHPGB</th>\n",
       "      <td>XBox</td>\n",
       "      <td>control</td>\n",
       "    </tr>\n",
       "    <tr>\n",
       "      <th>000IP5-YWFJUK</th>\n",
       "      <td>XBox</td>\n",
       "      <td>control</td>\n",
       "    </tr>\n",
       "    <tr>\n",
       "      <th>...</th>\n",
       "      <td>...</td>\n",
       "      <td>...</td>\n",
       "    </tr>\n",
       "    <tr>\n",
       "      <th>ZZZ6L1-Y6RHU9</th>\n",
       "      <td>XBox</td>\n",
       "      <td>test</td>\n",
       "    </tr>\n",
       "    <tr>\n",
       "      <th>ZZZ6UB-ON8WFC</th>\n",
       "      <td>XBox</td>\n",
       "      <td>control</td>\n",
       "    </tr>\n",
       "    <tr>\n",
       "      <th>ZZZ91E-MFSYMW</th>\n",
       "      <td>XBox</td>\n",
       "      <td>test</td>\n",
       "    </tr>\n",
       "    <tr>\n",
       "      <th>ZZZTEN-0QGZ3X</th>\n",
       "      <td>XBox</td>\n",
       "      <td>test</td>\n",
       "    </tr>\n",
       "    <tr>\n",
       "      <th>ZZZTR5-QSI6D3</th>\n",
       "      <td>XBox</td>\n",
       "      <td>test</td>\n",
       "    </tr>\n",
       "  </tbody>\n",
       "</table>\n",
       "<p>360527 rows × 2 columns</p>\n",
       "</div>"
      ],
      "text/plain": [
       "              platform    group\n",
       "user_id                        \n",
       "00036L-1T885I     XBox  control\n",
       "0009DN-TWTJIG     XBox  control\n",
       "000B9M-CLSPQD     XBox  control\n",
       "000F5V-PDHPGB     XBox  control\n",
       "000IP5-YWFJUK     XBox  control\n",
       "...                ...      ...\n",
       "ZZZ6L1-Y6RHU9     XBox     test\n",
       "ZZZ6UB-ON8WFC     XBox  control\n",
       "ZZZ91E-MFSYMW     XBox     test\n",
       "ZZZTEN-0QGZ3X     XBox     test\n",
       "ZZZTR5-QSI6D3     XBox     test\n",
       "\n",
       "[360527 rows x 2 columns]"
      ]
     },
     "execution_count": 114,
     "metadata": {},
     "output_type": "execute_result"
    }
   ],
   "source": [
    "user_XBox_group = pd.merge(user_XBox1, abgroup, left_on='user_id', right_on='user_id') \n",
    "user_XBox_group.sort_values('user_id')"
   ]
  },
  {
   "cell_type": "markdown",
   "id": "5c1e8e6c",
   "metadata": {},
   "source": [
    "Добавим в сводный датафрейм по XBox (user_XBox_group) данные по платежам."
   ]
  },
  {
   "cell_type": "code",
   "execution_count": 115,
   "id": "76589b7a",
   "metadata": {},
   "outputs": [
    {
     "data": {
      "text/html": [
       "<div>\n",
       "<style scoped>\n",
       "    .dataframe tbody tr th:only-of-type {\n",
       "        vertical-align: middle;\n",
       "    }\n",
       "\n",
       "    .dataframe tbody tr th {\n",
       "        vertical-align: top;\n",
       "    }\n",
       "\n",
       "    .dataframe thead th {\n",
       "        text-align: right;\n",
       "    }\n",
       "</style>\n",
       "<table border=\"1\" class=\"dataframe\">\n",
       "  <thead>\n",
       "    <tr style=\"text-align: right;\">\n",
       "      <th></th>\n",
       "      <th>user_id</th>\n",
       "      <th>platform</th>\n",
       "      <th>group</th>\n",
       "      <th>date</th>\n",
       "      <th>money</th>\n",
       "    </tr>\n",
       "  </thead>\n",
       "  <tbody>\n",
       "    <tr>\n",
       "      <th>0</th>\n",
       "      <td>00036L-1T885I</td>\n",
       "      <td>XBox</td>\n",
       "      <td>control</td>\n",
       "      <td>10.07.2021</td>\n",
       "      <td>0.00</td>\n",
       "    </tr>\n",
       "    <tr>\n",
       "      <th>2</th>\n",
       "      <td>00036L-1T885I</td>\n",
       "      <td>XBox</td>\n",
       "      <td>control</td>\n",
       "      <td>11.07.2021</td>\n",
       "      <td>0.00</td>\n",
       "    </tr>\n",
       "    <tr>\n",
       "      <th>3</th>\n",
       "      <td>00036L-1T885I</td>\n",
       "      <td>XBox</td>\n",
       "      <td>control</td>\n",
       "      <td>12.07.2021</td>\n",
       "      <td>0.99</td>\n",
       "    </tr>\n",
       "    <tr>\n",
       "      <th>6</th>\n",
       "      <td>00036L-1T885I</td>\n",
       "      <td>XBox</td>\n",
       "      <td>control</td>\n",
       "      <td>13.07.2021</td>\n",
       "      <td>0.00</td>\n",
       "    </tr>\n",
       "    <tr>\n",
       "      <th>4</th>\n",
       "      <td>00036L-1T885I</td>\n",
       "      <td>XBox</td>\n",
       "      <td>control</td>\n",
       "      <td>14.07.2021</td>\n",
       "      <td>0.00</td>\n",
       "    </tr>\n",
       "    <tr>\n",
       "      <th>7</th>\n",
       "      <td>00036L-1T885I</td>\n",
       "      <td>XBox</td>\n",
       "      <td>control</td>\n",
       "      <td>15.07.2021</td>\n",
       "      <td>0.00</td>\n",
       "    </tr>\n",
       "    <tr>\n",
       "      <th>1</th>\n",
       "      <td>00036L-1T885I</td>\n",
       "      <td>XBox</td>\n",
       "      <td>control</td>\n",
       "      <td>16.07.2021</td>\n",
       "      <td>0.99</td>\n",
       "    </tr>\n",
       "    <tr>\n",
       "      <th>5</th>\n",
       "      <td>00036L-1T885I</td>\n",
       "      <td>XBox</td>\n",
       "      <td>control</td>\n",
       "      <td>17.07.2021</td>\n",
       "      <td>1.99</td>\n",
       "    </tr>\n",
       "    <tr>\n",
       "      <th>8</th>\n",
       "      <td>0009DN-TWTJIG</td>\n",
       "      <td>XBox</td>\n",
       "      <td>control</td>\n",
       "      <td>10.07.2021</td>\n",
       "      <td>0.99</td>\n",
       "    </tr>\n",
       "    <tr>\n",
       "      <th>11</th>\n",
       "      <td>0009DN-TWTJIG</td>\n",
       "      <td>XBox</td>\n",
       "      <td>control</td>\n",
       "      <td>11.07.2021</td>\n",
       "      <td>0.00</td>\n",
       "    </tr>\n",
       "    <tr>\n",
       "      <th>13</th>\n",
       "      <td>0009DN-TWTJIG</td>\n",
       "      <td>XBox</td>\n",
       "      <td>control</td>\n",
       "      <td>12.07.2021</td>\n",
       "      <td>0.00</td>\n",
       "    </tr>\n",
       "    <tr>\n",
       "      <th>12</th>\n",
       "      <td>0009DN-TWTJIG</td>\n",
       "      <td>XBox</td>\n",
       "      <td>control</td>\n",
       "      <td>13.07.2021</td>\n",
       "      <td>0.00</td>\n",
       "    </tr>\n",
       "    <tr>\n",
       "      <th>10</th>\n",
       "      <td>0009DN-TWTJIG</td>\n",
       "      <td>XBox</td>\n",
       "      <td>control</td>\n",
       "      <td>14.07.2021</td>\n",
       "      <td>0.00</td>\n",
       "    </tr>\n",
       "    <tr>\n",
       "      <th>15</th>\n",
       "      <td>0009DN-TWTJIG</td>\n",
       "      <td>XBox</td>\n",
       "      <td>control</td>\n",
       "      <td>15.07.2021</td>\n",
       "      <td>0.99</td>\n",
       "    </tr>\n",
       "    <tr>\n",
       "      <th>9</th>\n",
       "      <td>0009DN-TWTJIG</td>\n",
       "      <td>XBox</td>\n",
       "      <td>control</td>\n",
       "      <td>16.07.2021</td>\n",
       "      <td>0.00</td>\n",
       "    </tr>\n",
       "    <tr>\n",
       "      <th>14</th>\n",
       "      <td>0009DN-TWTJIG</td>\n",
       "      <td>XBox</td>\n",
       "      <td>control</td>\n",
       "      <td>17.07.2021</td>\n",
       "      <td>3.99</td>\n",
       "    </tr>\n",
       "    <tr>\n",
       "      <th>19</th>\n",
       "      <td>000B9M-CLSPQD</td>\n",
       "      <td>XBox</td>\n",
       "      <td>control</td>\n",
       "      <td>10.07.2021</td>\n",
       "      <td>0.00</td>\n",
       "    </tr>\n",
       "    <tr>\n",
       "      <th>23</th>\n",
       "      <td>000B9M-CLSPQD</td>\n",
       "      <td>XBox</td>\n",
       "      <td>control</td>\n",
       "      <td>11.07.2021</td>\n",
       "      <td>0.99</td>\n",
       "    </tr>\n",
       "    <tr>\n",
       "      <th>21</th>\n",
       "      <td>000B9M-CLSPQD</td>\n",
       "      <td>XBox</td>\n",
       "      <td>control</td>\n",
       "      <td>12.07.2021</td>\n",
       "      <td>0.00</td>\n",
       "    </tr>\n",
       "    <tr>\n",
       "      <th>17</th>\n",
       "      <td>000B9M-CLSPQD</td>\n",
       "      <td>XBox</td>\n",
       "      <td>control</td>\n",
       "      <td>13.07.2021</td>\n",
       "      <td>0.99</td>\n",
       "    </tr>\n",
       "  </tbody>\n",
       "</table>\n",
       "</div>"
      ],
      "text/plain": [
       "          user_id platform    group        date  money\n",
       "0   00036L-1T885I     XBox  control  10.07.2021   0.00\n",
       "2   00036L-1T885I     XBox  control  11.07.2021   0.00\n",
       "3   00036L-1T885I     XBox  control  12.07.2021   0.99\n",
       "6   00036L-1T885I     XBox  control  13.07.2021   0.00\n",
       "4   00036L-1T885I     XBox  control  14.07.2021   0.00\n",
       "7   00036L-1T885I     XBox  control  15.07.2021   0.00\n",
       "1   00036L-1T885I     XBox  control  16.07.2021   0.99\n",
       "5   00036L-1T885I     XBox  control  17.07.2021   1.99\n",
       "8   0009DN-TWTJIG     XBox  control  10.07.2021   0.99\n",
       "11  0009DN-TWTJIG     XBox  control  11.07.2021   0.00\n",
       "13  0009DN-TWTJIG     XBox  control  12.07.2021   0.00\n",
       "12  0009DN-TWTJIG     XBox  control  13.07.2021   0.00\n",
       "10  0009DN-TWTJIG     XBox  control  14.07.2021   0.00\n",
       "15  0009DN-TWTJIG     XBox  control  15.07.2021   0.99\n",
       "9   0009DN-TWTJIG     XBox  control  16.07.2021   0.00\n",
       "14  0009DN-TWTJIG     XBox  control  17.07.2021   3.99\n",
       "19  000B9M-CLSPQD     XBox  control  10.07.2021   0.00\n",
       "23  000B9M-CLSPQD     XBox  control  11.07.2021   0.99\n",
       "21  000B9M-CLSPQD     XBox  control  12.07.2021   0.00\n",
       "17  000B9M-CLSPQD     XBox  control  13.07.2021   0.99"
      ]
     },
     "execution_count": 115,
     "metadata": {},
     "output_type": "execute_result"
    }
   ],
   "source": [
    "XBox_money = pd.merge(user_XBox_group, df_money, left_on='user_id', right_on='user_id') \n",
    "XBox_money.sort_values(['user_id', 'date']).head(20)"
   ]
  },
  {
   "cell_type": "markdown",
   "id": "c88c2a21",
   "metadata": {},
   "source": [
    "Добавим в сводный датафрейм по XBox (user_XBox_group) данные по тратам внутриигровой валюты."
   ]
  },
  {
   "cell_type": "code",
   "execution_count": 116,
   "id": "ca8ecf18",
   "metadata": {},
   "outputs": [
    {
     "data": {
      "text/html": [
       "<div>\n",
       "<style scoped>\n",
       "    .dataframe tbody tr th:only-of-type {\n",
       "        vertical-align: middle;\n",
       "    }\n",
       "\n",
       "    .dataframe tbody tr th {\n",
       "        vertical-align: top;\n",
       "    }\n",
       "\n",
       "    .dataframe thead th {\n",
       "        text-align: right;\n",
       "    }\n",
       "</style>\n",
       "<table border=\"1\" class=\"dataframe\">\n",
       "  <thead>\n",
       "    <tr style=\"text-align: right;\">\n",
       "      <th></th>\n",
       "      <th>user_id</th>\n",
       "      <th>platform</th>\n",
       "      <th>group</th>\n",
       "      <th>date</th>\n",
       "      <th>cash</th>\n",
       "    </tr>\n",
       "  </thead>\n",
       "  <tbody>\n",
       "    <tr>\n",
       "      <th>5</th>\n",
       "      <td>00036L-1T885I</td>\n",
       "      <td>XBox</td>\n",
       "      <td>control</td>\n",
       "      <td>10.07.2021</td>\n",
       "      <td>700</td>\n",
       "    </tr>\n",
       "    <tr>\n",
       "      <th>1</th>\n",
       "      <td>00036L-1T885I</td>\n",
       "      <td>XBox</td>\n",
       "      <td>control</td>\n",
       "      <td>11.07.2021</td>\n",
       "      <td>0</td>\n",
       "    </tr>\n",
       "    <tr>\n",
       "      <th>3</th>\n",
       "      <td>00036L-1T885I</td>\n",
       "      <td>XBox</td>\n",
       "      <td>control</td>\n",
       "      <td>12.07.2021</td>\n",
       "      <td>1500</td>\n",
       "    </tr>\n",
       "    <tr>\n",
       "      <th>2</th>\n",
       "      <td>00036L-1T885I</td>\n",
       "      <td>XBox</td>\n",
       "      <td>control</td>\n",
       "      <td>13.07.2021</td>\n",
       "      <td>850</td>\n",
       "    </tr>\n",
       "    <tr>\n",
       "      <th>4</th>\n",
       "      <td>00036L-1T885I</td>\n",
       "      <td>XBox</td>\n",
       "      <td>control</td>\n",
       "      <td>14.07.2021</td>\n",
       "      <td>650</td>\n",
       "    </tr>\n",
       "    <tr>\n",
       "      <th>6</th>\n",
       "      <td>00036L-1T885I</td>\n",
       "      <td>XBox</td>\n",
       "      <td>control</td>\n",
       "      <td>15.07.2021</td>\n",
       "      <td>700</td>\n",
       "    </tr>\n",
       "    <tr>\n",
       "      <th>0</th>\n",
       "      <td>00036L-1T885I</td>\n",
       "      <td>XBox</td>\n",
       "      <td>control</td>\n",
       "      <td>16.07.2021</td>\n",
       "      <td>550</td>\n",
       "    </tr>\n",
       "    <tr>\n",
       "      <th>7</th>\n",
       "      <td>00036L-1T885I</td>\n",
       "      <td>XBox</td>\n",
       "      <td>control</td>\n",
       "      <td>17.07.2021</td>\n",
       "      <td>2650</td>\n",
       "    </tr>\n",
       "    <tr>\n",
       "      <th>12</th>\n",
       "      <td>0009DN-TWTJIG</td>\n",
       "      <td>XBox</td>\n",
       "      <td>control</td>\n",
       "      <td>10.07.2021</td>\n",
       "      <td>950</td>\n",
       "    </tr>\n",
       "    <tr>\n",
       "      <th>10</th>\n",
       "      <td>0009DN-TWTJIG</td>\n",
       "      <td>XBox</td>\n",
       "      <td>control</td>\n",
       "      <td>11.07.2021</td>\n",
       "      <td>50</td>\n",
       "    </tr>\n",
       "    <tr>\n",
       "      <th>9</th>\n",
       "      <td>0009DN-TWTJIG</td>\n",
       "      <td>XBox</td>\n",
       "      <td>control</td>\n",
       "      <td>12.07.2021</td>\n",
       "      <td>650</td>\n",
       "    </tr>\n",
       "    <tr>\n",
       "      <th>13</th>\n",
       "      <td>0009DN-TWTJIG</td>\n",
       "      <td>XBox</td>\n",
       "      <td>control</td>\n",
       "      <td>13.07.2021</td>\n",
       "      <td>300</td>\n",
       "    </tr>\n",
       "    <tr>\n",
       "      <th>15</th>\n",
       "      <td>0009DN-TWTJIG</td>\n",
       "      <td>XBox</td>\n",
       "      <td>control</td>\n",
       "      <td>14.07.2021</td>\n",
       "      <td>800</td>\n",
       "    </tr>\n",
       "    <tr>\n",
       "      <th>11</th>\n",
       "      <td>0009DN-TWTJIG</td>\n",
       "      <td>XBox</td>\n",
       "      <td>control</td>\n",
       "      <td>15.07.2021</td>\n",
       "      <td>400</td>\n",
       "    </tr>\n",
       "    <tr>\n",
       "      <th>14</th>\n",
       "      <td>0009DN-TWTJIG</td>\n",
       "      <td>XBox</td>\n",
       "      <td>control</td>\n",
       "      <td>16.07.2021</td>\n",
       "      <td>100</td>\n",
       "    </tr>\n",
       "    <tr>\n",
       "      <th>8</th>\n",
       "      <td>0009DN-TWTJIG</td>\n",
       "      <td>XBox</td>\n",
       "      <td>control</td>\n",
       "      <td>17.07.2021</td>\n",
       "      <td>4000</td>\n",
       "    </tr>\n",
       "    <tr>\n",
       "      <th>18</th>\n",
       "      <td>000B9M-CLSPQD</td>\n",
       "      <td>XBox</td>\n",
       "      <td>control</td>\n",
       "      <td>10.07.2021</td>\n",
       "      <td>800</td>\n",
       "    </tr>\n",
       "    <tr>\n",
       "      <th>16</th>\n",
       "      <td>000B9M-CLSPQD</td>\n",
       "      <td>XBox</td>\n",
       "      <td>control</td>\n",
       "      <td>11.07.2021</td>\n",
       "      <td>1450</td>\n",
       "    </tr>\n",
       "    <tr>\n",
       "      <th>21</th>\n",
       "      <td>000B9M-CLSPQD</td>\n",
       "      <td>XBox</td>\n",
       "      <td>control</td>\n",
       "      <td>12.07.2021</td>\n",
       "      <td>100</td>\n",
       "    </tr>\n",
       "    <tr>\n",
       "      <th>23</th>\n",
       "      <td>000B9M-CLSPQD</td>\n",
       "      <td>XBox</td>\n",
       "      <td>control</td>\n",
       "      <td>13.07.2021</td>\n",
       "      <td>900</td>\n",
       "    </tr>\n",
       "  </tbody>\n",
       "</table>\n",
       "</div>"
      ],
      "text/plain": [
       "          user_id platform    group        date  cash\n",
       "5   00036L-1T885I     XBox  control  10.07.2021   700\n",
       "1   00036L-1T885I     XBox  control  11.07.2021     0\n",
       "3   00036L-1T885I     XBox  control  12.07.2021  1500\n",
       "2   00036L-1T885I     XBox  control  13.07.2021   850\n",
       "4   00036L-1T885I     XBox  control  14.07.2021   650\n",
       "6   00036L-1T885I     XBox  control  15.07.2021   700\n",
       "0   00036L-1T885I     XBox  control  16.07.2021   550\n",
       "7   00036L-1T885I     XBox  control  17.07.2021  2650\n",
       "12  0009DN-TWTJIG     XBox  control  10.07.2021   950\n",
       "10  0009DN-TWTJIG     XBox  control  11.07.2021    50\n",
       "9   0009DN-TWTJIG     XBox  control  12.07.2021   650\n",
       "13  0009DN-TWTJIG     XBox  control  13.07.2021   300\n",
       "15  0009DN-TWTJIG     XBox  control  14.07.2021   800\n",
       "11  0009DN-TWTJIG     XBox  control  15.07.2021   400\n",
       "14  0009DN-TWTJIG     XBox  control  16.07.2021   100\n",
       "8   0009DN-TWTJIG     XBox  control  17.07.2021  4000\n",
       "18  000B9M-CLSPQD     XBox  control  10.07.2021   800\n",
       "16  000B9M-CLSPQD     XBox  control  11.07.2021  1450\n",
       "21  000B9M-CLSPQD     XBox  control  12.07.2021   100\n",
       "23  000B9M-CLSPQD     XBox  control  13.07.2021   900"
      ]
     },
     "execution_count": 116,
     "metadata": {},
     "output_type": "execute_result"
    }
   ],
   "source": [
    "XBox_cash = pd.merge(user_XBox_group, df_cash, left_on='user_id', right_on='user_id') \n",
    "XBox_cash.sort_values(['user_id', 'date']).head(20)"
   ]
  },
  {
   "cell_type": "markdown",
   "id": "be9d9ac6",
   "metadata": {},
   "source": [
    "Получены два датафрейма XBox_money, XBox_cash по площадке XBox для дальнейшего анализа результатов ab-теста."
   ]
  },
  {
   "cell_type": "markdown",
   "id": "25446770",
   "metadata": {},
   "source": [
    "Итого получены 6 датафреймов (по 2 для каждой игровой площадки) для расчета метрик ARPU, ARPPU, трат внутриигровой валюты и построения доверительных итервалов."
   ]
  },
  {
   "cell_type": "markdown",
   "id": "3f9ffc55",
   "metadata": {},
   "source": [
    "Таким образом, основная часть читеров на игровой платформе PC (707 чел), 3 читера на PS4 и 5 читеров на платформе XBox. "
   ]
  },
  {
   "cell_type": "markdown",
   "id": "1b0a3a93",
   "metadata": {},
   "source": [
    " "
   ]
  },
  {
   "cell_type": "markdown",
   "id": "100e71cf",
   "metadata": {},
   "source": [
    "  "
   ]
  },
  {
   "cell_type": "markdown",
   "id": "fdcccba6",
   "metadata": {},
   "source": [
    " "
   ]
  },
  {
   "cell_type": "markdown",
   "id": "c52c535b",
   "metadata": {},
   "source": [
    " "
   ]
  },
  {
   "cell_type": "markdown",
   "id": "8bdfe5f3",
   "metadata": {},
   "source": [
    "  "
   ]
  },
  {
   "cell_type": "markdown",
   "id": "02194d5f",
   "metadata": {},
   "source": [
    "   "
   ]
  },
  {
   "cell_type": "markdown",
   "id": "513af9dd",
   "metadata": {},
   "source": [
    " "
   ]
  },
  {
   "cell_type": "markdown",
   "id": "daccc5dd",
   "metadata": {},
   "source": [
    " "
   ]
  },
  {
   "cell_type": "markdown",
   "id": "eb9a3192",
   "metadata": {},
   "source": [
    " "
   ]
  },
  {
   "cell_type": "markdown",
   "id": "8fe1fa56",
   "metadata": {},
   "source": [
    " "
   ]
  },
  {
   "cell_type": "markdown",
   "id": "ca0ac775",
   "metadata": {},
   "source": [
    " "
   ]
  },
  {
   "cell_type": "markdown",
   "id": "3a55a4da",
   "metadata": {},
   "source": [
    "Получим два датафрейма ab_money, ab_cash по всем игровым площадкам для дальнейшего анализа результатов ab-теста."
   ]
  },
  {
   "cell_type": "code",
   "execution_count": 37,
   "id": "d3c5a30e",
   "metadata": {},
   "outputs": [],
   "source": [
    "platforms = df_platforms.groupby('user_id').agg('max')[['platform']]"
   ]
  },
  {
   "cell_type": "code",
   "execution_count": 38,
   "id": "90338201",
   "metadata": {},
   "outputs": [],
   "source": [
    "abgroup = df_abgroup.groupby('user_id').agg('max')[['group']]"
   ]
  },
  {
   "cell_type": "markdown",
   "id": "b98dec48",
   "metadata": {},
   "source": [
    "Оставим в табл notcheat только перечень неповторяющихся user_id игроков - не читеров (удалим столбцы anomaly_big и cash)."
   ]
  },
  {
   "cell_type": "code",
   "execution_count": 39,
   "id": "6aaca607",
   "metadata": {},
   "outputs": [],
   "source": [
    "notcheat = notcheat.drop(columns=['anomaly_big', 'cash'])"
   ]
  },
  {
   "cell_type": "code",
   "execution_count": 40,
   "id": "9e1f82e5",
   "metadata": {},
   "outputs": [
    {
     "data": {
      "text/html": [
       "<div>\n",
       "<style scoped>\n",
       "    .dataframe tbody tr th:only-of-type {\n",
       "        vertical-align: middle;\n",
       "    }\n",
       "\n",
       "    .dataframe tbody tr th {\n",
       "        vertical-align: top;\n",
       "    }\n",
       "\n",
       "    .dataframe thead th {\n",
       "        text-align: right;\n",
       "    }\n",
       "</style>\n",
       "<table border=\"1\" class=\"dataframe\">\n",
       "  <thead>\n",
       "    <tr style=\"text-align: right;\">\n",
       "      <th></th>\n",
       "      <th>platform</th>\n",
       "    </tr>\n",
       "    <tr>\n",
       "      <th>user_id</th>\n",
       "      <th></th>\n",
       "    </tr>\n",
       "  </thead>\n",
       "  <tbody>\n",
       "    <tr>\n",
       "      <th>00036L-1T885I</th>\n",
       "      <td>XBox</td>\n",
       "    </tr>\n",
       "    <tr>\n",
       "      <th>0004MK-MRBUKF</th>\n",
       "      <td>PS4</td>\n",
       "    </tr>\n",
       "    <tr>\n",
       "      <th>0004MK-VW0O9L</th>\n",
       "      <td>PC</td>\n",
       "    </tr>\n",
       "    <tr>\n",
       "      <th>0005S4-UEC6BE</th>\n",
       "      <td>PC</td>\n",
       "    </tr>\n",
       "    <tr>\n",
       "      <th>0007I5-EWUD6O</th>\n",
       "      <td>PC</td>\n",
       "    </tr>\n",
       "    <tr>\n",
       "      <th>...</th>\n",
       "      <td>...</td>\n",
       "    </tr>\n",
       "    <tr>\n",
       "      <th>ZZZPEX-P2T8BH</th>\n",
       "      <td>PC</td>\n",
       "    </tr>\n",
       "    <tr>\n",
       "      <th>ZZZTEN-0QGZ3X</th>\n",
       "      <td>XBox</td>\n",
       "    </tr>\n",
       "    <tr>\n",
       "      <th>ZZZTR5-QSI6D3</th>\n",
       "      <td>XBox</td>\n",
       "    </tr>\n",
       "    <tr>\n",
       "      <th>ZZZV9K-NM9B4Z</th>\n",
       "      <td>PS4</td>\n",
       "    </tr>\n",
       "    <tr>\n",
       "      <th>ZZZVH1-2OJT7I</th>\n",
       "      <td>PC</td>\n",
       "    </tr>\n",
       "  </tbody>\n",
       "</table>\n",
       "<p>1079285 rows × 1 columns</p>\n",
       "</div>"
      ],
      "text/plain": [
       "              platform\n",
       "user_id               \n",
       "00036L-1T885I     XBox\n",
       "0004MK-MRBUKF      PS4\n",
       "0004MK-VW0O9L       PC\n",
       "0005S4-UEC6BE       PC\n",
       "0007I5-EWUD6O       PC\n",
       "...                ...\n",
       "ZZZPEX-P2T8BH       PC\n",
       "ZZZTEN-0QGZ3X     XBox\n",
       "ZZZTR5-QSI6D3     XBox\n",
       "ZZZV9K-NM9B4Z      PS4\n",
       "ZZZVH1-2OJT7I       PC\n",
       "\n",
       "[1079285 rows x 1 columns]"
      ]
     },
     "execution_count": 40,
     "metadata": {},
     "output_type": "execute_result"
    }
   ],
   "source": [
    "# соединим таблицы platforms и табл notcheat (с user_id = \"не читерами\"), \n",
    "# получим перечень уникальных user_id без читеров с указанием платформы:\n",
    "users_platforms = pd.merge(notcheat, platforms, left_on='user_id', right_on='user_id') \n",
    "users_platforms"
   ]
  },
  {
   "cell_type": "markdown",
   "id": "04426ca0",
   "metadata": {},
   "source": [
    "Добавим данные ab-group по \"не читерам\"."
   ]
  },
  {
   "cell_type": "code",
   "execution_count": 41,
   "id": "d38bf16f",
   "metadata": {},
   "outputs": [
    {
     "data": {
      "text/html": [
       "<div>\n",
       "<style scoped>\n",
       "    .dataframe tbody tr th:only-of-type {\n",
       "        vertical-align: middle;\n",
       "    }\n",
       "\n",
       "    .dataframe tbody tr th {\n",
       "        vertical-align: top;\n",
       "    }\n",
       "\n",
       "    .dataframe thead th {\n",
       "        text-align: right;\n",
       "    }\n",
       "</style>\n",
       "<table border=\"1\" class=\"dataframe\">\n",
       "  <thead>\n",
       "    <tr style=\"text-align: right;\">\n",
       "      <th></th>\n",
       "      <th>platform</th>\n",
       "      <th>group</th>\n",
       "    </tr>\n",
       "    <tr>\n",
       "      <th>user_id</th>\n",
       "      <th></th>\n",
       "      <th></th>\n",
       "    </tr>\n",
       "  </thead>\n",
       "  <tbody>\n",
       "    <tr>\n",
       "      <th>00036L-1T885I</th>\n",
       "      <td>XBox</td>\n",
       "      <td>control</td>\n",
       "    </tr>\n",
       "    <tr>\n",
       "      <th>0004MK-MRBUKF</th>\n",
       "      <td>PS4</td>\n",
       "      <td>control</td>\n",
       "    </tr>\n",
       "    <tr>\n",
       "      <th>0004MK-VW0O9L</th>\n",
       "      <td>PC</td>\n",
       "      <td>test</td>\n",
       "    </tr>\n",
       "    <tr>\n",
       "      <th>0005S4-UEC6BE</th>\n",
       "      <td>PC</td>\n",
       "      <td>test</td>\n",
       "    </tr>\n",
       "    <tr>\n",
       "      <th>0007I5-EWUD6O</th>\n",
       "      <td>PC</td>\n",
       "      <td>test</td>\n",
       "    </tr>\n",
       "    <tr>\n",
       "      <th>...</th>\n",
       "      <td>...</td>\n",
       "      <td>...</td>\n",
       "    </tr>\n",
       "    <tr>\n",
       "      <th>ZZZPEX-P2T8BH</th>\n",
       "      <td>PC</td>\n",
       "      <td>test</td>\n",
       "    </tr>\n",
       "    <tr>\n",
       "      <th>ZZZTEN-0QGZ3X</th>\n",
       "      <td>XBox</td>\n",
       "      <td>test</td>\n",
       "    </tr>\n",
       "    <tr>\n",
       "      <th>ZZZTR5-QSI6D3</th>\n",
       "      <td>XBox</td>\n",
       "      <td>test</td>\n",
       "    </tr>\n",
       "    <tr>\n",
       "      <th>ZZZV9K-NM9B4Z</th>\n",
       "      <td>PS4</td>\n",
       "      <td>control</td>\n",
       "    </tr>\n",
       "    <tr>\n",
       "      <th>ZZZVH1-2OJT7I</th>\n",
       "      <td>PC</td>\n",
       "      <td>control</td>\n",
       "    </tr>\n",
       "  </tbody>\n",
       "</table>\n",
       "<p>1079285 rows × 2 columns</p>\n",
       "</div>"
      ],
      "text/plain": [
       "              platform    group\n",
       "user_id                        \n",
       "00036L-1T885I     XBox  control\n",
       "0004MK-MRBUKF      PS4  control\n",
       "0004MK-VW0O9L       PC     test\n",
       "0005S4-UEC6BE       PC     test\n",
       "0007I5-EWUD6O       PC     test\n",
       "...                ...      ...\n",
       "ZZZPEX-P2T8BH       PC     test\n",
       "ZZZTEN-0QGZ3X     XBox     test\n",
       "ZZZTR5-QSI6D3     XBox     test\n",
       "ZZZV9K-NM9B4Z      PS4  control\n",
       "ZZZVH1-2OJT7I       PC  control\n",
       "\n",
       "[1079285 rows x 2 columns]"
      ]
     },
     "execution_count": 41,
     "metadata": {},
     "output_type": "execute_result"
    }
   ],
   "source": [
    "users_group = pd.merge(users_platforms, abgroup, left_on='user_id', right_on='user_id') \n",
    "users_group.sort_values('user_id')"
   ]
  },
  {
   "cell_type": "code",
   "execution_count": 42,
   "id": "4356950b",
   "metadata": {},
   "outputs": [
    {
     "data": {
      "text/html": [
       "<div>\n",
       "<style scoped>\n",
       "    .dataframe tbody tr th:only-of-type {\n",
       "        vertical-align: middle;\n",
       "    }\n",
       "\n",
       "    .dataframe tbody tr th {\n",
       "        vertical-align: top;\n",
       "    }\n",
       "\n",
       "    .dataframe thead th {\n",
       "        text-align: right;\n",
       "    }\n",
       "</style>\n",
       "<table border=\"1\" class=\"dataframe\">\n",
       "  <thead>\n",
       "    <tr style=\"text-align: right;\">\n",
       "      <th></th>\n",
       "      <th>platform</th>\n",
       "      <th>group</th>\n",
       "    </tr>\n",
       "    <tr>\n",
       "      <th>user_id</th>\n",
       "      <th></th>\n",
       "      <th></th>\n",
       "    </tr>\n",
       "  </thead>\n",
       "  <tbody>\n",
       "    <tr>\n",
       "      <th>00036L-1T885I</th>\n",
       "      <td>XBox</td>\n",
       "      <td>control</td>\n",
       "    </tr>\n",
       "    <tr>\n",
       "      <th>0004MK-MRBUKF</th>\n",
       "      <td>PS4</td>\n",
       "      <td>control</td>\n",
       "    </tr>\n",
       "    <tr>\n",
       "      <th>0004MK-VW0O9L</th>\n",
       "      <td>PC</td>\n",
       "      <td>test</td>\n",
       "    </tr>\n",
       "    <tr>\n",
       "      <th>0005S4-UEC6BE</th>\n",
       "      <td>PC</td>\n",
       "      <td>test</td>\n",
       "    </tr>\n",
       "    <tr>\n",
       "      <th>0007I5-EWUD6O</th>\n",
       "      <td>PC</td>\n",
       "      <td>test</td>\n",
       "    </tr>\n",
       "    <tr>\n",
       "      <th>...</th>\n",
       "      <td>...</td>\n",
       "      <td>...</td>\n",
       "    </tr>\n",
       "    <tr>\n",
       "      <th>ZZZPEX-P2T8BH</th>\n",
       "      <td>PC</td>\n",
       "      <td>test</td>\n",
       "    </tr>\n",
       "    <tr>\n",
       "      <th>ZZZTEN-0QGZ3X</th>\n",
       "      <td>XBox</td>\n",
       "      <td>test</td>\n",
       "    </tr>\n",
       "    <tr>\n",
       "      <th>ZZZTR5-QSI6D3</th>\n",
       "      <td>XBox</td>\n",
       "      <td>test</td>\n",
       "    </tr>\n",
       "    <tr>\n",
       "      <th>ZZZV9K-NM9B4Z</th>\n",
       "      <td>PS4</td>\n",
       "      <td>control</td>\n",
       "    </tr>\n",
       "    <tr>\n",
       "      <th>ZZZVH1-2OJT7I</th>\n",
       "      <td>PC</td>\n",
       "      <td>control</td>\n",
       "    </tr>\n",
       "  </tbody>\n",
       "</table>\n",
       "<p>1079285 rows × 2 columns</p>\n",
       "</div>"
      ],
      "text/plain": [
       "              platform    group\n",
       "user_id                        \n",
       "00036L-1T885I     XBox  control\n",
       "0004MK-MRBUKF      PS4  control\n",
       "0004MK-VW0O9L       PC     test\n",
       "0005S4-UEC6BE       PC     test\n",
       "0007I5-EWUD6O       PC     test\n",
       "...                ...      ...\n",
       "ZZZPEX-P2T8BH       PC     test\n",
       "ZZZTEN-0QGZ3X     XBox     test\n",
       "ZZZTR5-QSI6D3     XBox     test\n",
       "ZZZV9K-NM9B4Z      PS4  control\n",
       "ZZZVH1-2OJT7I       PC  control\n",
       "\n",
       "[1079285 rows x 2 columns]"
      ]
     },
     "execution_count": 42,
     "metadata": {},
     "output_type": "execute_result"
    }
   ],
   "source": [
    "users_group.sort_values('user_id')"
   ]
  },
  {
   "cell_type": "markdown",
   "id": "9c0e368b",
   "metadata": {},
   "source": [
    "Добавим в сводный датафрейм по всем игровым площадкам (users_group) данные по платежам."
   ]
  },
  {
   "cell_type": "code",
   "execution_count": 43,
   "id": "4ed786db",
   "metadata": {},
   "outputs": [
    {
     "data": {
      "text/html": [
       "<div>\n",
       "<style scoped>\n",
       "    .dataframe tbody tr th:only-of-type {\n",
       "        vertical-align: middle;\n",
       "    }\n",
       "\n",
       "    .dataframe tbody tr th {\n",
       "        vertical-align: top;\n",
       "    }\n",
       "\n",
       "    .dataframe thead th {\n",
       "        text-align: right;\n",
       "    }\n",
       "</style>\n",
       "<table border=\"1\" class=\"dataframe\">\n",
       "  <thead>\n",
       "    <tr style=\"text-align: right;\">\n",
       "      <th></th>\n",
       "      <th>user_id</th>\n",
       "      <th>platform</th>\n",
       "      <th>group</th>\n",
       "      <th>date</th>\n",
       "      <th>money</th>\n",
       "    </tr>\n",
       "  </thead>\n",
       "  <tbody>\n",
       "    <tr>\n",
       "      <th>0</th>\n",
       "      <td>00036L-1T885I</td>\n",
       "      <td>XBox</td>\n",
       "      <td>control</td>\n",
       "      <td>10.07.2021</td>\n",
       "      <td>0.00</td>\n",
       "    </tr>\n",
       "    <tr>\n",
       "      <th>2</th>\n",
       "      <td>00036L-1T885I</td>\n",
       "      <td>XBox</td>\n",
       "      <td>control</td>\n",
       "      <td>11.07.2021</td>\n",
       "      <td>0.00</td>\n",
       "    </tr>\n",
       "    <tr>\n",
       "      <th>3</th>\n",
       "      <td>00036L-1T885I</td>\n",
       "      <td>XBox</td>\n",
       "      <td>control</td>\n",
       "      <td>12.07.2021</td>\n",
       "      <td>0.99</td>\n",
       "    </tr>\n",
       "    <tr>\n",
       "      <th>6</th>\n",
       "      <td>00036L-1T885I</td>\n",
       "      <td>XBox</td>\n",
       "      <td>control</td>\n",
       "      <td>13.07.2021</td>\n",
       "      <td>0.00</td>\n",
       "    </tr>\n",
       "    <tr>\n",
       "      <th>4</th>\n",
       "      <td>00036L-1T885I</td>\n",
       "      <td>XBox</td>\n",
       "      <td>control</td>\n",
       "      <td>14.07.2021</td>\n",
       "      <td>0.00</td>\n",
       "    </tr>\n",
       "    <tr>\n",
       "      <th>7</th>\n",
       "      <td>00036L-1T885I</td>\n",
       "      <td>XBox</td>\n",
       "      <td>control</td>\n",
       "      <td>15.07.2021</td>\n",
       "      <td>0.00</td>\n",
       "    </tr>\n",
       "    <tr>\n",
       "      <th>1</th>\n",
       "      <td>00036L-1T885I</td>\n",
       "      <td>XBox</td>\n",
       "      <td>control</td>\n",
       "      <td>16.07.2021</td>\n",
       "      <td>0.99</td>\n",
       "    </tr>\n",
       "    <tr>\n",
       "      <th>5</th>\n",
       "      <td>00036L-1T885I</td>\n",
       "      <td>XBox</td>\n",
       "      <td>control</td>\n",
       "      <td>17.07.2021</td>\n",
       "      <td>1.99</td>\n",
       "    </tr>\n",
       "    <tr>\n",
       "      <th>9</th>\n",
       "      <td>0004MK-MRBUKF</td>\n",
       "      <td>PS4</td>\n",
       "      <td>control</td>\n",
       "      <td>10.07.2021</td>\n",
       "      <td>0.00</td>\n",
       "    </tr>\n",
       "    <tr>\n",
       "      <th>10</th>\n",
       "      <td>0004MK-MRBUKF</td>\n",
       "      <td>PS4</td>\n",
       "      <td>control</td>\n",
       "      <td>11.07.2021</td>\n",
       "      <td>1.99</td>\n",
       "    </tr>\n",
       "  </tbody>\n",
       "</table>\n",
       "</div>"
      ],
      "text/plain": [
       "          user_id platform    group        date  money\n",
       "0   00036L-1T885I     XBox  control  10.07.2021   0.00\n",
       "2   00036L-1T885I     XBox  control  11.07.2021   0.00\n",
       "3   00036L-1T885I     XBox  control  12.07.2021   0.99\n",
       "6   00036L-1T885I     XBox  control  13.07.2021   0.00\n",
       "4   00036L-1T885I     XBox  control  14.07.2021   0.00\n",
       "7   00036L-1T885I     XBox  control  15.07.2021   0.00\n",
       "1   00036L-1T885I     XBox  control  16.07.2021   0.99\n",
       "5   00036L-1T885I     XBox  control  17.07.2021   1.99\n",
       "9   0004MK-MRBUKF      PS4  control  10.07.2021   0.00\n",
       "10  0004MK-MRBUKF      PS4  control  11.07.2021   1.99"
      ]
     },
     "execution_count": 43,
     "metadata": {},
     "output_type": "execute_result"
    }
   ],
   "source": [
    "ab_money = pd.merge(users_group, df_money, left_on='user_id', right_on='user_id') \n",
    "ab_money.sort_values(['user_id', 'date']).head(10)"
   ]
  },
  {
   "cell_type": "markdown",
   "id": "ee06b3eb",
   "metadata": {},
   "source": [
    "Добавим в сводный датафрейм по всем игровым площадкам (users_group) данные по тратам внутриигровой валюты."
   ]
  },
  {
   "cell_type": "code",
   "execution_count": 44,
   "id": "3ee345c1",
   "metadata": {},
   "outputs": [
    {
     "data": {
      "text/html": [
       "<div>\n",
       "<style scoped>\n",
       "    .dataframe tbody tr th:only-of-type {\n",
       "        vertical-align: middle;\n",
       "    }\n",
       "\n",
       "    .dataframe tbody tr th {\n",
       "        vertical-align: top;\n",
       "    }\n",
       "\n",
       "    .dataframe thead th {\n",
       "        text-align: right;\n",
       "    }\n",
       "</style>\n",
       "<table border=\"1\" class=\"dataframe\">\n",
       "  <thead>\n",
       "    <tr style=\"text-align: right;\">\n",
       "      <th></th>\n",
       "      <th>user_id</th>\n",
       "      <th>platform</th>\n",
       "      <th>group</th>\n",
       "      <th>date</th>\n",
       "      <th>cash</th>\n",
       "    </tr>\n",
       "  </thead>\n",
       "  <tbody>\n",
       "    <tr>\n",
       "      <th>5</th>\n",
       "      <td>00036L-1T885I</td>\n",
       "      <td>XBox</td>\n",
       "      <td>control</td>\n",
       "      <td>10.07.2021</td>\n",
       "      <td>700</td>\n",
       "    </tr>\n",
       "    <tr>\n",
       "      <th>1</th>\n",
       "      <td>00036L-1T885I</td>\n",
       "      <td>XBox</td>\n",
       "      <td>control</td>\n",
       "      <td>11.07.2021</td>\n",
       "      <td>0</td>\n",
       "    </tr>\n",
       "    <tr>\n",
       "      <th>3</th>\n",
       "      <td>00036L-1T885I</td>\n",
       "      <td>XBox</td>\n",
       "      <td>control</td>\n",
       "      <td>12.07.2021</td>\n",
       "      <td>1500</td>\n",
       "    </tr>\n",
       "    <tr>\n",
       "      <th>2</th>\n",
       "      <td>00036L-1T885I</td>\n",
       "      <td>XBox</td>\n",
       "      <td>control</td>\n",
       "      <td>13.07.2021</td>\n",
       "      <td>850</td>\n",
       "    </tr>\n",
       "    <tr>\n",
       "      <th>4</th>\n",
       "      <td>00036L-1T885I</td>\n",
       "      <td>XBox</td>\n",
       "      <td>control</td>\n",
       "      <td>14.07.2021</td>\n",
       "      <td>650</td>\n",
       "    </tr>\n",
       "    <tr>\n",
       "      <th>6</th>\n",
       "      <td>00036L-1T885I</td>\n",
       "      <td>XBox</td>\n",
       "      <td>control</td>\n",
       "      <td>15.07.2021</td>\n",
       "      <td>700</td>\n",
       "    </tr>\n",
       "    <tr>\n",
       "      <th>0</th>\n",
       "      <td>00036L-1T885I</td>\n",
       "      <td>XBox</td>\n",
       "      <td>control</td>\n",
       "      <td>16.07.2021</td>\n",
       "      <td>550</td>\n",
       "    </tr>\n",
       "    <tr>\n",
       "      <th>7</th>\n",
       "      <td>00036L-1T885I</td>\n",
       "      <td>XBox</td>\n",
       "      <td>control</td>\n",
       "      <td>17.07.2021</td>\n",
       "      <td>2650</td>\n",
       "    </tr>\n",
       "    <tr>\n",
       "      <th>10</th>\n",
       "      <td>0004MK-MRBUKF</td>\n",
       "      <td>PS4</td>\n",
       "      <td>control</td>\n",
       "      <td>10.07.2021</td>\n",
       "      <td>550</td>\n",
       "    </tr>\n",
       "    <tr>\n",
       "      <th>14</th>\n",
       "      <td>0004MK-MRBUKF</td>\n",
       "      <td>PS4</td>\n",
       "      <td>control</td>\n",
       "      <td>11.07.2021</td>\n",
       "      <td>1100</td>\n",
       "    </tr>\n",
       "  </tbody>\n",
       "</table>\n",
       "</div>"
      ],
      "text/plain": [
       "          user_id platform    group        date  cash\n",
       "5   00036L-1T885I     XBox  control  10.07.2021   700\n",
       "1   00036L-1T885I     XBox  control  11.07.2021     0\n",
       "3   00036L-1T885I     XBox  control  12.07.2021  1500\n",
       "2   00036L-1T885I     XBox  control  13.07.2021   850\n",
       "4   00036L-1T885I     XBox  control  14.07.2021   650\n",
       "6   00036L-1T885I     XBox  control  15.07.2021   700\n",
       "0   00036L-1T885I     XBox  control  16.07.2021   550\n",
       "7   00036L-1T885I     XBox  control  17.07.2021  2650\n",
       "10  0004MK-MRBUKF      PS4  control  10.07.2021   550\n",
       "14  0004MK-MRBUKF      PS4  control  11.07.2021  1100"
      ]
     },
     "execution_count": 44,
     "metadata": {},
     "output_type": "execute_result"
    }
   ],
   "source": [
    "ab_cash = pd.merge(users_group, df_cash, left_on='user_id', right_on='user_id') \n",
    "ab_cash.sort_values(['user_id', 'date']).head(10)"
   ]
  },
  {
   "cell_type": "markdown",
   "id": "07829bcb",
   "metadata": {},
   "source": [
    "Итого получены 2 датафреймa для расчета метрик ARPU, ARPPU, трат внутриигровой валюты и построения доверительных итервалов."
   ]
  },
  {
   "cell_type": "code",
   "execution_count": 45,
   "id": "e2ab1048",
   "metadata": {},
   "outputs": [
    {
     "data": {
      "text/plain": [
       "539295.0"
      ]
     },
     "execution_count": 45,
     "metadata": {},
     "output_type": "execute_result"
    }
   ],
   "source": [
    "len(ab_money[ab_money['group'] == 'test'])/8"
   ]
  },
  {
   "cell_type": "code",
   "execution_count": 46,
   "id": "732497b4",
   "metadata": {},
   "outputs": [
    {
     "data": {
      "text/plain": [
       "539990.0"
      ]
     },
     "execution_count": 46,
     "metadata": {},
     "output_type": "execute_result"
    }
   ],
   "source": [
    "len(ab_money[ab_money['group'] == 'control'])/8"
   ]
  },
  {
   "cell_type": "markdown",
   "id": "41689d8b",
   "metadata": {},
   "source": [
    " "
   ]
  },
  {
   "cell_type": "markdown",
   "id": "d0f0fc74",
   "metadata": {},
   "source": [
    "  "
   ]
  },
  {
   "cell_type": "markdown",
   "id": "af98756d",
   "metadata": {},
   "source": [
    " "
   ]
  },
  {
   "cell_type": "markdown",
   "id": "442b653f",
   "metadata": {},
   "source": [
    " "
   ]
  },
  {
   "cell_type": "markdown",
   "id": "c86a97e3",
   "metadata": {},
   "source": [
    " "
   ]
  },
  {
   "cell_type": "markdown",
   "id": "c24fe348",
   "metadata": {},
   "source": [
    " 1. Рассчитаем и сравним метрики для площадки PC."
   ]
  },
  {
   "cell_type": "markdown",
   "id": "ce9467e7",
   "metadata": {},
   "source": [
    "1.1. Рассчитаем ARPU(средняя прибыль на игрока) для двух групп на платформе PC."
   ]
  },
  {
   "cell_type": "markdown",
   "id": "1ed67da2",
   "metadata": {},
   "source": [
    "Чтобы уменьшить загрузку системы, сделаю предварительное разделение таблиц ab_money, ab_cash по типам игровых платформ."
   ]
  },
  {
   "cell_type": "code",
   "execution_count": 101,
   "id": "ce8e0f07",
   "metadata": {},
   "outputs": [
    {
     "data": {
      "text/plain": [
       "179810.0"
      ]
     },
     "execution_count": 101,
     "metadata": {},
     "output_type": "execute_result"
    }
   ],
   "source": [
    "len(ab_money[(ab_money['platform'] == 'PC') & (ab_money['group'] == 'test')])/8"
   ]
  },
  {
   "cell_type": "code",
   "execution_count": 102,
   "id": "766e73d5",
   "metadata": {},
   "outputs": [
    {
     "data": {
      "text/plain": [
       "179732.0"
      ]
     },
     "execution_count": 102,
     "metadata": {},
     "output_type": "execute_result"
    }
   ],
   "source": [
    "len(ab_money[(ab_money['platform'] == 'PC') & (ab_money['group'] == 'control')])/8"
   ]
  },
  {
   "cell_type": "code",
   "execution_count": 103,
   "id": "1d21abf1",
   "metadata": {},
   "outputs": [
    {
     "data": {
      "text/html": [
       "<div>\n",
       "<style scoped>\n",
       "    .dataframe tbody tr th:only-of-type {\n",
       "        vertical-align: middle;\n",
       "    }\n",
       "\n",
       "    .dataframe tbody tr th {\n",
       "        vertical-align: top;\n",
       "    }\n",
       "\n",
       "    .dataframe thead th {\n",
       "        text-align: right;\n",
       "    }\n",
       "</style>\n",
       "<table border=\"1\" class=\"dataframe\">\n",
       "  <thead>\n",
       "    <tr style=\"text-align: right;\">\n",
       "      <th></th>\n",
       "      <th>AR_t_PC</th>\n",
       "    </tr>\n",
       "    <tr>\n",
       "      <th>date</th>\n",
       "      <th></th>\n",
       "    </tr>\n",
       "  </thead>\n",
       "  <tbody>\n",
       "    <tr>\n",
       "      <th>10.07.2021</th>\n",
       "      <td>0.783128</td>\n",
       "    </tr>\n",
       "    <tr>\n",
       "      <th>11.07.2021</th>\n",
       "      <td>0.782359</td>\n",
       "    </tr>\n",
       "    <tr>\n",
       "      <th>12.07.2021</th>\n",
       "      <td>0.779498</td>\n",
       "    </tr>\n",
       "    <tr>\n",
       "      <th>13.07.2021</th>\n",
       "      <td>0.762110</td>\n",
       "    </tr>\n",
       "    <tr>\n",
       "      <th>14.07.2021</th>\n",
       "      <td>0.723891</td>\n",
       "    </tr>\n",
       "    <tr>\n",
       "      <th>15.07.2021</th>\n",
       "      <td>0.669944</td>\n",
       "    </tr>\n",
       "    <tr>\n",
       "      <th>16.07.2021</th>\n",
       "      <td>0.591685</td>\n",
       "    </tr>\n",
       "    <tr>\n",
       "      <th>17.07.2021</th>\n",
       "      <td>1.176109</td>\n",
       "    </tr>\n",
       "  </tbody>\n",
       "</table>\n",
       "</div>"
      ],
      "text/plain": [
       "             AR_t_PC\n",
       "date                \n",
       "10.07.2021  0.783128\n",
       "11.07.2021  0.782359\n",
       "12.07.2021  0.779498\n",
       "13.07.2021  0.762110\n",
       "14.07.2021  0.723891\n",
       "15.07.2021  0.669944\n",
       "16.07.2021  0.591685\n",
       "17.07.2021  1.176109"
      ]
     },
     "execution_count": 103,
     "metadata": {},
     "output_type": "execute_result"
    }
   ],
   "source": [
    "PC_test_m = ab_money[(ab_money['platform'] == 'PC') & (ab_money['group'] == 'test')]\n",
    "ARPU_PC_test = PC_test_m.groupby('date').agg('mean')[['money']]\n",
    "ARPU_PC_test.rename(columns={'money': 'AR_t_PC'}, inplace=True)\n",
    "ARPU_PC_test"
   ]
  },
  {
   "cell_type": "code",
   "execution_count": 104,
   "id": "37aba666",
   "metadata": {},
   "outputs": [
    {
     "data": {
      "text/html": [
       "<div>\n",
       "<style scoped>\n",
       "    .dataframe tbody tr th:only-of-type {\n",
       "        vertical-align: middle;\n",
       "    }\n",
       "\n",
       "    .dataframe tbody tr th {\n",
       "        vertical-align: top;\n",
       "    }\n",
       "\n",
       "    .dataframe thead th {\n",
       "        text-align: right;\n",
       "    }\n",
       "</style>\n",
       "<table border=\"1\" class=\"dataframe\">\n",
       "  <thead>\n",
       "    <tr style=\"text-align: right;\">\n",
       "      <th></th>\n",
       "      <th>AR_c_PC</th>\n",
       "    </tr>\n",
       "    <tr>\n",
       "      <th>date</th>\n",
       "      <th></th>\n",
       "    </tr>\n",
       "  </thead>\n",
       "  <tbody>\n",
       "    <tr>\n",
       "      <th>10.07.2021</th>\n",
       "      <td>0.716623</td>\n",
       "    </tr>\n",
       "    <tr>\n",
       "      <th>11.07.2021</th>\n",
       "      <td>0.712882</td>\n",
       "    </tr>\n",
       "    <tr>\n",
       "      <th>12.07.2021</th>\n",
       "      <td>0.712218</td>\n",
       "    </tr>\n",
       "    <tr>\n",
       "      <th>13.07.2021</th>\n",
       "      <td>0.697021</td>\n",
       "    </tr>\n",
       "    <tr>\n",
       "      <th>14.07.2021</th>\n",
       "      <td>0.660105</td>\n",
       "    </tr>\n",
       "    <tr>\n",
       "      <th>15.07.2021</th>\n",
       "      <td>0.605105</td>\n",
       "    </tr>\n",
       "    <tr>\n",
       "      <th>16.07.2021</th>\n",
       "      <td>0.539199</td>\n",
       "    </tr>\n",
       "    <tr>\n",
       "      <th>17.07.2021</th>\n",
       "      <td>1.003050</td>\n",
       "    </tr>\n",
       "  </tbody>\n",
       "</table>\n",
       "</div>"
      ],
      "text/plain": [
       "             AR_c_PC\n",
       "date                \n",
       "10.07.2021  0.716623\n",
       "11.07.2021  0.712882\n",
       "12.07.2021  0.712218\n",
       "13.07.2021  0.697021\n",
       "14.07.2021  0.660105\n",
       "15.07.2021  0.605105\n",
       "16.07.2021  0.539199\n",
       "17.07.2021  1.003050"
      ]
     },
     "execution_count": 104,
     "metadata": {},
     "output_type": "execute_result"
    }
   ],
   "source": [
    "PC_control_m = ab_money[(ab_money['platform'] == 'PC') & (ab_money['group'] == 'control')]\n",
    "ARPU_PC_control = PC_control_m.groupby('date').agg('mean')[['money']]\n",
    "ARPU_PC_control.rename(columns={'money': 'AR_c_PC'}, inplace=True)\n",
    "ARPU_PC_control"
   ]
  },
  {
   "cell_type": "markdown",
   "id": "a6dca1fe",
   "metadata": {},
   "source": [
    "Соединим в один df ARPU для двух групп площадки PC и рассчитаем эффект в %."
   ]
  },
  {
   "cell_type": "code",
   "execution_count": 105,
   "id": "8dc04805",
   "metadata": {},
   "outputs": [
    {
     "data": {
      "text/html": [
       "<div>\n",
       "<style scoped>\n",
       "    .dataframe tbody tr th:only-of-type {\n",
       "        vertical-align: middle;\n",
       "    }\n",
       "\n",
       "    .dataframe tbody tr th {\n",
       "        vertical-align: top;\n",
       "    }\n",
       "\n",
       "    .dataframe thead th {\n",
       "        text-align: right;\n",
       "    }\n",
       "</style>\n",
       "<table border=\"1\" class=\"dataframe\">\n",
       "  <thead>\n",
       "    <tr style=\"text-align: right;\">\n",
       "      <th></th>\n",
       "      <th>AR_t_PC</th>\n",
       "      <th>AR_c_PC</th>\n",
       "      <th>perc_PC</th>\n",
       "    </tr>\n",
       "    <tr>\n",
       "      <th>date</th>\n",
       "      <th></th>\n",
       "      <th></th>\n",
       "      <th></th>\n",
       "    </tr>\n",
       "  </thead>\n",
       "  <tbody>\n",
       "    <tr>\n",
       "      <th>10.07.2021</th>\n",
       "      <td>0.783</td>\n",
       "      <td>0.717</td>\n",
       "      <td>9.3</td>\n",
       "    </tr>\n",
       "    <tr>\n",
       "      <th>11.07.2021</th>\n",
       "      <td>0.782</td>\n",
       "      <td>0.713</td>\n",
       "      <td>9.7</td>\n",
       "    </tr>\n",
       "    <tr>\n",
       "      <th>12.07.2021</th>\n",
       "      <td>0.779</td>\n",
       "      <td>0.712</td>\n",
       "      <td>9.4</td>\n",
       "    </tr>\n",
       "    <tr>\n",
       "      <th>13.07.2021</th>\n",
       "      <td>0.762</td>\n",
       "      <td>0.697</td>\n",
       "      <td>9.3</td>\n",
       "    </tr>\n",
       "    <tr>\n",
       "      <th>14.07.2021</th>\n",
       "      <td>0.724</td>\n",
       "      <td>0.660</td>\n",
       "      <td>9.7</td>\n",
       "    </tr>\n",
       "    <tr>\n",
       "      <th>15.07.2021</th>\n",
       "      <td>0.670</td>\n",
       "      <td>0.605</td>\n",
       "      <td>10.7</td>\n",
       "    </tr>\n",
       "    <tr>\n",
       "      <th>16.07.2021</th>\n",
       "      <td>0.592</td>\n",
       "      <td>0.539</td>\n",
       "      <td>9.7</td>\n",
       "    </tr>\n",
       "    <tr>\n",
       "      <th>17.07.2021</th>\n",
       "      <td>1.176</td>\n",
       "      <td>1.003</td>\n",
       "      <td>17.3</td>\n",
       "    </tr>\n",
       "  </tbody>\n",
       "</table>\n",
       "</div>"
      ],
      "text/plain": [
       "            AR_t_PC  AR_c_PC  perc_PC\n",
       "date                                 \n",
       "10.07.2021    0.783    0.717      9.3\n",
       "11.07.2021    0.782    0.713      9.7\n",
       "12.07.2021    0.779    0.712      9.4\n",
       "13.07.2021    0.762    0.697      9.3\n",
       "14.07.2021    0.724    0.660      9.7\n",
       "15.07.2021    0.670    0.605     10.7\n",
       "16.07.2021    0.592    0.539      9.7\n",
       "17.07.2021    1.176    1.003     17.3"
      ]
     },
     "execution_count": 105,
     "metadata": {},
     "output_type": "execute_result"
    }
   ],
   "source": [
    "ARPU_PC = pd.merge(ARPU_PC_test, ARPU_PC_control, left_on='date', right_on='date') \n",
    "ARPU_PC['perc_PC'] = ARPU_PC['AR_t_PC'] / ARPU_PC['AR_c_PC'] * 100 - 100\n",
    "ARPU_PC = ARPU_PC.round({'AR_t_PC': 3, 'AR_c_PC': 3, 'perc_PC': 1})\n",
    "ARPU_PC"
   ]
  },
  {
   "cell_type": "markdown",
   "id": "30fa85cf",
   "metadata": {},
   "source": [
    "1.2. Рассчитаем ARPPU(средняя прибыль на платящего игрока) для двух групп на платформе PC."
   ]
  },
  {
   "cell_type": "code",
   "execution_count": 106,
   "id": "fdac01cf",
   "metadata": {},
   "outputs": [
    {
     "data": {
      "text/html": [
       "<div>\n",
       "<style scoped>\n",
       "    .dataframe tbody tr th:only-of-type {\n",
       "        vertical-align: middle;\n",
       "    }\n",
       "\n",
       "    .dataframe tbody tr th {\n",
       "        vertical-align: top;\n",
       "    }\n",
       "\n",
       "    .dataframe thead th {\n",
       "        text-align: right;\n",
       "    }\n",
       "</style>\n",
       "<table border=\"1\" class=\"dataframe\">\n",
       "  <thead>\n",
       "    <tr style=\"text-align: right;\">\n",
       "      <th></th>\n",
       "      <th>ARPP_t_PC</th>\n",
       "    </tr>\n",
       "    <tr>\n",
       "      <th>date</th>\n",
       "      <th></th>\n",
       "    </tr>\n",
       "  </thead>\n",
       "  <tbody>\n",
       "    <tr>\n",
       "      <th>10.07.2021</th>\n",
       "      <td>1.229014</td>\n",
       "    </tr>\n",
       "    <tr>\n",
       "      <th>11.07.2021</th>\n",
       "      <td>1.228665</td>\n",
       "    </tr>\n",
       "    <tr>\n",
       "      <th>12.07.2021</th>\n",
       "      <td>1.227936</td>\n",
       "    </tr>\n",
       "    <tr>\n",
       "      <th>13.07.2021</th>\n",
       "      <td>1.223538</td>\n",
       "    </tr>\n",
       "    <tr>\n",
       "      <th>14.07.2021</th>\n",
       "      <td>1.210682</td>\n",
       "    </tr>\n",
       "    <tr>\n",
       "      <th>15.07.2021</th>\n",
       "      <td>1.193456</td>\n",
       "    </tr>\n",
       "    <tr>\n",
       "      <th>16.07.2021</th>\n",
       "      <td>1.162589</td>\n",
       "    </tr>\n",
       "    <tr>\n",
       "      <th>17.07.2021</th>\n",
       "      <td>1.952850</td>\n",
       "    </tr>\n",
       "  </tbody>\n",
       "</table>\n",
       "</div>"
      ],
      "text/plain": [
       "            ARPP_t_PC\n",
       "date                 \n",
       "10.07.2021   1.229014\n",
       "11.07.2021   1.228665\n",
       "12.07.2021   1.227936\n",
       "13.07.2021   1.223538\n",
       "14.07.2021   1.210682\n",
       "15.07.2021   1.193456\n",
       "16.07.2021   1.162589\n",
       "17.07.2021   1.952850"
      ]
     },
     "execution_count": 106,
     "metadata": {},
     "output_type": "execute_result"
    }
   ],
   "source": [
    "PC_test_m_2 = ab_money[(ab_money['platform'] == 'PC') & (ab_money['group'] == 'test') \n",
    "                       & (ab_money['money'] > 0)]\n",
    "ARPPU_PC_test = PC_test_m_2.groupby('date').agg('mean')[['money']]\n",
    "ARPPU_PC_test.rename(columns={'money': 'ARPP_t_PC'}, inplace=True)\n",
    "ARPPU_PC_test"
   ]
  },
  {
   "cell_type": "code",
   "execution_count": 107,
   "id": "ddb39418",
   "metadata": {},
   "outputs": [
    {
     "data": {
      "text/html": [
       "<div>\n",
       "<style scoped>\n",
       "    .dataframe tbody tr th:only-of-type {\n",
       "        vertical-align: middle;\n",
       "    }\n",
       "\n",
       "    .dataframe tbody tr th {\n",
       "        vertical-align: top;\n",
       "    }\n",
       "\n",
       "    .dataframe thead th {\n",
       "        text-align: right;\n",
       "    }\n",
       "</style>\n",
       "<table border=\"1\" class=\"dataframe\">\n",
       "  <thead>\n",
       "    <tr style=\"text-align: right;\">\n",
       "      <th></th>\n",
       "      <th>ARPP_c_PC</th>\n",
       "    </tr>\n",
       "    <tr>\n",
       "      <th>date</th>\n",
       "      <th></th>\n",
       "    </tr>\n",
       "  </thead>\n",
       "  <tbody>\n",
       "    <tr>\n",
       "      <th>10.07.2021</th>\n",
       "      <td>1.208324</td>\n",
       "    </tr>\n",
       "    <tr>\n",
       "      <th>11.07.2021</th>\n",
       "      <td>1.207180</td>\n",
       "    </tr>\n",
       "    <tr>\n",
       "      <th>12.07.2021</th>\n",
       "      <td>1.208013</td>\n",
       "    </tr>\n",
       "    <tr>\n",
       "      <th>13.07.2021</th>\n",
       "      <td>1.202228</td>\n",
       "    </tr>\n",
       "    <tr>\n",
       "      <th>14.07.2021</th>\n",
       "      <td>1.187632</td>\n",
       "    </tr>\n",
       "    <tr>\n",
       "      <th>15.07.2021</th>\n",
       "      <td>1.169024</td>\n",
       "    </tr>\n",
       "    <tr>\n",
       "      <th>16.07.2021</th>\n",
       "      <td>1.137776</td>\n",
       "    </tr>\n",
       "    <tr>\n",
       "      <th>17.07.2021</th>\n",
       "      <td>1.737037</td>\n",
       "    </tr>\n",
       "  </tbody>\n",
       "</table>\n",
       "</div>"
      ],
      "text/plain": [
       "            ARPP_c_PC\n",
       "date                 \n",
       "10.07.2021   1.208324\n",
       "11.07.2021   1.207180\n",
       "12.07.2021   1.208013\n",
       "13.07.2021   1.202228\n",
       "14.07.2021   1.187632\n",
       "15.07.2021   1.169024\n",
       "16.07.2021   1.137776\n",
       "17.07.2021   1.737037"
      ]
     },
     "execution_count": 107,
     "metadata": {},
     "output_type": "execute_result"
    }
   ],
   "source": [
    "PC_control_m_2 = ab_money[(ab_money['platform'] == 'PC') \n",
    "                          & (ab_money['group'] == 'control') & (ab_money['money'] > 0)]\n",
    "ARPPU_PC_control = PC_control_m_2.groupby('date').agg('mean')[['money']]\n",
    "ARPPU_PC_control.rename(columns={'money': 'ARPP_c_PC'}, inplace=True)\n",
    "ARPPU_PC_control"
   ]
  },
  {
   "cell_type": "code",
   "execution_count": 108,
   "id": "52cdc97d",
   "metadata": {},
   "outputs": [
    {
     "data": {
      "text/html": [
       "<div>\n",
       "<style scoped>\n",
       "    .dataframe tbody tr th:only-of-type {\n",
       "        vertical-align: middle;\n",
       "    }\n",
       "\n",
       "    .dataframe tbody tr th {\n",
       "        vertical-align: top;\n",
       "    }\n",
       "\n",
       "    .dataframe thead th {\n",
       "        text-align: right;\n",
       "    }\n",
       "</style>\n",
       "<table border=\"1\" class=\"dataframe\">\n",
       "  <thead>\n",
       "    <tr style=\"text-align: right;\">\n",
       "      <th></th>\n",
       "      <th>ARPP_t_PC</th>\n",
       "      <th>ARPP_c_PC</th>\n",
       "      <th>perc_ARPP</th>\n",
       "    </tr>\n",
       "    <tr>\n",
       "      <th>date</th>\n",
       "      <th></th>\n",
       "      <th></th>\n",
       "      <th></th>\n",
       "    </tr>\n",
       "  </thead>\n",
       "  <tbody>\n",
       "    <tr>\n",
       "      <th>10.07.2021</th>\n",
       "      <td>1.229</td>\n",
       "      <td>1.208</td>\n",
       "      <td>1.7</td>\n",
       "    </tr>\n",
       "    <tr>\n",
       "      <th>11.07.2021</th>\n",
       "      <td>1.229</td>\n",
       "      <td>1.207</td>\n",
       "      <td>1.8</td>\n",
       "    </tr>\n",
       "    <tr>\n",
       "      <th>12.07.2021</th>\n",
       "      <td>1.228</td>\n",
       "      <td>1.208</td>\n",
       "      <td>1.6</td>\n",
       "    </tr>\n",
       "    <tr>\n",
       "      <th>13.07.2021</th>\n",
       "      <td>1.224</td>\n",
       "      <td>1.202</td>\n",
       "      <td>1.8</td>\n",
       "    </tr>\n",
       "    <tr>\n",
       "      <th>14.07.2021</th>\n",
       "      <td>1.211</td>\n",
       "      <td>1.188</td>\n",
       "      <td>1.9</td>\n",
       "    </tr>\n",
       "    <tr>\n",
       "      <th>15.07.2021</th>\n",
       "      <td>1.193</td>\n",
       "      <td>1.169</td>\n",
       "      <td>2.1</td>\n",
       "    </tr>\n",
       "    <tr>\n",
       "      <th>16.07.2021</th>\n",
       "      <td>1.163</td>\n",
       "      <td>1.138</td>\n",
       "      <td>2.2</td>\n",
       "    </tr>\n",
       "    <tr>\n",
       "      <th>17.07.2021</th>\n",
       "      <td>1.953</td>\n",
       "      <td>1.737</td>\n",
       "      <td>12.4</td>\n",
       "    </tr>\n",
       "  </tbody>\n",
       "</table>\n",
       "</div>"
      ],
      "text/plain": [
       "            ARPP_t_PC  ARPP_c_PC  perc_ARPP\n",
       "date                                       \n",
       "10.07.2021      1.229      1.208        1.7\n",
       "11.07.2021      1.229      1.207        1.8\n",
       "12.07.2021      1.228      1.208        1.6\n",
       "13.07.2021      1.224      1.202        1.8\n",
       "14.07.2021      1.211      1.188        1.9\n",
       "15.07.2021      1.193      1.169        2.1\n",
       "16.07.2021      1.163      1.138        2.2\n",
       "17.07.2021      1.953      1.737       12.4"
      ]
     },
     "execution_count": 108,
     "metadata": {},
     "output_type": "execute_result"
    }
   ],
   "source": [
    "ARPPU_PC = pd.merge(ARPPU_PC_test, ARPPU_PC_control, left_on='date', right_on='date') \n",
    "ARPPU_PC['perc_ARPP'] = ARPPU_PC['ARPP_t_PC'] / ARPPU_PC['ARPP_c_PC'] * 100 - 100\n",
    "ARPPU_PC = ARPPU_PC.round({'ARPP_t_PC': 3, 'ARPP_c_PC': 3, 'perc_ARPP': 1})\n",
    "ARPPU_PC"
   ]
  },
  {
   "cell_type": "markdown",
   "id": "dce10c58",
   "metadata": {},
   "source": [
    "1.3. Рассмотрим траты внутриигровой валюты для двух групп на платформе PC."
   ]
  },
  {
   "cell_type": "code",
   "execution_count": 109,
   "id": "bdb250b5",
   "metadata": {},
   "outputs": [
    {
     "data": {
      "text/html": [
       "<div>\n",
       "<style scoped>\n",
       "    .dataframe tbody tr th:only-of-type {\n",
       "        vertical-align: middle;\n",
       "    }\n",
       "\n",
       "    .dataframe tbody tr th {\n",
       "        vertical-align: top;\n",
       "    }\n",
       "\n",
       "    .dataframe thead th {\n",
       "        text-align: right;\n",
       "    }\n",
       "</style>\n",
       "<table border=\"1\" class=\"dataframe\">\n",
       "  <thead>\n",
       "    <tr style=\"text-align: right;\">\n",
       "      <th></th>\n",
       "      <th>cash_t</th>\n",
       "    </tr>\n",
       "    <tr>\n",
       "      <th>date</th>\n",
       "      <th></th>\n",
       "    </tr>\n",
       "  </thead>\n",
       "  <tbody>\n",
       "    <tr>\n",
       "      <th>10.07.2021</th>\n",
       "      <td>848.749791</td>\n",
       "    </tr>\n",
       "    <tr>\n",
       "      <th>11.07.2021</th>\n",
       "      <td>848.166954</td>\n",
       "    </tr>\n",
       "    <tr>\n",
       "      <th>12.07.2021</th>\n",
       "      <td>843.568211</td>\n",
       "    </tr>\n",
       "    <tr>\n",
       "      <th>13.07.2021</th>\n",
       "      <td>822.536288</td>\n",
       "    </tr>\n",
       "    <tr>\n",
       "      <th>14.07.2021</th>\n",
       "      <td>768.223959</td>\n",
       "    </tr>\n",
       "    <tr>\n",
       "      <th>15.07.2021</th>\n",
       "      <td>677.086925</td>\n",
       "    </tr>\n",
       "    <tr>\n",
       "      <th>16.07.2021</th>\n",
       "      <td>546.502141</td>\n",
       "    </tr>\n",
       "    <tr>\n",
       "      <th>17.07.2021</th>\n",
       "      <td>1026.585006</td>\n",
       "    </tr>\n",
       "  </tbody>\n",
       "</table>\n",
       "</div>"
      ],
      "text/plain": [
       "                 cash_t\n",
       "date                   \n",
       "10.07.2021   848.749791\n",
       "11.07.2021   848.166954\n",
       "12.07.2021   843.568211\n",
       "13.07.2021   822.536288\n",
       "14.07.2021   768.223959\n",
       "15.07.2021   677.086925\n",
       "16.07.2021   546.502141\n",
       "17.07.2021  1026.585006"
      ]
     },
     "execution_count": 109,
     "metadata": {},
     "output_type": "execute_result"
    }
   ],
   "source": [
    "PC_test_с = ab_cash[(ab_cash['platform'] == 'PC') & (ab_money['group'] == 'test')]\n",
    "cash_PC_test = PC_test_с.groupby('date').agg('mean')[['cash']]\n",
    "cash_PC_test.rename(columns={'cash': 'cash_t'}, inplace=True)\n",
    "cash_PC_test"
   ]
  },
  {
   "cell_type": "code",
   "execution_count": 110,
   "id": "8b4f9a91",
   "metadata": {},
   "outputs": [
    {
     "data": {
      "text/html": [
       "<div>\n",
       "<style scoped>\n",
       "    .dataframe tbody tr th:only-of-type {\n",
       "        vertical-align: middle;\n",
       "    }\n",
       "\n",
       "    .dataframe tbody tr th {\n",
       "        vertical-align: top;\n",
       "    }\n",
       "\n",
       "    .dataframe thead th {\n",
       "        text-align: right;\n",
       "    }\n",
       "</style>\n",
       "<table border=\"1\" class=\"dataframe\">\n",
       "  <thead>\n",
       "    <tr style=\"text-align: right;\">\n",
       "      <th></th>\n",
       "      <th>cash_c</th>\n",
       "    </tr>\n",
       "    <tr>\n",
       "      <th>date</th>\n",
       "      <th></th>\n",
       "    </tr>\n",
       "  </thead>\n",
       "  <tbody>\n",
       "    <tr>\n",
       "      <th>10.07.2021</th>\n",
       "      <td>749.532916</td>\n",
       "    </tr>\n",
       "    <tr>\n",
       "      <th>11.07.2021</th>\n",
       "      <td>748.794316</td>\n",
       "    </tr>\n",
       "    <tr>\n",
       "      <th>12.07.2021</th>\n",
       "      <td>745.380344</td>\n",
       "    </tr>\n",
       "    <tr>\n",
       "      <th>13.07.2021</th>\n",
       "      <td>726.588198</td>\n",
       "    </tr>\n",
       "    <tr>\n",
       "      <th>14.07.2021</th>\n",
       "      <td>679.558454</td>\n",
       "    </tr>\n",
       "    <tr>\n",
       "      <th>15.07.2021</th>\n",
       "      <td>593.840830</td>\n",
       "    </tr>\n",
       "    <tr>\n",
       "      <th>16.07.2021</th>\n",
       "      <td>478.081254</td>\n",
       "    </tr>\n",
       "    <tr>\n",
       "      <th>17.07.2021</th>\n",
       "      <td>865.325874</td>\n",
       "    </tr>\n",
       "  </tbody>\n",
       "</table>\n",
       "</div>"
      ],
      "text/plain": [
       "                cash_c\n",
       "date                  \n",
       "10.07.2021  749.532916\n",
       "11.07.2021  748.794316\n",
       "12.07.2021  745.380344\n",
       "13.07.2021  726.588198\n",
       "14.07.2021  679.558454\n",
       "15.07.2021  593.840830\n",
       "16.07.2021  478.081254\n",
       "17.07.2021  865.325874"
      ]
     },
     "execution_count": 110,
     "metadata": {},
     "output_type": "execute_result"
    }
   ],
   "source": [
    "PC_control_с = ab_cash[(ab_cash['platform'] == 'PC') & (ab_money['group'] == 'control')]\n",
    "cash_PC_control = PC_control_с.groupby('date').agg('mean')[['cash']]\n",
    "cash_PC_control.rename(columns={'cash': 'cash_c'}, inplace=True)\n",
    "cash_PC_control"
   ]
  },
  {
   "cell_type": "markdown",
   "id": "e6b905e7",
   "metadata": {},
   "source": [
    "Соединим в один df средние по тратам внутренней валюты для двух групп площадки PC и рассчитаем эффект в %."
   ]
  },
  {
   "cell_type": "code",
   "execution_count": 111,
   "id": "d296da65",
   "metadata": {},
   "outputs": [
    {
     "data": {
      "text/html": [
       "<div>\n",
       "<style scoped>\n",
       "    .dataframe tbody tr th:only-of-type {\n",
       "        vertical-align: middle;\n",
       "    }\n",
       "\n",
       "    .dataframe tbody tr th {\n",
       "        vertical-align: top;\n",
       "    }\n",
       "\n",
       "    .dataframe thead th {\n",
       "        text-align: right;\n",
       "    }\n",
       "</style>\n",
       "<table border=\"1\" class=\"dataframe\">\n",
       "  <thead>\n",
       "    <tr style=\"text-align: right;\">\n",
       "      <th></th>\n",
       "      <th>cash_t</th>\n",
       "      <th>cash_c</th>\n",
       "      <th>perc_cash</th>\n",
       "    </tr>\n",
       "    <tr>\n",
       "      <th>date</th>\n",
       "      <th></th>\n",
       "      <th></th>\n",
       "      <th></th>\n",
       "    </tr>\n",
       "  </thead>\n",
       "  <tbody>\n",
       "    <tr>\n",
       "      <th>10.07.2021</th>\n",
       "      <td>848.750</td>\n",
       "      <td>749.533</td>\n",
       "      <td>13.2</td>\n",
       "    </tr>\n",
       "    <tr>\n",
       "      <th>11.07.2021</th>\n",
       "      <td>848.167</td>\n",
       "      <td>748.794</td>\n",
       "      <td>13.3</td>\n",
       "    </tr>\n",
       "    <tr>\n",
       "      <th>12.07.2021</th>\n",
       "      <td>843.568</td>\n",
       "      <td>745.380</td>\n",
       "      <td>13.2</td>\n",
       "    </tr>\n",
       "    <tr>\n",
       "      <th>13.07.2021</th>\n",
       "      <td>822.536</td>\n",
       "      <td>726.588</td>\n",
       "      <td>13.2</td>\n",
       "    </tr>\n",
       "    <tr>\n",
       "      <th>14.07.2021</th>\n",
       "      <td>768.224</td>\n",
       "      <td>679.558</td>\n",
       "      <td>13.0</td>\n",
       "    </tr>\n",
       "    <tr>\n",
       "      <th>15.07.2021</th>\n",
       "      <td>677.087</td>\n",
       "      <td>593.841</td>\n",
       "      <td>14.0</td>\n",
       "    </tr>\n",
       "    <tr>\n",
       "      <th>16.07.2021</th>\n",
       "      <td>546.502</td>\n",
       "      <td>478.081</td>\n",
       "      <td>14.3</td>\n",
       "    </tr>\n",
       "    <tr>\n",
       "      <th>17.07.2021</th>\n",
       "      <td>1026.585</td>\n",
       "      <td>865.326</td>\n",
       "      <td>18.6</td>\n",
       "    </tr>\n",
       "  </tbody>\n",
       "</table>\n",
       "</div>"
      ],
      "text/plain": [
       "              cash_t   cash_c  perc_cash\n",
       "date                                    \n",
       "10.07.2021   848.750  749.533       13.2\n",
       "11.07.2021   848.167  748.794       13.3\n",
       "12.07.2021   843.568  745.380       13.2\n",
       "13.07.2021   822.536  726.588       13.2\n",
       "14.07.2021   768.224  679.558       13.0\n",
       "15.07.2021   677.087  593.841       14.0\n",
       "16.07.2021   546.502  478.081       14.3\n",
       "17.07.2021  1026.585  865.326       18.6"
      ]
     },
     "execution_count": 111,
     "metadata": {},
     "output_type": "execute_result"
    }
   ],
   "source": [
    "cash_PC = pd.merge(cash_PC_test, cash_PC_control, left_on='date', right_on='date') \n",
    "cash_PC['perc_cash'] = cash_PC_test['cash_t'] / cash_PC_control['cash_c'] * 100 - 100\n",
    "cash_PC = cash_PC.round({'cash_t': 3, 'cash_c': 3, 'perc_cash': 1})\n",
    "cash_PC"
   ]
  },
  {
   "cell_type": "markdown",
   "id": "c2b9c6b3",
   "metadata": {},
   "source": [
    "Соединим в один df полученные метрики и их сравнение по игровой платформе PC."
   ]
  },
  {
   "cell_type": "code",
   "execution_count": 140,
   "id": "d3c3e24a",
   "metadata": {},
   "outputs": [
    {
     "data": {
      "text/html": [
       "<div>\n",
       "<style scoped>\n",
       "    .dataframe tbody tr th:only-of-type {\n",
       "        vertical-align: middle;\n",
       "    }\n",
       "\n",
       "    .dataframe tbody tr th {\n",
       "        vertical-align: top;\n",
       "    }\n",
       "\n",
       "    .dataframe thead th {\n",
       "        text-align: right;\n",
       "    }\n",
       "</style>\n",
       "<table border=\"1\" class=\"dataframe\">\n",
       "  <thead>\n",
       "    <tr style=\"text-align: right;\">\n",
       "      <th></th>\n",
       "      <th>AR_t_PC</th>\n",
       "      <th>AR_c_PC</th>\n",
       "      <th>perc_PC</th>\n",
       "      <th>ARPP_t_PC</th>\n",
       "      <th>ARPP_c_PC</th>\n",
       "      <th>perc_ARPP</th>\n",
       "      <th>cash_t</th>\n",
       "      <th>cash_c</th>\n",
       "      <th>perc_cash</th>\n",
       "    </tr>\n",
       "    <tr>\n",
       "      <th>date</th>\n",
       "      <th></th>\n",
       "      <th></th>\n",
       "      <th></th>\n",
       "      <th></th>\n",
       "      <th></th>\n",
       "      <th></th>\n",
       "      <th></th>\n",
       "      <th></th>\n",
       "      <th></th>\n",
       "    </tr>\n",
       "  </thead>\n",
       "  <tbody>\n",
       "    <tr>\n",
       "      <th>10.07.2021</th>\n",
       "      <td>0.783</td>\n",
       "      <td>0.717</td>\n",
       "      <td>9.3</td>\n",
       "      <td>1.229</td>\n",
       "      <td>1.208</td>\n",
       "      <td>1.7</td>\n",
       "      <td>848.750</td>\n",
       "      <td>749.533</td>\n",
       "      <td>13.2</td>\n",
       "    </tr>\n",
       "    <tr>\n",
       "      <th>11.07.2021</th>\n",
       "      <td>0.782</td>\n",
       "      <td>0.713</td>\n",
       "      <td>9.7</td>\n",
       "      <td>1.229</td>\n",
       "      <td>1.207</td>\n",
       "      <td>1.8</td>\n",
       "      <td>848.167</td>\n",
       "      <td>748.794</td>\n",
       "      <td>13.3</td>\n",
       "    </tr>\n",
       "    <tr>\n",
       "      <th>12.07.2021</th>\n",
       "      <td>0.779</td>\n",
       "      <td>0.712</td>\n",
       "      <td>9.4</td>\n",
       "      <td>1.228</td>\n",
       "      <td>1.208</td>\n",
       "      <td>1.6</td>\n",
       "      <td>843.568</td>\n",
       "      <td>745.380</td>\n",
       "      <td>13.2</td>\n",
       "    </tr>\n",
       "    <tr>\n",
       "      <th>13.07.2021</th>\n",
       "      <td>0.762</td>\n",
       "      <td>0.697</td>\n",
       "      <td>9.3</td>\n",
       "      <td>1.224</td>\n",
       "      <td>1.202</td>\n",
       "      <td>1.8</td>\n",
       "      <td>822.536</td>\n",
       "      <td>726.588</td>\n",
       "      <td>13.2</td>\n",
       "    </tr>\n",
       "    <tr>\n",
       "      <th>14.07.2021</th>\n",
       "      <td>0.724</td>\n",
       "      <td>0.660</td>\n",
       "      <td>9.7</td>\n",
       "      <td>1.211</td>\n",
       "      <td>1.188</td>\n",
       "      <td>1.9</td>\n",
       "      <td>768.224</td>\n",
       "      <td>679.558</td>\n",
       "      <td>13.0</td>\n",
       "    </tr>\n",
       "    <tr>\n",
       "      <th>15.07.2021</th>\n",
       "      <td>0.670</td>\n",
       "      <td>0.605</td>\n",
       "      <td>10.7</td>\n",
       "      <td>1.193</td>\n",
       "      <td>1.169</td>\n",
       "      <td>2.1</td>\n",
       "      <td>677.087</td>\n",
       "      <td>593.841</td>\n",
       "      <td>14.0</td>\n",
       "    </tr>\n",
       "    <tr>\n",
       "      <th>16.07.2021</th>\n",
       "      <td>0.592</td>\n",
       "      <td>0.539</td>\n",
       "      <td>9.7</td>\n",
       "      <td>1.163</td>\n",
       "      <td>1.138</td>\n",
       "      <td>2.2</td>\n",
       "      <td>546.502</td>\n",
       "      <td>478.081</td>\n",
       "      <td>14.3</td>\n",
       "    </tr>\n",
       "    <tr>\n",
       "      <th>17.07.2021</th>\n",
       "      <td>1.176</td>\n",
       "      <td>1.003</td>\n",
       "      <td>17.3</td>\n",
       "      <td>1.953</td>\n",
       "      <td>1.737</td>\n",
       "      <td>12.4</td>\n",
       "      <td>1026.585</td>\n",
       "      <td>865.326</td>\n",
       "      <td>18.6</td>\n",
       "    </tr>\n",
       "  </tbody>\n",
       "</table>\n",
       "</div>"
      ],
      "text/plain": [
       "            AR_t_PC  AR_c_PC  perc_PC  ARPP_t_PC  ARPP_c_PC  perc_ARPP  \\\n",
       "date                                                                     \n",
       "10.07.2021    0.783    0.717      9.3      1.229      1.208        1.7   \n",
       "11.07.2021    0.782    0.713      9.7      1.229      1.207        1.8   \n",
       "12.07.2021    0.779    0.712      9.4      1.228      1.208        1.6   \n",
       "13.07.2021    0.762    0.697      9.3      1.224      1.202        1.8   \n",
       "14.07.2021    0.724    0.660      9.7      1.211      1.188        1.9   \n",
       "15.07.2021    0.670    0.605     10.7      1.193      1.169        2.1   \n",
       "16.07.2021    0.592    0.539      9.7      1.163      1.138        2.2   \n",
       "17.07.2021    1.176    1.003     17.3      1.953      1.737       12.4   \n",
       "\n",
       "              cash_t   cash_c  perc_cash  \n",
       "date                                      \n",
       "10.07.2021   848.750  749.533       13.2  \n",
       "11.07.2021   848.167  748.794       13.3  \n",
       "12.07.2021   843.568  745.380       13.2  \n",
       "13.07.2021   822.536  726.588       13.2  \n",
       "14.07.2021   768.224  679.558       13.0  \n",
       "15.07.2021   677.087  593.841       14.0  \n",
       "16.07.2021   546.502  478.081       14.3  \n",
       "17.07.2021  1026.585  865.326       18.6  "
      ]
     },
     "execution_count": 140,
     "metadata": {},
     "output_type": "execute_result"
    }
   ],
   "source": [
    "PC_metrics = pd.merge(ARPU_PC, ARPPU_PC, left_on='date', right_on='date') \n",
    "PC_metrics = pd.merge(PC_metrics, cash_PC, left_on='date', right_on='date') \n",
    "PC_metrics"
   ]
  },
  {
   "cell_type": "markdown",
   "id": "cc63de7f",
   "metadata": {},
   "source": [
    "Результаты сравнения метрик ARPU, ARPPU и трат внутриигровой валюты показывают, что приход денег от игроков группы участников, которые учавствовали в тестировании, больше второй группы, которая не учавствовала в акции."
   ]
  },
  {
   "cell_type": "markdown",
   "id": "d9a96a14",
   "metadata": {},
   "source": [
    " "
   ]
  },
  {
   "cell_type": "markdown",
   "id": "c036976b",
   "metadata": {},
   "source": [
    " "
   ]
  },
  {
   "cell_type": "markdown",
   "id": "758e6622",
   "metadata": {},
   "source": [
    " "
   ]
  },
  {
   "cell_type": "markdown",
   "id": "e374a672",
   "metadata": {},
   "source": [
    " "
   ]
  },
  {
   "cell_type": "markdown",
   "id": "df35440b",
   "metadata": {},
   "source": [
    " 2. Рассчитаем и сравним метрики для площадки PS4."
   ]
  },
  {
   "cell_type": "code",
   "execution_count": 113,
   "id": "e99bc8e4",
   "metadata": {},
   "outputs": [
    {
     "data": {
      "text/plain": [
       "179412.0"
      ]
     },
     "execution_count": 113,
     "metadata": {},
     "output_type": "execute_result"
    }
   ],
   "source": [
    "len(ab_money[(ab_money['platform'] == 'PS4') & (ab_money['group'] == 'test')])/8"
   ]
  },
  {
   "cell_type": "code",
   "execution_count": 114,
   "id": "96f07cc7",
   "metadata": {},
   "outputs": [
    {
     "data": {
      "text/plain": [
       "179804.0"
      ]
     },
     "execution_count": 114,
     "metadata": {},
     "output_type": "execute_result"
    }
   ],
   "source": [
    "len(ab_money[(ab_money['platform'] == 'PS4') & (ab_money['group'] == 'control')])/8"
   ]
  },
  {
   "cell_type": "markdown",
   "id": "e50154d7",
   "metadata": {},
   "source": [
    "2.1. Рассчитаем ARPU(средняя прибыль на игрока) для двух групп на платформе PS4."
   ]
  },
  {
   "cell_type": "code",
   "execution_count": 115,
   "id": "4eb41af0",
   "metadata": {},
   "outputs": [
    {
     "data": {
      "text/html": [
       "<div>\n",
       "<style scoped>\n",
       "    .dataframe tbody tr th:only-of-type {\n",
       "        vertical-align: middle;\n",
       "    }\n",
       "\n",
       "    .dataframe tbody tr th {\n",
       "        vertical-align: top;\n",
       "    }\n",
       "\n",
       "    .dataframe thead th {\n",
       "        text-align: right;\n",
       "    }\n",
       "</style>\n",
       "<table border=\"1\" class=\"dataframe\">\n",
       "  <thead>\n",
       "    <tr style=\"text-align: right;\">\n",
       "      <th></th>\n",
       "      <th>AR_t_PS4</th>\n",
       "    </tr>\n",
       "    <tr>\n",
       "      <th>date</th>\n",
       "      <th></th>\n",
       "    </tr>\n",
       "  </thead>\n",
       "  <tbody>\n",
       "    <tr>\n",
       "      <th>10.07.2021</th>\n",
       "      <td>0.749762</td>\n",
       "    </tr>\n",
       "    <tr>\n",
       "      <th>11.07.2021</th>\n",
       "      <td>0.752693</td>\n",
       "    </tr>\n",
       "    <tr>\n",
       "      <th>12.07.2021</th>\n",
       "      <td>0.747309</td>\n",
       "    </tr>\n",
       "    <tr>\n",
       "      <th>13.07.2021</th>\n",
       "      <td>0.734541</td>\n",
       "    </tr>\n",
       "    <tr>\n",
       "      <th>14.07.2021</th>\n",
       "      <td>0.702888</td>\n",
       "    </tr>\n",
       "    <tr>\n",
       "      <th>15.07.2021</th>\n",
       "      <td>0.647921</td>\n",
       "    </tr>\n",
       "    <tr>\n",
       "      <th>16.07.2021</th>\n",
       "      <td>0.577642</td>\n",
       "    </tr>\n",
       "    <tr>\n",
       "      <th>17.07.2021</th>\n",
       "      <td>1.172002</td>\n",
       "    </tr>\n",
       "  </tbody>\n",
       "</table>\n",
       "</div>"
      ],
      "text/plain": [
       "            AR_t_PS4\n",
       "date                \n",
       "10.07.2021  0.749762\n",
       "11.07.2021  0.752693\n",
       "12.07.2021  0.747309\n",
       "13.07.2021  0.734541\n",
       "14.07.2021  0.702888\n",
       "15.07.2021  0.647921\n",
       "16.07.2021  0.577642\n",
       "17.07.2021  1.172002"
      ]
     },
     "execution_count": 115,
     "metadata": {},
     "output_type": "execute_result"
    }
   ],
   "source": [
    "PS4_test_m = ab_money[(ab_money['platform'] == 'PS4') & (ab_money['group'] == 'test')]\n",
    "ARPU_PS4_test = PS4_test_m.groupby('date').agg('mean')[['money']]\n",
    "ARPU_PS4_test.rename(columns={'money': 'AR_t_PS4'}, inplace=True)\n",
    "ARPU_PS4_test"
   ]
  },
  {
   "cell_type": "code",
   "execution_count": 116,
   "id": "5765edff",
   "metadata": {},
   "outputs": [
    {
     "data": {
      "text/html": [
       "<div>\n",
       "<style scoped>\n",
       "    .dataframe tbody tr th:only-of-type {\n",
       "        vertical-align: middle;\n",
       "    }\n",
       "\n",
       "    .dataframe tbody tr th {\n",
       "        vertical-align: top;\n",
       "    }\n",
       "\n",
       "    .dataframe thead th {\n",
       "        text-align: right;\n",
       "    }\n",
       "</style>\n",
       "<table border=\"1\" class=\"dataframe\">\n",
       "  <thead>\n",
       "    <tr style=\"text-align: right;\">\n",
       "      <th></th>\n",
       "      <th>AR_c_PS4</th>\n",
       "    </tr>\n",
       "    <tr>\n",
       "      <th>date</th>\n",
       "      <th></th>\n",
       "    </tr>\n",
       "  </thead>\n",
       "  <tbody>\n",
       "    <tr>\n",
       "      <th>10.07.2021</th>\n",
       "      <td>0.716531</td>\n",
       "    </tr>\n",
       "    <tr>\n",
       "      <th>11.07.2021</th>\n",
       "      <td>0.714064</td>\n",
       "    </tr>\n",
       "    <tr>\n",
       "      <th>12.07.2021</th>\n",
       "      <td>0.710443</td>\n",
       "    </tr>\n",
       "    <tr>\n",
       "      <th>13.07.2021</th>\n",
       "      <td>0.692791</td>\n",
       "    </tr>\n",
       "    <tr>\n",
       "      <th>14.07.2021</th>\n",
       "      <td>0.662511</td>\n",
       "    </tr>\n",
       "    <tr>\n",
       "      <th>15.07.2021</th>\n",
       "      <td>0.610725</td>\n",
       "    </tr>\n",
       "    <tr>\n",
       "      <th>16.07.2021</th>\n",
       "      <td>0.545892</td>\n",
       "    </tr>\n",
       "    <tr>\n",
       "      <th>17.07.2021</th>\n",
       "      <td>1.084689</td>\n",
       "    </tr>\n",
       "  </tbody>\n",
       "</table>\n",
       "</div>"
      ],
      "text/plain": [
       "            AR_c_PS4\n",
       "date                \n",
       "10.07.2021  0.716531\n",
       "11.07.2021  0.714064\n",
       "12.07.2021  0.710443\n",
       "13.07.2021  0.692791\n",
       "14.07.2021  0.662511\n",
       "15.07.2021  0.610725\n",
       "16.07.2021  0.545892\n",
       "17.07.2021  1.084689"
      ]
     },
     "execution_count": 116,
     "metadata": {},
     "output_type": "execute_result"
    }
   ],
   "source": [
    "PS4_control_m = ab_money[(ab_money['platform'] == 'PS4') & (ab_money['group'] == 'control')]\n",
    "ARPU_PS4_control = PS4_control_m.groupby('date').agg('mean')[['money']]\n",
    "ARPU_PS4_control.rename(columns={'money': 'AR_c_PS4'}, inplace=True)\n",
    "ARPU_PS4_control"
   ]
  },
  {
   "cell_type": "markdown",
   "id": "c595f10d",
   "metadata": {},
   "source": [
    "Соединим в один df ARPU для двух групп площадки PS4 и рассчитаем эффект в %."
   ]
  },
  {
   "cell_type": "code",
   "execution_count": 117,
   "id": "a0559e32",
   "metadata": {},
   "outputs": [
    {
     "data": {
      "text/html": [
       "<div>\n",
       "<style scoped>\n",
       "    .dataframe tbody tr th:only-of-type {\n",
       "        vertical-align: middle;\n",
       "    }\n",
       "\n",
       "    .dataframe tbody tr th {\n",
       "        vertical-align: top;\n",
       "    }\n",
       "\n",
       "    .dataframe thead th {\n",
       "        text-align: right;\n",
       "    }\n",
       "</style>\n",
       "<table border=\"1\" class=\"dataframe\">\n",
       "  <thead>\n",
       "    <tr style=\"text-align: right;\">\n",
       "      <th></th>\n",
       "      <th>AR_t_PS4</th>\n",
       "      <th>AR_c_PS4</th>\n",
       "      <th>perc_PS4</th>\n",
       "    </tr>\n",
       "    <tr>\n",
       "      <th>date</th>\n",
       "      <th></th>\n",
       "      <th></th>\n",
       "      <th></th>\n",
       "    </tr>\n",
       "  </thead>\n",
       "  <tbody>\n",
       "    <tr>\n",
       "      <th>10.07.2021</th>\n",
       "      <td>0.750</td>\n",
       "      <td>0.717</td>\n",
       "      <td>4.6</td>\n",
       "    </tr>\n",
       "    <tr>\n",
       "      <th>11.07.2021</th>\n",
       "      <td>0.753</td>\n",
       "      <td>0.714</td>\n",
       "      <td>5.4</td>\n",
       "    </tr>\n",
       "    <tr>\n",
       "      <th>12.07.2021</th>\n",
       "      <td>0.747</td>\n",
       "      <td>0.710</td>\n",
       "      <td>5.2</td>\n",
       "    </tr>\n",
       "    <tr>\n",
       "      <th>13.07.2021</th>\n",
       "      <td>0.735</td>\n",
       "      <td>0.693</td>\n",
       "      <td>6.0</td>\n",
       "    </tr>\n",
       "    <tr>\n",
       "      <th>14.07.2021</th>\n",
       "      <td>0.703</td>\n",
       "      <td>0.663</td>\n",
       "      <td>6.1</td>\n",
       "    </tr>\n",
       "    <tr>\n",
       "      <th>15.07.2021</th>\n",
       "      <td>0.648</td>\n",
       "      <td>0.611</td>\n",
       "      <td>6.1</td>\n",
       "    </tr>\n",
       "    <tr>\n",
       "      <th>16.07.2021</th>\n",
       "      <td>0.578</td>\n",
       "      <td>0.546</td>\n",
       "      <td>5.8</td>\n",
       "    </tr>\n",
       "    <tr>\n",
       "      <th>17.07.2021</th>\n",
       "      <td>1.172</td>\n",
       "      <td>1.085</td>\n",
       "      <td>8.0</td>\n",
       "    </tr>\n",
       "  </tbody>\n",
       "</table>\n",
       "</div>"
      ],
      "text/plain": [
       "            AR_t_PS4  AR_c_PS4  perc_PS4\n",
       "date                                    \n",
       "10.07.2021     0.750     0.717       4.6\n",
       "11.07.2021     0.753     0.714       5.4\n",
       "12.07.2021     0.747     0.710       5.2\n",
       "13.07.2021     0.735     0.693       6.0\n",
       "14.07.2021     0.703     0.663       6.1\n",
       "15.07.2021     0.648     0.611       6.1\n",
       "16.07.2021     0.578     0.546       5.8\n",
       "17.07.2021     1.172     1.085       8.0"
      ]
     },
     "execution_count": 117,
     "metadata": {},
     "output_type": "execute_result"
    }
   ],
   "source": [
    "ARPU_PS4 = pd.merge(ARPU_PS4_test, ARPU_PS4_control, left_on='date', right_on='date') \n",
    "ARPU_PS4['perc_PS4'] = ARPU_PS4['AR_t_PS4'] / ARPU_PS4['AR_c_PS4'] * 100 - 100\n",
    "ARPU_PS4 = ARPU_PS4.round({'AR_t_PS4': 3, 'AR_c_PS4': 3, 'perc_PS4': 1})\n",
    "ARPU_PS4"
   ]
  },
  {
   "cell_type": "markdown",
   "id": "490f728c",
   "metadata": {},
   "source": [
    "2.2. Рассчитаем ARPPU(средняя прибыль на платящего игрока) для двух групп на платформе PS4."
   ]
  },
  {
   "cell_type": "code",
   "execution_count": 118,
   "id": "48c86658",
   "metadata": {},
   "outputs": [
    {
     "data": {
      "text/html": [
       "<div>\n",
       "<style scoped>\n",
       "    .dataframe tbody tr th:only-of-type {\n",
       "        vertical-align: middle;\n",
       "    }\n",
       "\n",
       "    .dataframe tbody tr th {\n",
       "        vertical-align: top;\n",
       "    }\n",
       "\n",
       "    .dataframe thead th {\n",
       "        text-align: right;\n",
       "    }\n",
       "</style>\n",
       "<table border=\"1\" class=\"dataframe\">\n",
       "  <thead>\n",
       "    <tr style=\"text-align: right;\">\n",
       "      <th></th>\n",
       "      <th>ARPP_t_PS4</th>\n",
       "    </tr>\n",
       "    <tr>\n",
       "      <th>date</th>\n",
       "      <th></th>\n",
       "    </tr>\n",
       "  </thead>\n",
       "  <tbody>\n",
       "    <tr>\n",
       "      <th>10.07.2021</th>\n",
       "      <td>1.217706</td>\n",
       "    </tr>\n",
       "    <tr>\n",
       "      <th>11.07.2021</th>\n",
       "      <td>1.222189</td>\n",
       "    </tr>\n",
       "    <tr>\n",
       "      <th>12.07.2021</th>\n",
       "      <td>1.215758</td>\n",
       "    </tr>\n",
       "    <tr>\n",
       "      <th>13.07.2021</th>\n",
       "      <td>1.216215</td>\n",
       "    </tr>\n",
       "    <tr>\n",
       "      <th>14.07.2021</th>\n",
       "      <td>1.203892</td>\n",
       "    </tr>\n",
       "    <tr>\n",
       "      <th>15.07.2021</th>\n",
       "      <td>1.183478</td>\n",
       "    </tr>\n",
       "    <tr>\n",
       "      <th>16.07.2021</th>\n",
       "      <td>1.156470</td>\n",
       "    </tr>\n",
       "    <tr>\n",
       "      <th>17.07.2021</th>\n",
       "      <td>1.920653</td>\n",
       "    </tr>\n",
       "  </tbody>\n",
       "</table>\n",
       "</div>"
      ],
      "text/plain": [
       "            ARPP_t_PS4\n",
       "date                  \n",
       "10.07.2021    1.217706\n",
       "11.07.2021    1.222189\n",
       "12.07.2021    1.215758\n",
       "13.07.2021    1.216215\n",
       "14.07.2021    1.203892\n",
       "15.07.2021    1.183478\n",
       "16.07.2021    1.156470\n",
       "17.07.2021    1.920653"
      ]
     },
     "execution_count": 118,
     "metadata": {},
     "output_type": "execute_result"
    }
   ],
   "source": [
    "PS4_test_m_2 = ab_money[(ab_money['platform'] == 'PS4') \n",
    "                        & (ab_money['group'] == 'test') & (ab_money['money'] > 0)]\n",
    "ARPPU_PS4_test = PS4_test_m_2.groupby('date').agg('mean')[['money']]\n",
    "ARPPU_PS4_test.rename(columns={'money': 'ARPP_t_PS4'}, inplace=True)\n",
    "ARPPU_PS4_test"
   ]
  },
  {
   "cell_type": "code",
   "execution_count": 119,
   "id": "9d6906ea",
   "metadata": {},
   "outputs": [
    {
     "data": {
      "text/html": [
       "<div>\n",
       "<style scoped>\n",
       "    .dataframe tbody tr th:only-of-type {\n",
       "        vertical-align: middle;\n",
       "    }\n",
       "\n",
       "    .dataframe tbody tr th {\n",
       "        vertical-align: top;\n",
       "    }\n",
       "\n",
       "    .dataframe thead th {\n",
       "        text-align: right;\n",
       "    }\n",
       "</style>\n",
       "<table border=\"1\" class=\"dataframe\">\n",
       "  <thead>\n",
       "    <tr style=\"text-align: right;\">\n",
       "      <th></th>\n",
       "      <th>ARPP_c_PS4</th>\n",
       "    </tr>\n",
       "    <tr>\n",
       "      <th>date</th>\n",
       "      <th></th>\n",
       "    </tr>\n",
       "  </thead>\n",
       "  <tbody>\n",
       "    <tr>\n",
       "      <th>10.07.2021</th>\n",
       "      <td>1.207690</td>\n",
       "    </tr>\n",
       "    <tr>\n",
       "      <th>11.07.2021</th>\n",
       "      <td>1.207392</td>\n",
       "    </tr>\n",
       "    <tr>\n",
       "      <th>12.07.2021</th>\n",
       "      <td>1.206887</td>\n",
       "    </tr>\n",
       "    <tr>\n",
       "      <th>13.07.2021</th>\n",
       "      <td>1.200664</td>\n",
       "    </tr>\n",
       "    <tr>\n",
       "      <th>14.07.2021</th>\n",
       "      <td>1.190126</td>\n",
       "    </tr>\n",
       "    <tr>\n",
       "      <th>15.07.2021</th>\n",
       "      <td>1.170429</td>\n",
       "    </tr>\n",
       "    <tr>\n",
       "      <th>16.07.2021</th>\n",
       "      <td>1.142091</td>\n",
       "    </tr>\n",
       "    <tr>\n",
       "      <th>17.07.2021</th>\n",
       "      <td>1.823576</td>\n",
       "    </tr>\n",
       "  </tbody>\n",
       "</table>\n",
       "</div>"
      ],
      "text/plain": [
       "            ARPP_c_PS4\n",
       "date                  \n",
       "10.07.2021    1.207690\n",
       "11.07.2021    1.207392\n",
       "12.07.2021    1.206887\n",
       "13.07.2021    1.200664\n",
       "14.07.2021    1.190126\n",
       "15.07.2021    1.170429\n",
       "16.07.2021    1.142091\n",
       "17.07.2021    1.823576"
      ]
     },
     "execution_count": 119,
     "metadata": {},
     "output_type": "execute_result"
    }
   ],
   "source": [
    "PS4_control_m_2 = ab_money[(ab_money['platform'] == 'PS4') \n",
    "                           & (ab_money['group'] == 'control') & (ab_money['money'] > 0)]\n",
    "ARPPU_PS4_control = PS4_control_m_2.groupby('date').agg('mean')[['money']]\n",
    "ARPPU_PS4_control.rename(columns={'money': 'ARPP_c_PS4'}, inplace=True)\n",
    "ARPPU_PS4_control"
   ]
  },
  {
   "cell_type": "markdown",
   "id": "4c729a2d",
   "metadata": {},
   "source": [
    "Соединим в один df ARPPU для двух групп площадки PS4 и рассчитаем эффект в %."
   ]
  },
  {
   "cell_type": "code",
   "execution_count": 120,
   "id": "76d968cc",
   "metadata": {},
   "outputs": [
    {
     "data": {
      "text/html": [
       "<div>\n",
       "<style scoped>\n",
       "    .dataframe tbody tr th:only-of-type {\n",
       "        vertical-align: middle;\n",
       "    }\n",
       "\n",
       "    .dataframe tbody tr th {\n",
       "        vertical-align: top;\n",
       "    }\n",
       "\n",
       "    .dataframe thead th {\n",
       "        text-align: right;\n",
       "    }\n",
       "</style>\n",
       "<table border=\"1\" class=\"dataframe\">\n",
       "  <thead>\n",
       "    <tr style=\"text-align: right;\">\n",
       "      <th></th>\n",
       "      <th>ARPP_t_PS4</th>\n",
       "      <th>ARPP_c_PS4</th>\n",
       "      <th>perc_ARPP</th>\n",
       "    </tr>\n",
       "    <tr>\n",
       "      <th>date</th>\n",
       "      <th></th>\n",
       "      <th></th>\n",
       "      <th></th>\n",
       "    </tr>\n",
       "  </thead>\n",
       "  <tbody>\n",
       "    <tr>\n",
       "      <th>10.07.2021</th>\n",
       "      <td>1.218</td>\n",
       "      <td>1.208</td>\n",
       "      <td>0.8</td>\n",
       "    </tr>\n",
       "    <tr>\n",
       "      <th>11.07.2021</th>\n",
       "      <td>1.222</td>\n",
       "      <td>1.207</td>\n",
       "      <td>1.2</td>\n",
       "    </tr>\n",
       "    <tr>\n",
       "      <th>12.07.2021</th>\n",
       "      <td>1.216</td>\n",
       "      <td>1.207</td>\n",
       "      <td>0.7</td>\n",
       "    </tr>\n",
       "    <tr>\n",
       "      <th>13.07.2021</th>\n",
       "      <td>1.216</td>\n",
       "      <td>1.201</td>\n",
       "      <td>1.3</td>\n",
       "    </tr>\n",
       "    <tr>\n",
       "      <th>14.07.2021</th>\n",
       "      <td>1.204</td>\n",
       "      <td>1.190</td>\n",
       "      <td>1.2</td>\n",
       "    </tr>\n",
       "    <tr>\n",
       "      <th>15.07.2021</th>\n",
       "      <td>1.183</td>\n",
       "      <td>1.170</td>\n",
       "      <td>1.1</td>\n",
       "    </tr>\n",
       "    <tr>\n",
       "      <th>16.07.2021</th>\n",
       "      <td>1.156</td>\n",
       "      <td>1.142</td>\n",
       "      <td>1.3</td>\n",
       "    </tr>\n",
       "    <tr>\n",
       "      <th>17.07.2021</th>\n",
       "      <td>1.921</td>\n",
       "      <td>1.824</td>\n",
       "      <td>5.3</td>\n",
       "    </tr>\n",
       "  </tbody>\n",
       "</table>\n",
       "</div>"
      ],
      "text/plain": [
       "            ARPP_t_PS4  ARPP_c_PS4  perc_ARPP\n",
       "date                                         \n",
       "10.07.2021       1.218       1.208        0.8\n",
       "11.07.2021       1.222       1.207        1.2\n",
       "12.07.2021       1.216       1.207        0.7\n",
       "13.07.2021       1.216       1.201        1.3\n",
       "14.07.2021       1.204       1.190        1.2\n",
       "15.07.2021       1.183       1.170        1.1\n",
       "16.07.2021       1.156       1.142        1.3\n",
       "17.07.2021       1.921       1.824        5.3"
      ]
     },
     "execution_count": 120,
     "metadata": {},
     "output_type": "execute_result"
    }
   ],
   "source": [
    "ARPPU_PS4 = pd.merge(ARPPU_PS4_test, ARPPU_PS4_control, left_on='date', right_on='date') \n",
    "ARPPU_PS4['perc_ARPP'] = ARPPU_PS4['ARPP_t_PS4'] / ARPPU_PS4['ARPP_c_PS4'] * 100 - 100\n",
    "ARPPU_PS4 = ARPPU_PS4.round({'ARPP_t_PS4': 3, 'ARPP_c_PS4': 3, 'perc_ARPP': 1})\n",
    "ARPPU_PS4"
   ]
  },
  {
   "cell_type": "markdown",
   "id": "b25676d9",
   "metadata": {},
   "source": [
    "2.3. Рассмотрим траты внутриигровой валюты для двух групп на платформе PS4."
   ]
  },
  {
   "cell_type": "code",
   "execution_count": 121,
   "id": "d5b48460",
   "metadata": {},
   "outputs": [
    {
     "data": {
      "text/html": [
       "<div>\n",
       "<style scoped>\n",
       "    .dataframe tbody tr th:only-of-type {\n",
       "        vertical-align: middle;\n",
       "    }\n",
       "\n",
       "    .dataframe tbody tr th {\n",
       "        vertical-align: top;\n",
       "    }\n",
       "\n",
       "    .dataframe thead th {\n",
       "        text-align: right;\n",
       "    }\n",
       "</style>\n",
       "<table border=\"1\" class=\"dataframe\">\n",
       "  <thead>\n",
       "    <tr style=\"text-align: right;\">\n",
       "      <th></th>\n",
       "      <th>cash_t</th>\n",
       "    </tr>\n",
       "    <tr>\n",
       "      <th>date</th>\n",
       "      <th></th>\n",
       "    </tr>\n",
       "  </thead>\n",
       "  <tbody>\n",
       "    <tr>\n",
       "      <th>10.07.2021</th>\n",
       "      <td>799.965443</td>\n",
       "    </tr>\n",
       "    <tr>\n",
       "      <th>11.07.2021</th>\n",
       "      <td>799.857312</td>\n",
       "    </tr>\n",
       "    <tr>\n",
       "      <th>12.07.2021</th>\n",
       "      <td>794.961039</td>\n",
       "    </tr>\n",
       "    <tr>\n",
       "      <th>13.07.2021</th>\n",
       "      <td>780.439714</td>\n",
       "    </tr>\n",
       "    <tr>\n",
       "      <th>14.07.2021</th>\n",
       "      <td>734.040365</td>\n",
       "    </tr>\n",
       "    <tr>\n",
       "      <th>15.07.2021</th>\n",
       "      <td>653.337569</td>\n",
       "    </tr>\n",
       "    <tr>\n",
       "      <th>16.07.2021</th>\n",
       "      <td>532.290482</td>\n",
       "    </tr>\n",
       "    <tr>\n",
       "      <th>17.07.2021</th>\n",
       "      <td>1035.494839</td>\n",
       "    </tr>\n",
       "  </tbody>\n",
       "</table>\n",
       "</div>"
      ],
      "text/plain": [
       "                 cash_t\n",
       "date                   \n",
       "10.07.2021   799.965443\n",
       "11.07.2021   799.857312\n",
       "12.07.2021   794.961039\n",
       "13.07.2021   780.439714\n",
       "14.07.2021   734.040365\n",
       "15.07.2021   653.337569\n",
       "16.07.2021   532.290482\n",
       "17.07.2021  1035.494839"
      ]
     },
     "execution_count": 121,
     "metadata": {},
     "output_type": "execute_result"
    }
   ],
   "source": [
    "PS4_test_с = ab_cash[(ab_cash['platform'] == 'PS4') \n",
    "                     & (ab_money['group'] == 'test')]\n",
    "cash_PS4_test = PS4_test_с.groupby('date').agg('mean')[['cash']]\n",
    "cash_PS4_test.rename(columns={'cash': 'cash_t'}, inplace=True)\n",
    "cash_PS4_test"
   ]
  },
  {
   "cell_type": "code",
   "execution_count": 122,
   "id": "1e6e92d6",
   "metadata": {},
   "outputs": [
    {
     "data": {
      "text/html": [
       "<div>\n",
       "<style scoped>\n",
       "    .dataframe tbody tr th:only-of-type {\n",
       "        vertical-align: middle;\n",
       "    }\n",
       "\n",
       "    .dataframe tbody tr th {\n",
       "        vertical-align: top;\n",
       "    }\n",
       "\n",
       "    .dataframe thead th {\n",
       "        text-align: right;\n",
       "    }\n",
       "</style>\n",
       "<table border=\"1\" class=\"dataframe\">\n",
       "  <thead>\n",
       "    <tr style=\"text-align: right;\">\n",
       "      <th></th>\n",
       "      <th>cash_c</th>\n",
       "    </tr>\n",
       "    <tr>\n",
       "      <th>date</th>\n",
       "      <th></th>\n",
       "    </tr>\n",
       "  </thead>\n",
       "  <tbody>\n",
       "    <tr>\n",
       "      <th>10.07.2021</th>\n",
       "      <td>750.971892</td>\n",
       "    </tr>\n",
       "    <tr>\n",
       "      <th>11.07.2021</th>\n",
       "      <td>750.073413</td>\n",
       "    </tr>\n",
       "    <tr>\n",
       "      <th>12.07.2021</th>\n",
       "      <td>744.970079</td>\n",
       "    </tr>\n",
       "    <tr>\n",
       "      <th>13.07.2021</th>\n",
       "      <td>724.261696</td>\n",
       "    </tr>\n",
       "    <tr>\n",
       "      <th>14.07.2021</th>\n",
       "      <td>679.014093</td>\n",
       "    </tr>\n",
       "    <tr>\n",
       "      <th>15.07.2021</th>\n",
       "      <td>598.475284</td>\n",
       "    </tr>\n",
       "    <tr>\n",
       "      <th>16.07.2021</th>\n",
       "      <td>487.905720</td>\n",
       "    </tr>\n",
       "    <tr>\n",
       "      <th>17.07.2021</th>\n",
       "      <td>946.263987</td>\n",
       "    </tr>\n",
       "  </tbody>\n",
       "</table>\n",
       "</div>"
      ],
      "text/plain": [
       "                cash_c\n",
       "date                  \n",
       "10.07.2021  750.971892\n",
       "11.07.2021  750.073413\n",
       "12.07.2021  744.970079\n",
       "13.07.2021  724.261696\n",
       "14.07.2021  679.014093\n",
       "15.07.2021  598.475284\n",
       "16.07.2021  487.905720\n",
       "17.07.2021  946.263987"
      ]
     },
     "execution_count": 122,
     "metadata": {},
     "output_type": "execute_result"
    }
   ],
   "source": [
    "PS4_control_с = ab_cash[(ab_cash['platform'] == 'PS4') \n",
    "                        & (ab_money['group'] == 'control')]\n",
    "cash_PS4_control = PS4_control_с.groupby('date').agg('mean')[['cash']]\n",
    "cash_PS4_control.rename(columns={'cash': 'cash_c'}, inplace=True)\n",
    "cash_PS4_control"
   ]
  },
  {
   "cell_type": "markdown",
   "id": "ac1b2ee6",
   "metadata": {},
   "source": [
    "Соединим в один df средние по тратам внутренней валюты для двух групп площадки PS4 и рассчитаем эффект в %."
   ]
  },
  {
   "cell_type": "code",
   "execution_count": 123,
   "id": "71ceec21",
   "metadata": {},
   "outputs": [
    {
     "data": {
      "text/html": [
       "<div>\n",
       "<style scoped>\n",
       "    .dataframe tbody tr th:only-of-type {\n",
       "        vertical-align: middle;\n",
       "    }\n",
       "\n",
       "    .dataframe tbody tr th {\n",
       "        vertical-align: top;\n",
       "    }\n",
       "\n",
       "    .dataframe thead th {\n",
       "        text-align: right;\n",
       "    }\n",
       "</style>\n",
       "<table border=\"1\" class=\"dataframe\">\n",
       "  <thead>\n",
       "    <tr style=\"text-align: right;\">\n",
       "      <th></th>\n",
       "      <th>cash_t</th>\n",
       "      <th>cash_c</th>\n",
       "      <th>perc_cash</th>\n",
       "    </tr>\n",
       "    <tr>\n",
       "      <th>date</th>\n",
       "      <th></th>\n",
       "      <th></th>\n",
       "      <th></th>\n",
       "    </tr>\n",
       "  </thead>\n",
       "  <tbody>\n",
       "    <tr>\n",
       "      <th>10.07.2021</th>\n",
       "      <td>799.965</td>\n",
       "      <td>750.972</td>\n",
       "      <td>6.5</td>\n",
       "    </tr>\n",
       "    <tr>\n",
       "      <th>11.07.2021</th>\n",
       "      <td>799.857</td>\n",
       "      <td>750.073</td>\n",
       "      <td>6.6</td>\n",
       "    </tr>\n",
       "    <tr>\n",
       "      <th>12.07.2021</th>\n",
       "      <td>794.961</td>\n",
       "      <td>744.970</td>\n",
       "      <td>6.7</td>\n",
       "    </tr>\n",
       "    <tr>\n",
       "      <th>13.07.2021</th>\n",
       "      <td>780.440</td>\n",
       "      <td>724.262</td>\n",
       "      <td>7.8</td>\n",
       "    </tr>\n",
       "    <tr>\n",
       "      <th>14.07.2021</th>\n",
       "      <td>734.040</td>\n",
       "      <td>679.014</td>\n",
       "      <td>8.1</td>\n",
       "    </tr>\n",
       "    <tr>\n",
       "      <th>15.07.2021</th>\n",
       "      <td>653.338</td>\n",
       "      <td>598.475</td>\n",
       "      <td>9.2</td>\n",
       "    </tr>\n",
       "    <tr>\n",
       "      <th>16.07.2021</th>\n",
       "      <td>532.290</td>\n",
       "      <td>487.906</td>\n",
       "      <td>9.1</td>\n",
       "    </tr>\n",
       "    <tr>\n",
       "      <th>17.07.2021</th>\n",
       "      <td>1035.495</td>\n",
       "      <td>946.264</td>\n",
       "      <td>9.4</td>\n",
       "    </tr>\n",
       "  </tbody>\n",
       "</table>\n",
       "</div>"
      ],
      "text/plain": [
       "              cash_t   cash_c  perc_cash\n",
       "date                                    \n",
       "10.07.2021   799.965  750.972        6.5\n",
       "11.07.2021   799.857  750.073        6.6\n",
       "12.07.2021   794.961  744.970        6.7\n",
       "13.07.2021   780.440  724.262        7.8\n",
       "14.07.2021   734.040  679.014        8.1\n",
       "15.07.2021   653.338  598.475        9.2\n",
       "16.07.2021   532.290  487.906        9.1\n",
       "17.07.2021  1035.495  946.264        9.4"
      ]
     },
     "execution_count": 123,
     "metadata": {},
     "output_type": "execute_result"
    }
   ],
   "source": [
    "cash_PS4 = pd.merge(cash_PS4_test, cash_PS4_control, left_on='date', right_on='date') \n",
    "cash_PS4['perc_cash'] = cash_PS4_test['cash_t'] / cash_PS4_control['cash_c'] * 100 - 100\n",
    "cash_PS4 = cash_PS4.round({'cash_t': 3, 'cash_c': 3, 'perc_cash': 1})\n",
    "cash_PS4"
   ]
  },
  {
   "cell_type": "markdown",
   "id": "bb17027b",
   "metadata": {},
   "source": [
    "Соединим в один df полученные метрики и их сравнение по игровой платформе PS4."
   ]
  },
  {
   "cell_type": "code",
   "execution_count": 141,
   "id": "460fd41a",
   "metadata": {},
   "outputs": [
    {
     "data": {
      "text/html": [
       "<div>\n",
       "<style scoped>\n",
       "    .dataframe tbody tr th:only-of-type {\n",
       "        vertical-align: middle;\n",
       "    }\n",
       "\n",
       "    .dataframe tbody tr th {\n",
       "        vertical-align: top;\n",
       "    }\n",
       "\n",
       "    .dataframe thead th {\n",
       "        text-align: right;\n",
       "    }\n",
       "</style>\n",
       "<table border=\"1\" class=\"dataframe\">\n",
       "  <thead>\n",
       "    <tr style=\"text-align: right;\">\n",
       "      <th></th>\n",
       "      <th>AR_t_PS4</th>\n",
       "      <th>AR_c_PS4</th>\n",
       "      <th>perc_PS4</th>\n",
       "      <th>ARPP_t_PS4</th>\n",
       "      <th>ARPP_c_PS4</th>\n",
       "      <th>perc_ARPP</th>\n",
       "      <th>cash_t</th>\n",
       "      <th>cash_c</th>\n",
       "      <th>perc_cash</th>\n",
       "    </tr>\n",
       "    <tr>\n",
       "      <th>date</th>\n",
       "      <th></th>\n",
       "      <th></th>\n",
       "      <th></th>\n",
       "      <th></th>\n",
       "      <th></th>\n",
       "      <th></th>\n",
       "      <th></th>\n",
       "      <th></th>\n",
       "      <th></th>\n",
       "    </tr>\n",
       "  </thead>\n",
       "  <tbody>\n",
       "    <tr>\n",
       "      <th>10.07.2021</th>\n",
       "      <td>0.750</td>\n",
       "      <td>0.717</td>\n",
       "      <td>4.6</td>\n",
       "      <td>1.218</td>\n",
       "      <td>1.208</td>\n",
       "      <td>0.8</td>\n",
       "      <td>799.965</td>\n",
       "      <td>750.972</td>\n",
       "      <td>6.5</td>\n",
       "    </tr>\n",
       "    <tr>\n",
       "      <th>11.07.2021</th>\n",
       "      <td>0.753</td>\n",
       "      <td>0.714</td>\n",
       "      <td>5.4</td>\n",
       "      <td>1.222</td>\n",
       "      <td>1.207</td>\n",
       "      <td>1.2</td>\n",
       "      <td>799.857</td>\n",
       "      <td>750.073</td>\n",
       "      <td>6.6</td>\n",
       "    </tr>\n",
       "    <tr>\n",
       "      <th>12.07.2021</th>\n",
       "      <td>0.747</td>\n",
       "      <td>0.710</td>\n",
       "      <td>5.2</td>\n",
       "      <td>1.216</td>\n",
       "      <td>1.207</td>\n",
       "      <td>0.7</td>\n",
       "      <td>794.961</td>\n",
       "      <td>744.970</td>\n",
       "      <td>6.7</td>\n",
       "    </tr>\n",
       "    <tr>\n",
       "      <th>13.07.2021</th>\n",
       "      <td>0.735</td>\n",
       "      <td>0.693</td>\n",
       "      <td>6.0</td>\n",
       "      <td>1.216</td>\n",
       "      <td>1.201</td>\n",
       "      <td>1.3</td>\n",
       "      <td>780.440</td>\n",
       "      <td>724.262</td>\n",
       "      <td>7.8</td>\n",
       "    </tr>\n",
       "    <tr>\n",
       "      <th>14.07.2021</th>\n",
       "      <td>0.703</td>\n",
       "      <td>0.663</td>\n",
       "      <td>6.1</td>\n",
       "      <td>1.204</td>\n",
       "      <td>1.190</td>\n",
       "      <td>1.2</td>\n",
       "      <td>734.040</td>\n",
       "      <td>679.014</td>\n",
       "      <td>8.1</td>\n",
       "    </tr>\n",
       "    <tr>\n",
       "      <th>15.07.2021</th>\n",
       "      <td>0.648</td>\n",
       "      <td>0.611</td>\n",
       "      <td>6.1</td>\n",
       "      <td>1.183</td>\n",
       "      <td>1.170</td>\n",
       "      <td>1.1</td>\n",
       "      <td>653.338</td>\n",
       "      <td>598.475</td>\n",
       "      <td>9.2</td>\n",
       "    </tr>\n",
       "    <tr>\n",
       "      <th>16.07.2021</th>\n",
       "      <td>0.578</td>\n",
       "      <td>0.546</td>\n",
       "      <td>5.8</td>\n",
       "      <td>1.156</td>\n",
       "      <td>1.142</td>\n",
       "      <td>1.3</td>\n",
       "      <td>532.290</td>\n",
       "      <td>487.906</td>\n",
       "      <td>9.1</td>\n",
       "    </tr>\n",
       "    <tr>\n",
       "      <th>17.07.2021</th>\n",
       "      <td>1.172</td>\n",
       "      <td>1.085</td>\n",
       "      <td>8.0</td>\n",
       "      <td>1.921</td>\n",
       "      <td>1.824</td>\n",
       "      <td>5.3</td>\n",
       "      <td>1035.495</td>\n",
       "      <td>946.264</td>\n",
       "      <td>9.4</td>\n",
       "    </tr>\n",
       "  </tbody>\n",
       "</table>\n",
       "</div>"
      ],
      "text/plain": [
       "            AR_t_PS4  AR_c_PS4  perc_PS4  ARPP_t_PS4  ARPP_c_PS4  perc_ARPP  \\\n",
       "date                                                                          \n",
       "10.07.2021     0.750     0.717       4.6       1.218       1.208        0.8   \n",
       "11.07.2021     0.753     0.714       5.4       1.222       1.207        1.2   \n",
       "12.07.2021     0.747     0.710       5.2       1.216       1.207        0.7   \n",
       "13.07.2021     0.735     0.693       6.0       1.216       1.201        1.3   \n",
       "14.07.2021     0.703     0.663       6.1       1.204       1.190        1.2   \n",
       "15.07.2021     0.648     0.611       6.1       1.183       1.170        1.1   \n",
       "16.07.2021     0.578     0.546       5.8       1.156       1.142        1.3   \n",
       "17.07.2021     1.172     1.085       8.0       1.921       1.824        5.3   \n",
       "\n",
       "              cash_t   cash_c  perc_cash  \n",
       "date                                      \n",
       "10.07.2021   799.965  750.972        6.5  \n",
       "11.07.2021   799.857  750.073        6.6  \n",
       "12.07.2021   794.961  744.970        6.7  \n",
       "13.07.2021   780.440  724.262        7.8  \n",
       "14.07.2021   734.040  679.014        8.1  \n",
       "15.07.2021   653.338  598.475        9.2  \n",
       "16.07.2021   532.290  487.906        9.1  \n",
       "17.07.2021  1035.495  946.264        9.4  "
      ]
     },
     "execution_count": 141,
     "metadata": {},
     "output_type": "execute_result"
    }
   ],
   "source": [
    "PS4_metrics = pd.merge(ARPU_PS4, ARPPU_PS4, left_on='date', right_on='date') \n",
    "PS4_metrics = pd.merge(PS4_metrics, cash_PS4, left_on='date', right_on='date') \n",
    "PS4_metrics"
   ]
  },
  {
   "cell_type": "markdown",
   "id": "e7daf646",
   "metadata": {},
   "source": [
    " "
   ]
  },
  {
   "cell_type": "markdown",
   "id": "d2a7bc32",
   "metadata": {},
   "source": [
    " "
   ]
  },
  {
   "cell_type": "markdown",
   "id": "0d64fde5",
   "metadata": {},
   "source": [
    " "
   ]
  },
  {
   "cell_type": "markdown",
   "id": "35d58a34",
   "metadata": {},
   "source": [
    " 3. Рассчитаем и сравним метрики для площадки XBox."
   ]
  },
  {
   "cell_type": "code",
   "execution_count": 125,
   "id": "3f4b4176",
   "metadata": {},
   "outputs": [
    {
     "data": {
      "text/plain": [
       "180073.0"
      ]
     },
     "execution_count": 125,
     "metadata": {},
     "output_type": "execute_result"
    }
   ],
   "source": [
    "len(ab_money[(ab_money['platform'] == 'XBox') & (ab_money['group'] == 'test')])/8"
   ]
  },
  {
   "cell_type": "code",
   "execution_count": 126,
   "id": "89abb396",
   "metadata": {},
   "outputs": [
    {
     "data": {
      "text/plain": [
       "180454.0"
      ]
     },
     "execution_count": 126,
     "metadata": {},
     "output_type": "execute_result"
    }
   ],
   "source": [
    "len(ab_money[(ab_money['platform'] == 'XBox') & (ab_money['group'] == 'control')])/8"
   ]
  },
  {
   "cell_type": "markdown",
   "id": "638dc2e0",
   "metadata": {},
   "source": [
    "3.1. Рассчитаем ARPU(средняя прибыль на игрока) для двух групп на платформе XBox."
   ]
  },
  {
   "cell_type": "code",
   "execution_count": 127,
   "id": "b2035a87",
   "metadata": {},
   "outputs": [
    {
     "data": {
      "text/html": [
       "<div>\n",
       "<style scoped>\n",
       "    .dataframe tbody tr th:only-of-type {\n",
       "        vertical-align: middle;\n",
       "    }\n",
       "\n",
       "    .dataframe tbody tr th {\n",
       "        vertical-align: top;\n",
       "    }\n",
       "\n",
       "    .dataframe thead th {\n",
       "        text-align: right;\n",
       "    }\n",
       "</style>\n",
       "<table border=\"1\" class=\"dataframe\">\n",
       "  <thead>\n",
       "    <tr style=\"text-align: right;\">\n",
       "      <th></th>\n",
       "      <th>AR_t_Xb</th>\n",
       "    </tr>\n",
       "    <tr>\n",
       "      <th>date</th>\n",
       "      <th></th>\n",
       "    </tr>\n",
       "  </thead>\n",
       "  <tbody>\n",
       "    <tr>\n",
       "      <th>10.07.2021</th>\n",
       "      <td>0.749682</td>\n",
       "    </tr>\n",
       "    <tr>\n",
       "      <th>11.07.2021</th>\n",
       "      <td>0.750862</td>\n",
       "    </tr>\n",
       "    <tr>\n",
       "      <th>12.07.2021</th>\n",
       "      <td>0.748736</td>\n",
       "    </tr>\n",
       "    <tr>\n",
       "      <th>13.07.2021</th>\n",
       "      <td>0.733677</td>\n",
       "    </tr>\n",
       "    <tr>\n",
       "      <th>14.07.2021</th>\n",
       "      <td>0.703851</td>\n",
       "    </tr>\n",
       "    <tr>\n",
       "      <th>15.07.2021</th>\n",
       "      <td>0.648705</td>\n",
       "    </tr>\n",
       "    <tr>\n",
       "      <th>16.07.2021</th>\n",
       "      <td>0.580732</td>\n",
       "    </tr>\n",
       "    <tr>\n",
       "      <th>17.07.2021</th>\n",
       "      <td>1.216388</td>\n",
       "    </tr>\n",
       "  </tbody>\n",
       "</table>\n",
       "</div>"
      ],
      "text/plain": [
       "             AR_t_Xb\n",
       "date                \n",
       "10.07.2021  0.749682\n",
       "11.07.2021  0.750862\n",
       "12.07.2021  0.748736\n",
       "13.07.2021  0.733677\n",
       "14.07.2021  0.703851\n",
       "15.07.2021  0.648705\n",
       "16.07.2021  0.580732\n",
       "17.07.2021  1.216388"
      ]
     },
     "execution_count": 127,
     "metadata": {},
     "output_type": "execute_result"
    }
   ],
   "source": [
    "XBox_test_m = ab_money[(ab_money['platform'] == 'XBox') \n",
    "                       & (ab_money['group'] == 'test')]\n",
    "ARPU_XBox_test = XBox_test_m.groupby('date').agg('mean')[['money']]\n",
    "ARPU_XBox_test.rename(columns={'money': 'AR_t_Xb'}, inplace=True)\n",
    "ARPU_XBox_test"
   ]
  },
  {
   "cell_type": "code",
   "execution_count": 128,
   "id": "a63d5a9d",
   "metadata": {},
   "outputs": [
    {
     "data": {
      "text/html": [
       "<div>\n",
       "<style scoped>\n",
       "    .dataframe tbody tr th:only-of-type {\n",
       "        vertical-align: middle;\n",
       "    }\n",
       "\n",
       "    .dataframe tbody tr th {\n",
       "        vertical-align: top;\n",
       "    }\n",
       "\n",
       "    .dataframe thead th {\n",
       "        text-align: right;\n",
       "    }\n",
       "</style>\n",
       "<table border=\"1\" class=\"dataframe\">\n",
       "  <thead>\n",
       "    <tr style=\"text-align: right;\">\n",
       "      <th></th>\n",
       "      <th>AR_c_Xb</th>\n",
       "    </tr>\n",
       "    <tr>\n",
       "      <th>date</th>\n",
       "      <th></th>\n",
       "    </tr>\n",
       "  </thead>\n",
       "  <tbody>\n",
       "    <tr>\n",
       "      <th>10.07.2021</th>\n",
       "      <td>0.754951</td>\n",
       "    </tr>\n",
       "    <tr>\n",
       "      <th>11.07.2021</th>\n",
       "      <td>0.753413</td>\n",
       "    </tr>\n",
       "    <tr>\n",
       "      <th>12.07.2021</th>\n",
       "      <td>0.748329</td>\n",
       "    </tr>\n",
       "    <tr>\n",
       "      <th>13.07.2021</th>\n",
       "      <td>0.736472</td>\n",
       "    </tr>\n",
       "    <tr>\n",
       "      <th>14.07.2021</th>\n",
       "      <td>0.702397</td>\n",
       "    </tr>\n",
       "    <tr>\n",
       "      <th>15.07.2021</th>\n",
       "      <td>0.648233</td>\n",
       "    </tr>\n",
       "    <tr>\n",
       "      <th>16.07.2021</th>\n",
       "      <td>0.576121</td>\n",
       "    </tr>\n",
       "    <tr>\n",
       "      <th>17.07.2021</th>\n",
       "      <td>1.183584</td>\n",
       "    </tr>\n",
       "  </tbody>\n",
       "</table>\n",
       "</div>"
      ],
      "text/plain": [
       "             AR_c_Xb\n",
       "date                \n",
       "10.07.2021  0.754951\n",
       "11.07.2021  0.753413\n",
       "12.07.2021  0.748329\n",
       "13.07.2021  0.736472\n",
       "14.07.2021  0.702397\n",
       "15.07.2021  0.648233\n",
       "16.07.2021  0.576121\n",
       "17.07.2021  1.183584"
      ]
     },
     "execution_count": 128,
     "metadata": {},
     "output_type": "execute_result"
    }
   ],
   "source": [
    "XBox_control_m = ab_money[(ab_money['platform'] == 'XBox') \n",
    "                          & (ab_money['group'] == 'control')]\n",
    "ARPU_XBox_control = XBox_control_m.groupby('date').agg('mean')[['money']]\n",
    "ARPU_XBox_control.rename(columns={'money': 'AR_c_Xb'}, inplace=True)\n",
    "ARPU_XBox_control"
   ]
  },
  {
   "cell_type": "markdown",
   "id": "7504d5f9",
   "metadata": {},
   "source": [
    "Соединим в один df ARPU для двух групп площадки XBox и рассчитаем эффект в %."
   ]
  },
  {
   "cell_type": "code",
   "execution_count": 129,
   "id": "579e1f9a",
   "metadata": {},
   "outputs": [
    {
     "data": {
      "text/html": [
       "<div>\n",
       "<style scoped>\n",
       "    .dataframe tbody tr th:only-of-type {\n",
       "        vertical-align: middle;\n",
       "    }\n",
       "\n",
       "    .dataframe tbody tr th {\n",
       "        vertical-align: top;\n",
       "    }\n",
       "\n",
       "    .dataframe thead th {\n",
       "        text-align: right;\n",
       "    }\n",
       "</style>\n",
       "<table border=\"1\" class=\"dataframe\">\n",
       "  <thead>\n",
       "    <tr style=\"text-align: right;\">\n",
       "      <th></th>\n",
       "      <th>AR_t_Xb</th>\n",
       "      <th>AR_c_Xb</th>\n",
       "      <th>perc_Xb</th>\n",
       "    </tr>\n",
       "    <tr>\n",
       "      <th>date</th>\n",
       "      <th></th>\n",
       "      <th></th>\n",
       "      <th></th>\n",
       "    </tr>\n",
       "  </thead>\n",
       "  <tbody>\n",
       "    <tr>\n",
       "      <th>10.07.2021</th>\n",
       "      <td>0.750</td>\n",
       "      <td>0.755</td>\n",
       "      <td>-0.7</td>\n",
       "    </tr>\n",
       "    <tr>\n",
       "      <th>11.07.2021</th>\n",
       "      <td>0.751</td>\n",
       "      <td>0.753</td>\n",
       "      <td>-0.3</td>\n",
       "    </tr>\n",
       "    <tr>\n",
       "      <th>12.07.2021</th>\n",
       "      <td>0.749</td>\n",
       "      <td>0.748</td>\n",
       "      <td>0.1</td>\n",
       "    </tr>\n",
       "    <tr>\n",
       "      <th>13.07.2021</th>\n",
       "      <td>0.734</td>\n",
       "      <td>0.736</td>\n",
       "      <td>-0.4</td>\n",
       "    </tr>\n",
       "    <tr>\n",
       "      <th>14.07.2021</th>\n",
       "      <td>0.704</td>\n",
       "      <td>0.702</td>\n",
       "      <td>0.2</td>\n",
       "    </tr>\n",
       "    <tr>\n",
       "      <th>15.07.2021</th>\n",
       "      <td>0.649</td>\n",
       "      <td>0.648</td>\n",
       "      <td>0.1</td>\n",
       "    </tr>\n",
       "    <tr>\n",
       "      <th>16.07.2021</th>\n",
       "      <td>0.581</td>\n",
       "      <td>0.576</td>\n",
       "      <td>0.8</td>\n",
       "    </tr>\n",
       "    <tr>\n",
       "      <th>17.07.2021</th>\n",
       "      <td>1.216</td>\n",
       "      <td>1.184</td>\n",
       "      <td>2.8</td>\n",
       "    </tr>\n",
       "  </tbody>\n",
       "</table>\n",
       "</div>"
      ],
      "text/plain": [
       "            AR_t_Xb  AR_c_Xb  perc_Xb\n",
       "date                                 \n",
       "10.07.2021    0.750    0.755     -0.7\n",
       "11.07.2021    0.751    0.753     -0.3\n",
       "12.07.2021    0.749    0.748      0.1\n",
       "13.07.2021    0.734    0.736     -0.4\n",
       "14.07.2021    0.704    0.702      0.2\n",
       "15.07.2021    0.649    0.648      0.1\n",
       "16.07.2021    0.581    0.576      0.8\n",
       "17.07.2021    1.216    1.184      2.8"
      ]
     },
     "execution_count": 129,
     "metadata": {},
     "output_type": "execute_result"
    }
   ],
   "source": [
    "ARPU_XBox = pd.merge(ARPU_XBox_test, ARPU_XBox_control, left_on='date', right_on='date') \n",
    "ARPU_XBox['perc_Xb'] = ARPU_XBox['AR_t_Xb'] / ARPU_XBox['AR_c_Xb'] * 100 - 100\n",
    "ARPU_XBox = ARPU_XBox.round({'AR_t_Xb': 3, 'AR_c_Xb': 3, 'perc_Xb': 1})\n",
    "ARPU_XBox"
   ]
  },
  {
   "cell_type": "markdown",
   "id": "2a5d831b",
   "metadata": {},
   "source": [
    "3.2. Рассчитаем ARPPU(средняя прибыль на платящего игрока) для двух групп на платформе XBox."
   ]
  },
  {
   "cell_type": "code",
   "execution_count": 130,
   "id": "5afda003",
   "metadata": {},
   "outputs": [
    {
     "data": {
      "text/html": [
       "<div>\n",
       "<style scoped>\n",
       "    .dataframe tbody tr th:only-of-type {\n",
       "        vertical-align: middle;\n",
       "    }\n",
       "\n",
       "    .dataframe tbody tr th {\n",
       "        vertical-align: top;\n",
       "    }\n",
       "\n",
       "    .dataframe thead th {\n",
       "        text-align: right;\n",
       "    }\n",
       "</style>\n",
       "<table border=\"1\" class=\"dataframe\">\n",
       "  <thead>\n",
       "    <tr style=\"text-align: right;\">\n",
       "      <th></th>\n",
       "      <th>ARPP_t_Xb</th>\n",
       "    </tr>\n",
       "    <tr>\n",
       "      <th>date</th>\n",
       "      <th></th>\n",
       "    </tr>\n",
       "  </thead>\n",
       "  <tbody>\n",
       "    <tr>\n",
       "      <th>10.07.2021</th>\n",
       "      <td>1.218895</td>\n",
       "    </tr>\n",
       "    <tr>\n",
       "      <th>11.07.2021</th>\n",
       "      <td>1.217997</td>\n",
       "    </tr>\n",
       "    <tr>\n",
       "      <th>12.07.2021</th>\n",
       "      <td>1.220232</td>\n",
       "    </tr>\n",
       "    <tr>\n",
       "      <th>13.07.2021</th>\n",
       "      <td>1.214810</td>\n",
       "    </tr>\n",
       "    <tr>\n",
       "      <th>14.07.2021</th>\n",
       "      <td>1.205357</td>\n",
       "    </tr>\n",
       "    <tr>\n",
       "      <th>15.07.2021</th>\n",
       "      <td>1.186233</td>\n",
       "    </tr>\n",
       "    <tr>\n",
       "      <th>16.07.2021</th>\n",
       "      <td>1.156921</td>\n",
       "    </tr>\n",
       "    <tr>\n",
       "      <th>17.07.2021</th>\n",
       "      <td>1.963679</td>\n",
       "    </tr>\n",
       "  </tbody>\n",
       "</table>\n",
       "</div>"
      ],
      "text/plain": [
       "            ARPP_t_Xb\n",
       "date                 \n",
       "10.07.2021   1.218895\n",
       "11.07.2021   1.217997\n",
       "12.07.2021   1.220232\n",
       "13.07.2021   1.214810\n",
       "14.07.2021   1.205357\n",
       "15.07.2021   1.186233\n",
       "16.07.2021   1.156921\n",
       "17.07.2021   1.963679"
      ]
     },
     "execution_count": 130,
     "metadata": {},
     "output_type": "execute_result"
    }
   ],
   "source": [
    "XBox_test_m_2 = ab_money[(ab_money['platform'] == 'XBox') \n",
    "                         & (ab_money['group'] == 'test') & (ab_money['money'] > 0)]\n",
    "ARPPU_XBox_test = XBox_test_m_2.groupby('date').agg('mean')[['money']]\n",
    "ARPPU_XBox_test.rename(columns={'money': 'ARPP_t_Xb'}, inplace=True)\n",
    "ARPPU_XBox_test"
   ]
  },
  {
   "cell_type": "code",
   "execution_count": 131,
   "id": "36c8d82b",
   "metadata": {},
   "outputs": [
    {
     "data": {
      "text/html": [
       "<div>\n",
       "<style scoped>\n",
       "    .dataframe tbody tr th:only-of-type {\n",
       "        vertical-align: middle;\n",
       "    }\n",
       "\n",
       "    .dataframe tbody tr th {\n",
       "        vertical-align: top;\n",
       "    }\n",
       "\n",
       "    .dataframe thead th {\n",
       "        text-align: right;\n",
       "    }\n",
       "</style>\n",
       "<table border=\"1\" class=\"dataframe\">\n",
       "  <thead>\n",
       "    <tr style=\"text-align: right;\">\n",
       "      <th></th>\n",
       "      <th>ARPP_c_Xb</th>\n",
       "    </tr>\n",
       "    <tr>\n",
       "      <th>date</th>\n",
       "      <th></th>\n",
       "    </tr>\n",
       "  </thead>\n",
       "  <tbody>\n",
       "    <tr>\n",
       "      <th>10.07.2021</th>\n",
       "      <td>1.220724</td>\n",
       "    </tr>\n",
       "    <tr>\n",
       "      <th>11.07.2021</th>\n",
       "      <td>1.218629</td>\n",
       "    </tr>\n",
       "    <tr>\n",
       "      <th>12.07.2021</th>\n",
       "      <td>1.218642</td>\n",
       "    </tr>\n",
       "    <tr>\n",
       "      <th>13.07.2021</th>\n",
       "      <td>1.215135</td>\n",
       "    </tr>\n",
       "    <tr>\n",
       "      <th>14.07.2021</th>\n",
       "      <td>1.204027</td>\n",
       "    </tr>\n",
       "    <tr>\n",
       "      <th>15.07.2021</th>\n",
       "      <td>1.186660</td>\n",
       "    </tr>\n",
       "    <tr>\n",
       "      <th>16.07.2021</th>\n",
       "      <td>1.154405</td>\n",
       "    </tr>\n",
       "    <tr>\n",
       "      <th>17.07.2021</th>\n",
       "      <td>1.935377</td>\n",
       "    </tr>\n",
       "  </tbody>\n",
       "</table>\n",
       "</div>"
      ],
      "text/plain": [
       "            ARPP_c_Xb\n",
       "date                 \n",
       "10.07.2021   1.220724\n",
       "11.07.2021   1.218629\n",
       "12.07.2021   1.218642\n",
       "13.07.2021   1.215135\n",
       "14.07.2021   1.204027\n",
       "15.07.2021   1.186660\n",
       "16.07.2021   1.154405\n",
       "17.07.2021   1.935377"
      ]
     },
     "execution_count": 131,
     "metadata": {},
     "output_type": "execute_result"
    }
   ],
   "source": [
    "XBox_control_m_2 = ab_money[(ab_money['platform'] == 'XBox') \n",
    "                            & (ab_money['group'] == 'control') & (ab_money['money'] > 0)]\n",
    "ARPPU_XBox_control = XBox_control_m_2.groupby('date').agg('mean')[['money']]\n",
    "ARPPU_XBox_control.rename(columns={'money': 'ARPP_c_Xb'}, inplace=True)\n",
    "ARPPU_XBox_control"
   ]
  },
  {
   "cell_type": "markdown",
   "id": "0f128da7",
   "metadata": {},
   "source": [
    "Соединим в один df ARPPU для двух групп площадки XBox и рассчитаем эффект в %."
   ]
  },
  {
   "cell_type": "code",
   "execution_count": 132,
   "id": "dc833117",
   "metadata": {},
   "outputs": [
    {
     "data": {
      "text/html": [
       "<div>\n",
       "<style scoped>\n",
       "    .dataframe tbody tr th:only-of-type {\n",
       "        vertical-align: middle;\n",
       "    }\n",
       "\n",
       "    .dataframe tbody tr th {\n",
       "        vertical-align: top;\n",
       "    }\n",
       "\n",
       "    .dataframe thead th {\n",
       "        text-align: right;\n",
       "    }\n",
       "</style>\n",
       "<table border=\"1\" class=\"dataframe\">\n",
       "  <thead>\n",
       "    <tr style=\"text-align: right;\">\n",
       "      <th></th>\n",
       "      <th>ARPP_t_Xb</th>\n",
       "      <th>ARPP_c_Xb</th>\n",
       "      <th>perc_ARPP</th>\n",
       "    </tr>\n",
       "    <tr>\n",
       "      <th>date</th>\n",
       "      <th></th>\n",
       "      <th></th>\n",
       "      <th></th>\n",
       "    </tr>\n",
       "  </thead>\n",
       "  <tbody>\n",
       "    <tr>\n",
       "      <th>10.07.2021</th>\n",
       "      <td>1.219</td>\n",
       "      <td>1.221</td>\n",
       "      <td>-0.1</td>\n",
       "    </tr>\n",
       "    <tr>\n",
       "      <th>11.07.2021</th>\n",
       "      <td>1.218</td>\n",
       "      <td>1.219</td>\n",
       "      <td>-0.1</td>\n",
       "    </tr>\n",
       "    <tr>\n",
       "      <th>12.07.2021</th>\n",
       "      <td>1.220</td>\n",
       "      <td>1.219</td>\n",
       "      <td>0.1</td>\n",
       "    </tr>\n",
       "    <tr>\n",
       "      <th>13.07.2021</th>\n",
       "      <td>1.215</td>\n",
       "      <td>1.215</td>\n",
       "      <td>-0.0</td>\n",
       "    </tr>\n",
       "    <tr>\n",
       "      <th>14.07.2021</th>\n",
       "      <td>1.205</td>\n",
       "      <td>1.204</td>\n",
       "      <td>0.1</td>\n",
       "    </tr>\n",
       "    <tr>\n",
       "      <th>15.07.2021</th>\n",
       "      <td>1.186</td>\n",
       "      <td>1.187</td>\n",
       "      <td>-0.0</td>\n",
       "    </tr>\n",
       "    <tr>\n",
       "      <th>16.07.2021</th>\n",
       "      <td>1.157</td>\n",
       "      <td>1.154</td>\n",
       "      <td>0.2</td>\n",
       "    </tr>\n",
       "    <tr>\n",
       "      <th>17.07.2021</th>\n",
       "      <td>1.964</td>\n",
       "      <td>1.935</td>\n",
       "      <td>1.5</td>\n",
       "    </tr>\n",
       "  </tbody>\n",
       "</table>\n",
       "</div>"
      ],
      "text/plain": [
       "            ARPP_t_Xb  ARPP_c_Xb  perc_ARPP\n",
       "date                                       \n",
       "10.07.2021      1.219      1.221       -0.1\n",
       "11.07.2021      1.218      1.219       -0.1\n",
       "12.07.2021      1.220      1.219        0.1\n",
       "13.07.2021      1.215      1.215       -0.0\n",
       "14.07.2021      1.205      1.204        0.1\n",
       "15.07.2021      1.186      1.187       -0.0\n",
       "16.07.2021      1.157      1.154        0.2\n",
       "17.07.2021      1.964      1.935        1.5"
      ]
     },
     "execution_count": 132,
     "metadata": {},
     "output_type": "execute_result"
    }
   ],
   "source": [
    "ARPPU_XBox = pd.merge(ARPPU_XBox_test, ARPPU_XBox_control, left_on='date', right_on='date') \n",
    "ARPPU_XBox['perc_ARPP'] = ARPPU_XBox['ARPP_t_Xb'] / ARPPU_XBox['ARPP_c_Xb'] * 100 - 100\n",
    "ARPPU_XBox = ARPPU_XBox.round({'ARPP_t_Xb': 3, 'ARPP_c_Xb': 3, 'perc_ARPP': 1})\n",
    "ARPPU_XBox"
   ]
  },
  {
   "cell_type": "markdown",
   "id": "3b6ae2f2",
   "metadata": {},
   "source": [
    "3.3. Рассмотрим траты внутриигровой валюты для двух групп на платформе XBox."
   ]
  },
  {
   "cell_type": "code",
   "execution_count": 133,
   "id": "032a77bd",
   "metadata": {},
   "outputs": [
    {
     "data": {
      "text/html": [
       "<div>\n",
       "<style scoped>\n",
       "    .dataframe tbody tr th:only-of-type {\n",
       "        vertical-align: middle;\n",
       "    }\n",
       "\n",
       "    .dataframe tbody tr th {\n",
       "        vertical-align: top;\n",
       "    }\n",
       "\n",
       "    .dataframe thead th {\n",
       "        text-align: right;\n",
       "    }\n",
       "</style>\n",
       "<table border=\"1\" class=\"dataframe\">\n",
       "  <thead>\n",
       "    <tr style=\"text-align: right;\">\n",
       "      <th></th>\n",
       "      <th>cash_t</th>\n",
       "    </tr>\n",
       "    <tr>\n",
       "      <th>date</th>\n",
       "      <th></th>\n",
       "    </tr>\n",
       "  </thead>\n",
       "  <tbody>\n",
       "    <tr>\n",
       "      <th>10.07.2021</th>\n",
       "      <td>798.724129</td>\n",
       "    </tr>\n",
       "    <tr>\n",
       "      <th>11.07.2021</th>\n",
       "      <td>800.720819</td>\n",
       "    </tr>\n",
       "    <tr>\n",
       "      <th>12.07.2021</th>\n",
       "      <td>795.484054</td>\n",
       "    </tr>\n",
       "    <tr>\n",
       "      <th>13.07.2021</th>\n",
       "      <td>777.966991</td>\n",
       "    </tr>\n",
       "    <tr>\n",
       "      <th>14.07.2021</th>\n",
       "      <td>737.204911</td>\n",
       "    </tr>\n",
       "    <tr>\n",
       "      <th>15.07.2021</th>\n",
       "      <td>651.932272</td>\n",
       "    </tr>\n",
       "    <tr>\n",
       "      <th>16.07.2021</th>\n",
       "      <td>537.520894</td>\n",
       "    </tr>\n",
       "    <tr>\n",
       "      <th>17.07.2021</th>\n",
       "      <td>1076.714999</td>\n",
       "    </tr>\n",
       "  </tbody>\n",
       "</table>\n",
       "</div>"
      ],
      "text/plain": [
       "                 cash_t\n",
       "date                   \n",
       "10.07.2021   798.724129\n",
       "11.07.2021   800.720819\n",
       "12.07.2021   795.484054\n",
       "13.07.2021   777.966991\n",
       "14.07.2021   737.204911\n",
       "15.07.2021   651.932272\n",
       "16.07.2021   537.520894\n",
       "17.07.2021  1076.714999"
      ]
     },
     "execution_count": 133,
     "metadata": {},
     "output_type": "execute_result"
    }
   ],
   "source": [
    "XBox_test_с = ab_cash[(ab_cash['platform'] == 'XBox') \n",
    "                      & (ab_money['group'] == 'test')]\n",
    "cash_XBox_test = XBox_test_с.groupby('date').agg('mean')[['cash']]\n",
    "cash_XBox_test.rename(columns={'cash': 'cash_t'}, inplace=True)\n",
    "cash_XBox_test"
   ]
  },
  {
   "cell_type": "code",
   "execution_count": 134,
   "id": "5393b8bf",
   "metadata": {},
   "outputs": [
    {
     "data": {
      "text/html": [
       "<div>\n",
       "<style scoped>\n",
       "    .dataframe tbody tr th:only-of-type {\n",
       "        vertical-align: middle;\n",
       "    }\n",
       "\n",
       "    .dataframe tbody tr th {\n",
       "        vertical-align: top;\n",
       "    }\n",
       "\n",
       "    .dataframe thead th {\n",
       "        text-align: right;\n",
       "    }\n",
       "</style>\n",
       "<table border=\"1\" class=\"dataframe\">\n",
       "  <thead>\n",
       "    <tr style=\"text-align: right;\">\n",
       "      <th></th>\n",
       "      <th>cash_c</th>\n",
       "    </tr>\n",
       "    <tr>\n",
       "      <th>date</th>\n",
       "      <th></th>\n",
       "    </tr>\n",
       "  </thead>\n",
       "  <tbody>\n",
       "    <tr>\n",
       "      <th>10.07.2021</th>\n",
       "      <td>801.320004</td>\n",
       "    </tr>\n",
       "    <tr>\n",
       "      <th>11.07.2021</th>\n",
       "      <td>800.393175</td>\n",
       "    </tr>\n",
       "    <tr>\n",
       "      <th>12.07.2021</th>\n",
       "      <td>795.143915</td>\n",
       "    </tr>\n",
       "    <tr>\n",
       "      <th>13.07.2021</th>\n",
       "      <td>778.911800</td>\n",
       "    </tr>\n",
       "    <tr>\n",
       "      <th>14.07.2021</th>\n",
       "      <td>732.770955</td>\n",
       "    </tr>\n",
       "    <tr>\n",
       "      <th>15.07.2021</th>\n",
       "      <td>648.520953</td>\n",
       "    </tr>\n",
       "    <tr>\n",
       "      <th>16.07.2021</th>\n",
       "      <td>530.738027</td>\n",
       "    </tr>\n",
       "    <tr>\n",
       "      <th>17.07.2021</th>\n",
       "      <td>1043.960511</td>\n",
       "    </tr>\n",
       "  </tbody>\n",
       "</table>\n",
       "</div>"
      ],
      "text/plain": [
       "                 cash_c\n",
       "date                   \n",
       "10.07.2021   801.320004\n",
       "11.07.2021   800.393175\n",
       "12.07.2021   795.143915\n",
       "13.07.2021   778.911800\n",
       "14.07.2021   732.770955\n",
       "15.07.2021   648.520953\n",
       "16.07.2021   530.738027\n",
       "17.07.2021  1043.960511"
      ]
     },
     "execution_count": 134,
     "metadata": {},
     "output_type": "execute_result"
    }
   ],
   "source": [
    "XBox_control_с = ab_cash[(ab_cash['platform'] == 'XBox') \n",
    "                         & (ab_money['group'] == 'control')]\n",
    "cash_XBox_control = XBox_control_с.groupby('date').agg('mean')[['cash']]\n",
    "cash_XBox_control.rename(columns={'cash': 'cash_c'}, inplace=True)\n",
    "cash_XBox_control"
   ]
  },
  {
   "cell_type": "markdown",
   "id": "a0fb08bd",
   "metadata": {},
   "source": [
    "Соединим в один df средние по тратам внутренней валюты для двух групп площадки XBox и рассчитаем эффект в %."
   ]
  },
  {
   "cell_type": "code",
   "execution_count": 135,
   "id": "842aaf33",
   "metadata": {},
   "outputs": [
    {
     "data": {
      "text/html": [
       "<div>\n",
       "<style scoped>\n",
       "    .dataframe tbody tr th:only-of-type {\n",
       "        vertical-align: middle;\n",
       "    }\n",
       "\n",
       "    .dataframe tbody tr th {\n",
       "        vertical-align: top;\n",
       "    }\n",
       "\n",
       "    .dataframe thead th {\n",
       "        text-align: right;\n",
       "    }\n",
       "</style>\n",
       "<table border=\"1\" class=\"dataframe\">\n",
       "  <thead>\n",
       "    <tr style=\"text-align: right;\">\n",
       "      <th></th>\n",
       "      <th>cash_t</th>\n",
       "      <th>cash_c</th>\n",
       "      <th>perc_cash</th>\n",
       "    </tr>\n",
       "    <tr>\n",
       "      <th>date</th>\n",
       "      <th></th>\n",
       "      <th></th>\n",
       "      <th></th>\n",
       "    </tr>\n",
       "  </thead>\n",
       "  <tbody>\n",
       "    <tr>\n",
       "      <th>10.07.2021</th>\n",
       "      <td>798.724</td>\n",
       "      <td>801.320</td>\n",
       "      <td>-0.3</td>\n",
       "    </tr>\n",
       "    <tr>\n",
       "      <th>11.07.2021</th>\n",
       "      <td>800.721</td>\n",
       "      <td>800.393</td>\n",
       "      <td>0.0</td>\n",
       "    </tr>\n",
       "    <tr>\n",
       "      <th>12.07.2021</th>\n",
       "      <td>795.484</td>\n",
       "      <td>795.144</td>\n",
       "      <td>0.0</td>\n",
       "    </tr>\n",
       "    <tr>\n",
       "      <th>13.07.2021</th>\n",
       "      <td>777.967</td>\n",
       "      <td>778.912</td>\n",
       "      <td>-0.1</td>\n",
       "    </tr>\n",
       "    <tr>\n",
       "      <th>14.07.2021</th>\n",
       "      <td>737.205</td>\n",
       "      <td>732.771</td>\n",
       "      <td>0.6</td>\n",
       "    </tr>\n",
       "    <tr>\n",
       "      <th>15.07.2021</th>\n",
       "      <td>651.932</td>\n",
       "      <td>648.521</td>\n",
       "      <td>0.5</td>\n",
       "    </tr>\n",
       "    <tr>\n",
       "      <th>16.07.2021</th>\n",
       "      <td>537.521</td>\n",
       "      <td>530.738</td>\n",
       "      <td>1.3</td>\n",
       "    </tr>\n",
       "    <tr>\n",
       "      <th>17.07.2021</th>\n",
       "      <td>1076.715</td>\n",
       "      <td>1043.961</td>\n",
       "      <td>3.1</td>\n",
       "    </tr>\n",
       "  </tbody>\n",
       "</table>\n",
       "</div>"
      ],
      "text/plain": [
       "              cash_t    cash_c  perc_cash\n",
       "date                                     \n",
       "10.07.2021   798.724   801.320       -0.3\n",
       "11.07.2021   800.721   800.393        0.0\n",
       "12.07.2021   795.484   795.144        0.0\n",
       "13.07.2021   777.967   778.912       -0.1\n",
       "14.07.2021   737.205   732.771        0.6\n",
       "15.07.2021   651.932   648.521        0.5\n",
       "16.07.2021   537.521   530.738        1.3\n",
       "17.07.2021  1076.715  1043.961        3.1"
      ]
     },
     "execution_count": 135,
     "metadata": {},
     "output_type": "execute_result"
    }
   ],
   "source": [
    "cash_XBox = pd.merge(cash_XBox_test, cash_XBox_control, left_on='date', right_on='date') \n",
    "cash_XBox['perc_cash'] = cash_XBox_test['cash_t'] / cash_XBox_control['cash_c'] * 100 - 100\n",
    "cash_XBox = cash_XBox.round({'cash_t': 3, 'cash_c': 3, 'perc_cash': 1})\n",
    "cash_XBox"
   ]
  },
  {
   "cell_type": "markdown",
   "id": "6b81d637",
   "metadata": {},
   "source": [
    "Соединим в один df полученные метрики и их сравнение по игровой платформе XBox."
   ]
  },
  {
   "cell_type": "code",
   "execution_count": 142,
   "id": "dd18c1ad",
   "metadata": {},
   "outputs": [
    {
     "data": {
      "text/html": [
       "<div>\n",
       "<style scoped>\n",
       "    .dataframe tbody tr th:only-of-type {\n",
       "        vertical-align: middle;\n",
       "    }\n",
       "\n",
       "    .dataframe tbody tr th {\n",
       "        vertical-align: top;\n",
       "    }\n",
       "\n",
       "    .dataframe thead th {\n",
       "        text-align: right;\n",
       "    }\n",
       "</style>\n",
       "<table border=\"1\" class=\"dataframe\">\n",
       "  <thead>\n",
       "    <tr style=\"text-align: right;\">\n",
       "      <th></th>\n",
       "      <th>AR_t_Xb</th>\n",
       "      <th>AR_c_Xb</th>\n",
       "      <th>perc_Xb</th>\n",
       "      <th>ARPP_t_Xb</th>\n",
       "      <th>ARPP_c_Xb</th>\n",
       "      <th>perc_ARPP</th>\n",
       "      <th>cash_t</th>\n",
       "      <th>cash_c</th>\n",
       "      <th>perc_cash</th>\n",
       "    </tr>\n",
       "    <tr>\n",
       "      <th>date</th>\n",
       "      <th></th>\n",
       "      <th></th>\n",
       "      <th></th>\n",
       "      <th></th>\n",
       "      <th></th>\n",
       "      <th></th>\n",
       "      <th></th>\n",
       "      <th></th>\n",
       "      <th></th>\n",
       "    </tr>\n",
       "  </thead>\n",
       "  <tbody>\n",
       "    <tr>\n",
       "      <th>10.07.2021</th>\n",
       "      <td>0.750</td>\n",
       "      <td>0.755</td>\n",
       "      <td>-0.7</td>\n",
       "      <td>1.219</td>\n",
       "      <td>1.221</td>\n",
       "      <td>-0.1</td>\n",
       "      <td>798.724</td>\n",
       "      <td>801.320</td>\n",
       "      <td>-0.3</td>\n",
       "    </tr>\n",
       "    <tr>\n",
       "      <th>11.07.2021</th>\n",
       "      <td>0.751</td>\n",
       "      <td>0.753</td>\n",
       "      <td>-0.3</td>\n",
       "      <td>1.218</td>\n",
       "      <td>1.219</td>\n",
       "      <td>-0.1</td>\n",
       "      <td>800.721</td>\n",
       "      <td>800.393</td>\n",
       "      <td>0.0</td>\n",
       "    </tr>\n",
       "    <tr>\n",
       "      <th>12.07.2021</th>\n",
       "      <td>0.749</td>\n",
       "      <td>0.748</td>\n",
       "      <td>0.1</td>\n",
       "      <td>1.220</td>\n",
       "      <td>1.219</td>\n",
       "      <td>0.1</td>\n",
       "      <td>795.484</td>\n",
       "      <td>795.144</td>\n",
       "      <td>0.0</td>\n",
       "    </tr>\n",
       "    <tr>\n",
       "      <th>13.07.2021</th>\n",
       "      <td>0.734</td>\n",
       "      <td>0.736</td>\n",
       "      <td>-0.4</td>\n",
       "      <td>1.215</td>\n",
       "      <td>1.215</td>\n",
       "      <td>-0.0</td>\n",
       "      <td>777.967</td>\n",
       "      <td>778.912</td>\n",
       "      <td>-0.1</td>\n",
       "    </tr>\n",
       "    <tr>\n",
       "      <th>14.07.2021</th>\n",
       "      <td>0.704</td>\n",
       "      <td>0.702</td>\n",
       "      <td>0.2</td>\n",
       "      <td>1.205</td>\n",
       "      <td>1.204</td>\n",
       "      <td>0.1</td>\n",
       "      <td>737.205</td>\n",
       "      <td>732.771</td>\n",
       "      <td>0.6</td>\n",
       "    </tr>\n",
       "    <tr>\n",
       "      <th>15.07.2021</th>\n",
       "      <td>0.649</td>\n",
       "      <td>0.648</td>\n",
       "      <td>0.1</td>\n",
       "      <td>1.186</td>\n",
       "      <td>1.187</td>\n",
       "      <td>-0.0</td>\n",
       "      <td>651.932</td>\n",
       "      <td>648.521</td>\n",
       "      <td>0.5</td>\n",
       "    </tr>\n",
       "    <tr>\n",
       "      <th>16.07.2021</th>\n",
       "      <td>0.581</td>\n",
       "      <td>0.576</td>\n",
       "      <td>0.8</td>\n",
       "      <td>1.157</td>\n",
       "      <td>1.154</td>\n",
       "      <td>0.2</td>\n",
       "      <td>537.521</td>\n",
       "      <td>530.738</td>\n",
       "      <td>1.3</td>\n",
       "    </tr>\n",
       "    <tr>\n",
       "      <th>17.07.2021</th>\n",
       "      <td>1.216</td>\n",
       "      <td>1.184</td>\n",
       "      <td>2.8</td>\n",
       "      <td>1.964</td>\n",
       "      <td>1.935</td>\n",
       "      <td>1.5</td>\n",
       "      <td>1076.715</td>\n",
       "      <td>1043.961</td>\n",
       "      <td>3.1</td>\n",
       "    </tr>\n",
       "  </tbody>\n",
       "</table>\n",
       "</div>"
      ],
      "text/plain": [
       "            AR_t_Xb  AR_c_Xb  perc_Xb  ARPP_t_Xb  ARPP_c_Xb  perc_ARPP  \\\n",
       "date                                                                     \n",
       "10.07.2021    0.750    0.755     -0.7      1.219      1.221       -0.1   \n",
       "11.07.2021    0.751    0.753     -0.3      1.218      1.219       -0.1   \n",
       "12.07.2021    0.749    0.748      0.1      1.220      1.219        0.1   \n",
       "13.07.2021    0.734    0.736     -0.4      1.215      1.215       -0.0   \n",
       "14.07.2021    0.704    0.702      0.2      1.205      1.204        0.1   \n",
       "15.07.2021    0.649    0.648      0.1      1.186      1.187       -0.0   \n",
       "16.07.2021    0.581    0.576      0.8      1.157      1.154        0.2   \n",
       "17.07.2021    1.216    1.184      2.8      1.964      1.935        1.5   \n",
       "\n",
       "              cash_t    cash_c  perc_cash  \n",
       "date                                       \n",
       "10.07.2021   798.724   801.320       -0.3  \n",
       "11.07.2021   800.721   800.393        0.0  \n",
       "12.07.2021   795.484   795.144        0.0  \n",
       "13.07.2021   777.967   778.912       -0.1  \n",
       "14.07.2021   737.205   732.771        0.6  \n",
       "15.07.2021   651.932   648.521        0.5  \n",
       "16.07.2021   537.521   530.738        1.3  \n",
       "17.07.2021  1076.715  1043.961        3.1  "
      ]
     },
     "execution_count": 142,
     "metadata": {},
     "output_type": "execute_result"
    }
   ],
   "source": [
    "XBox_metrics = pd.merge(ARPU_XBox, ARPPU_XBox, left_on='date', right_on='date') \n",
    "XBox_metrics = pd.merge(XBox_metrics, cash_XBox, left_on='date', right_on='date') \n",
    "XBox_metrics"
   ]
  },
  {
   "cell_type": "markdown",
   "id": "7deb75fe",
   "metadata": {},
   "source": [
    "Результаты сравнения метрик ARPU, ARPPU и трат внутриигровой валюты показывают, что эффекта акция для платформы XBox не принесла."
   ]
  },
  {
   "cell_type": "markdown",
   "id": "85e46bf7",
   "metadata": {},
   "source": [
    "Создадим сводную таблицу с ARPU по группам и платформам и сохраним ее в эксель."
   ]
  },
  {
   "cell_type": "code",
   "execution_count": 137,
   "id": "18112453",
   "metadata": {},
   "outputs": [
    {
     "data": {
      "text/html": [
       "<div>\n",
       "<style scoped>\n",
       "    .dataframe tbody tr th:only-of-type {\n",
       "        vertical-align: middle;\n",
       "    }\n",
       "\n",
       "    .dataframe tbody tr th {\n",
       "        vertical-align: top;\n",
       "    }\n",
       "\n",
       "    .dataframe thead th {\n",
       "        text-align: right;\n",
       "    }\n",
       "</style>\n",
       "<table border=\"1\" class=\"dataframe\">\n",
       "  <thead>\n",
       "    <tr style=\"text-align: right;\">\n",
       "      <th></th>\n",
       "      <th>AR_t_PC</th>\n",
       "      <th>AR_c_PC</th>\n",
       "      <th>perc_PC</th>\n",
       "      <th>AR_t_PS4</th>\n",
       "      <th>AR_c_PS4</th>\n",
       "      <th>perc_PS4</th>\n",
       "      <th>AR_t_Xb</th>\n",
       "      <th>AR_c_Xb</th>\n",
       "      <th>perc_Xb</th>\n",
       "    </tr>\n",
       "    <tr>\n",
       "      <th>date</th>\n",
       "      <th></th>\n",
       "      <th></th>\n",
       "      <th></th>\n",
       "      <th></th>\n",
       "      <th></th>\n",
       "      <th></th>\n",
       "      <th></th>\n",
       "      <th></th>\n",
       "      <th></th>\n",
       "    </tr>\n",
       "  </thead>\n",
       "  <tbody>\n",
       "    <tr>\n",
       "      <th>10.07.2021</th>\n",
       "      <td>0.783</td>\n",
       "      <td>0.717</td>\n",
       "      <td>9.3</td>\n",
       "      <td>0.750</td>\n",
       "      <td>0.717</td>\n",
       "      <td>4.6</td>\n",
       "      <td>0.750</td>\n",
       "      <td>0.755</td>\n",
       "      <td>-0.7</td>\n",
       "    </tr>\n",
       "    <tr>\n",
       "      <th>11.07.2021</th>\n",
       "      <td>0.782</td>\n",
       "      <td>0.713</td>\n",
       "      <td>9.7</td>\n",
       "      <td>0.753</td>\n",
       "      <td>0.714</td>\n",
       "      <td>5.4</td>\n",
       "      <td>0.751</td>\n",
       "      <td>0.753</td>\n",
       "      <td>-0.3</td>\n",
       "    </tr>\n",
       "    <tr>\n",
       "      <th>12.07.2021</th>\n",
       "      <td>0.779</td>\n",
       "      <td>0.712</td>\n",
       "      <td>9.4</td>\n",
       "      <td>0.747</td>\n",
       "      <td>0.710</td>\n",
       "      <td>5.2</td>\n",
       "      <td>0.749</td>\n",
       "      <td>0.748</td>\n",
       "      <td>0.1</td>\n",
       "    </tr>\n",
       "    <tr>\n",
       "      <th>13.07.2021</th>\n",
       "      <td>0.762</td>\n",
       "      <td>0.697</td>\n",
       "      <td>9.3</td>\n",
       "      <td>0.735</td>\n",
       "      <td>0.693</td>\n",
       "      <td>6.0</td>\n",
       "      <td>0.734</td>\n",
       "      <td>0.736</td>\n",
       "      <td>-0.4</td>\n",
       "    </tr>\n",
       "    <tr>\n",
       "      <th>14.07.2021</th>\n",
       "      <td>0.724</td>\n",
       "      <td>0.660</td>\n",
       "      <td>9.7</td>\n",
       "      <td>0.703</td>\n",
       "      <td>0.663</td>\n",
       "      <td>6.1</td>\n",
       "      <td>0.704</td>\n",
       "      <td>0.702</td>\n",
       "      <td>0.2</td>\n",
       "    </tr>\n",
       "    <tr>\n",
       "      <th>15.07.2021</th>\n",
       "      <td>0.670</td>\n",
       "      <td>0.605</td>\n",
       "      <td>10.7</td>\n",
       "      <td>0.648</td>\n",
       "      <td>0.611</td>\n",
       "      <td>6.1</td>\n",
       "      <td>0.649</td>\n",
       "      <td>0.648</td>\n",
       "      <td>0.1</td>\n",
       "    </tr>\n",
       "    <tr>\n",
       "      <th>16.07.2021</th>\n",
       "      <td>0.592</td>\n",
       "      <td>0.539</td>\n",
       "      <td>9.7</td>\n",
       "      <td>0.578</td>\n",
       "      <td>0.546</td>\n",
       "      <td>5.8</td>\n",
       "      <td>0.581</td>\n",
       "      <td>0.576</td>\n",
       "      <td>0.8</td>\n",
       "    </tr>\n",
       "    <tr>\n",
       "      <th>17.07.2021</th>\n",
       "      <td>1.176</td>\n",
       "      <td>1.003</td>\n",
       "      <td>17.3</td>\n",
       "      <td>1.172</td>\n",
       "      <td>1.085</td>\n",
       "      <td>8.0</td>\n",
       "      <td>1.216</td>\n",
       "      <td>1.184</td>\n",
       "      <td>2.8</td>\n",
       "    </tr>\n",
       "  </tbody>\n",
       "</table>\n",
       "</div>"
      ],
      "text/plain": [
       "            AR_t_PC  AR_c_PC  perc_PC  AR_t_PS4  AR_c_PS4  perc_PS4  AR_t_Xb  \\\n",
       "date                                                                           \n",
       "10.07.2021    0.783    0.717      9.3     0.750     0.717       4.6    0.750   \n",
       "11.07.2021    0.782    0.713      9.7     0.753     0.714       5.4    0.751   \n",
       "12.07.2021    0.779    0.712      9.4     0.747     0.710       5.2    0.749   \n",
       "13.07.2021    0.762    0.697      9.3     0.735     0.693       6.0    0.734   \n",
       "14.07.2021    0.724    0.660      9.7     0.703     0.663       6.1    0.704   \n",
       "15.07.2021    0.670    0.605     10.7     0.648     0.611       6.1    0.649   \n",
       "16.07.2021    0.592    0.539      9.7     0.578     0.546       5.8    0.581   \n",
       "17.07.2021    1.176    1.003     17.3     1.172     1.085       8.0    1.216   \n",
       "\n",
       "            AR_c_Xb  perc_Xb  \n",
       "date                          \n",
       "10.07.2021    0.755     -0.7  \n",
       "11.07.2021    0.753     -0.3  \n",
       "12.07.2021    0.748      0.1  \n",
       "13.07.2021    0.736     -0.4  \n",
       "14.07.2021    0.702      0.2  \n",
       "15.07.2021    0.648      0.1  \n",
       "16.07.2021    0.576      0.8  \n",
       "17.07.2021    1.184      2.8  "
      ]
     },
     "execution_count": 137,
     "metadata": {},
     "output_type": "execute_result"
    }
   ],
   "source": [
    "metrics = pd.merge(ARPU_PC, ARPU_PS4, left_on='date', right_on='date')\n",
    "metrics = pd.merge(metrics, ARPU_XBox, left_on='date', right_on='date')\n",
    "metrics"
   ]
  },
  {
   "cell_type": "code",
   "execution_count": 139,
   "id": "27495330",
   "metadata": {},
   "outputs": [],
   "source": [
    "metrics.to_excel('metrics.xlsx')"
   ]
  },
  {
   "cell_type": "markdown",
   "id": "030d4c4c",
   "metadata": {},
   "source": [
    " "
   ]
  },
  {
   "cell_type": "markdown",
   "id": "e71124fd",
   "metadata": {},
   "source": [
    "Для построения графиков сравнения метрик по дням в Power BI сохраним в excel датафреймы с метриками по каждой из игровых платформ."
   ]
  },
  {
   "cell_type": "code",
   "execution_count": 166,
   "id": "a494c8ed",
   "metadata": {},
   "outputs": [],
   "source": [
    "PC_metrics.to_excel('PC.xlsx')\n",
    "PS4_metrics.to_excel('PS4.xlsx')\n",
    "XBox_metrics.to_excel('XBox.xlsx')"
   ]
  },
  {
   "cell_type": "markdown",
   "id": "b08bf5b7",
   "metadata": {},
   "source": [
    " "
   ]
  },
  {
   "cell_type": "markdown",
   "id": "c45b4d7d",
   "metadata": {},
   "source": [
    " "
   ]
  },
  {
   "cell_type": "markdown",
   "id": "5229b004",
   "metadata": {},
   "source": [
    " "
   ]
  },
  {
   "cell_type": "markdown",
   "id": "3bb7445c",
   "metadata": {},
   "source": [
    " "
   ]
  },
  {
   "cell_type": "markdown",
   "id": "c4f20dee",
   "metadata": {},
   "source": [
    " "
   ]
  },
  {
   "cell_type": "markdown",
   "id": "8cca4fc0",
   "metadata": {},
   "source": [
    "Построим доверительные интервалы от средних значений с точностью 95%."
   ]
  },
  {
   "cell_type": "markdown",
   "id": "c22f6524",
   "metadata": {},
   "source": [
    "Начнем с построения доверительных интервалов для метрик игровой платформы PC."
   ]
  },
  {
   "cell_type": "code",
   "execution_count": 143,
   "id": "4e04bdf1",
   "metadata": {},
   "outputs": [
    {
     "data": {
      "text/html": [
       "<div>\n",
       "<style scoped>\n",
       "    .dataframe tbody tr th:only-of-type {\n",
       "        vertical-align: middle;\n",
       "    }\n",
       "\n",
       "    .dataframe tbody tr th {\n",
       "        vertical-align: top;\n",
       "    }\n",
       "\n",
       "    .dataframe thead th {\n",
       "        text-align: right;\n",
       "    }\n",
       "</style>\n",
       "<table border=\"1\" class=\"dataframe\">\n",
       "  <thead>\n",
       "    <tr style=\"text-align: right;\">\n",
       "      <th></th>\n",
       "      <th>AR_t_PC</th>\n",
       "      <th>AR_c_PC</th>\n",
       "      <th>perc_PC</th>\n",
       "      <th>ARPP_t_PC</th>\n",
       "      <th>ARPP_c_PC</th>\n",
       "      <th>perc_ARPP</th>\n",
       "      <th>cash_t</th>\n",
       "      <th>cash_c</th>\n",
       "      <th>perc_cash</th>\n",
       "    </tr>\n",
       "    <tr>\n",
       "      <th>date</th>\n",
       "      <th></th>\n",
       "      <th></th>\n",
       "      <th></th>\n",
       "      <th></th>\n",
       "      <th></th>\n",
       "      <th></th>\n",
       "      <th></th>\n",
       "      <th></th>\n",
       "      <th></th>\n",
       "    </tr>\n",
       "  </thead>\n",
       "  <tbody>\n",
       "    <tr>\n",
       "      <th>10.07.2021</th>\n",
       "      <td>0.783</td>\n",
       "      <td>0.717</td>\n",
       "      <td>9.3</td>\n",
       "      <td>1.229</td>\n",
       "      <td>1.208</td>\n",
       "      <td>1.7</td>\n",
       "      <td>848.750</td>\n",
       "      <td>749.533</td>\n",
       "      <td>13.2</td>\n",
       "    </tr>\n",
       "    <tr>\n",
       "      <th>11.07.2021</th>\n",
       "      <td>0.782</td>\n",
       "      <td>0.713</td>\n",
       "      <td>9.7</td>\n",
       "      <td>1.229</td>\n",
       "      <td>1.207</td>\n",
       "      <td>1.8</td>\n",
       "      <td>848.167</td>\n",
       "      <td>748.794</td>\n",
       "      <td>13.3</td>\n",
       "    </tr>\n",
       "    <tr>\n",
       "      <th>12.07.2021</th>\n",
       "      <td>0.779</td>\n",
       "      <td>0.712</td>\n",
       "      <td>9.4</td>\n",
       "      <td>1.228</td>\n",
       "      <td>1.208</td>\n",
       "      <td>1.6</td>\n",
       "      <td>843.568</td>\n",
       "      <td>745.380</td>\n",
       "      <td>13.2</td>\n",
       "    </tr>\n",
       "    <tr>\n",
       "      <th>13.07.2021</th>\n",
       "      <td>0.762</td>\n",
       "      <td>0.697</td>\n",
       "      <td>9.3</td>\n",
       "      <td>1.224</td>\n",
       "      <td>1.202</td>\n",
       "      <td>1.8</td>\n",
       "      <td>822.536</td>\n",
       "      <td>726.588</td>\n",
       "      <td>13.2</td>\n",
       "    </tr>\n",
       "    <tr>\n",
       "      <th>14.07.2021</th>\n",
       "      <td>0.724</td>\n",
       "      <td>0.660</td>\n",
       "      <td>9.7</td>\n",
       "      <td>1.211</td>\n",
       "      <td>1.188</td>\n",
       "      <td>1.9</td>\n",
       "      <td>768.224</td>\n",
       "      <td>679.558</td>\n",
       "      <td>13.0</td>\n",
       "    </tr>\n",
       "    <tr>\n",
       "      <th>15.07.2021</th>\n",
       "      <td>0.670</td>\n",
       "      <td>0.605</td>\n",
       "      <td>10.7</td>\n",
       "      <td>1.193</td>\n",
       "      <td>1.169</td>\n",
       "      <td>2.1</td>\n",
       "      <td>677.087</td>\n",
       "      <td>593.841</td>\n",
       "      <td>14.0</td>\n",
       "    </tr>\n",
       "    <tr>\n",
       "      <th>16.07.2021</th>\n",
       "      <td>0.592</td>\n",
       "      <td>0.539</td>\n",
       "      <td>9.7</td>\n",
       "      <td>1.163</td>\n",
       "      <td>1.138</td>\n",
       "      <td>2.2</td>\n",
       "      <td>546.502</td>\n",
       "      <td>478.081</td>\n",
       "      <td>14.3</td>\n",
       "    </tr>\n",
       "    <tr>\n",
       "      <th>17.07.2021</th>\n",
       "      <td>1.176</td>\n",
       "      <td>1.003</td>\n",
       "      <td>17.3</td>\n",
       "      <td>1.953</td>\n",
       "      <td>1.737</td>\n",
       "      <td>12.4</td>\n",
       "      <td>1026.585</td>\n",
       "      <td>865.326</td>\n",
       "      <td>18.6</td>\n",
       "    </tr>\n",
       "  </tbody>\n",
       "</table>\n",
       "</div>"
      ],
      "text/plain": [
       "            AR_t_PC  AR_c_PC  perc_PC  ARPP_t_PC  ARPP_c_PC  perc_ARPP  \\\n",
       "date                                                                     \n",
       "10.07.2021    0.783    0.717      9.3      1.229      1.208        1.7   \n",
       "11.07.2021    0.782    0.713      9.7      1.229      1.207        1.8   \n",
       "12.07.2021    0.779    0.712      9.4      1.228      1.208        1.6   \n",
       "13.07.2021    0.762    0.697      9.3      1.224      1.202        1.8   \n",
       "14.07.2021    0.724    0.660      9.7      1.211      1.188        1.9   \n",
       "15.07.2021    0.670    0.605     10.7      1.193      1.169        2.1   \n",
       "16.07.2021    0.592    0.539      9.7      1.163      1.138        2.2   \n",
       "17.07.2021    1.176    1.003     17.3      1.953      1.737       12.4   \n",
       "\n",
       "              cash_t   cash_c  perc_cash  \n",
       "date                                      \n",
       "10.07.2021   848.750  749.533       13.2  \n",
       "11.07.2021   848.167  748.794       13.3  \n",
       "12.07.2021   843.568  745.380       13.2  \n",
       "13.07.2021   822.536  726.588       13.2  \n",
       "14.07.2021   768.224  679.558       13.0  \n",
       "15.07.2021   677.087  593.841       14.0  \n",
       "16.07.2021   546.502  478.081       14.3  \n",
       "17.07.2021  1026.585  865.326       18.6  "
      ]
     },
     "execution_count": 143,
     "metadata": {},
     "output_type": "execute_result"
    }
   ],
   "source": [
    "PC_metrics"
   ]
  },
  {
   "cell_type": "markdown",
   "id": "5fdc7fe2",
   "metadata": {},
   "source": [
    "Доверительный интервал для метрики ARPU на игровой платформе PC."
   ]
  },
  {
   "cell_type": "code",
   "execution_count": 144,
   "id": "e6947764",
   "metadata": {},
   "outputs": [
    {
     "name": "stdout",
     "output_type": "stream",
     "text": [
      "(0.44594045103257385, 1.121059548967426)\n"
     ]
    }
   ],
   "source": [
    "def my_norm_confidence(df=PC_metrics, column='AR_t_PC', alpha = 0.95):\n",
    "    interval = stats.norm.interval(alpha, loc=df[column].mean(), scale = df[column].std())\n",
    "    return interval\n",
    "confidence_t = my_norm_confidence()\n",
    "print(confidence_t)"
   ]
  },
  {
   "cell_type": "code",
   "execution_count": 145,
   "id": "d86ec4e4",
   "metadata": {},
   "outputs": [
    {
     "name": "stdout",
     "output_type": "stream",
     "text": [
      "(0.4399892288403603, 0.9715107711596397)\n"
     ]
    }
   ],
   "source": [
    "confidence_c = my_norm_confidence(df=PC_metrics, column='AR_c_PC', alpha = 0.95)\n",
    "print(confidence_c)"
   ]
  },
  {
   "cell_type": "code",
   "execution_count": 146,
   "id": "09a06a72",
   "metadata": {},
   "outputs": [
    {
     "data": {
      "text/plain": [
       "Text(0.5, 1.0, 'Доверительный интервал')"
      ]
     },
     "execution_count": 146,
     "metadata": {},
     "output_type": "execute_result"
    },
    {
     "data": {
      "image/png": "[encoded data removed]",
      "text/plain": [
       "<Figure size 432x288 with 1 Axes>"
      ]
     },
     "metadata": {
      "needs_background": "light"
     },
     "output_type": "display_data"
    }
   ],
   "source": [
    "plt.axhline(y = confidence_t[1], color = 'g', linestyle = '-')\n",
    "plt.axhline(y = confidence_t[0], color = 'g', linestyle = '-')\n",
    "plt.axhline(y = confidence_c[1], color = 'r', linestyle = '-')\n",
    "plt.axhline(y = confidence_c[0], color = 'r', linestyle = '-')\n",
    "plt.title('Доверительный интервал')"
   ]
  },
  {
   "cell_type": "markdown",
   "id": "7fd4a69f",
   "metadata": {},
   "source": [
    "Доверительный интервал для метрики ARPPU на игровой платформе PC."
   ]
  },
  {
   "cell_type": "code",
   "execution_count": 147,
   "id": "bd6f5359",
   "metadata": {},
   "outputs": [
    {
     "name": "stdout",
     "output_type": "stream",
     "text": [
      "(0.7875908572344139, 1.819909142765586)\n"
     ]
    }
   ],
   "source": [
    "confidence_t = my_norm_confidence(df=PC_metrics, column='ARPP_t_PC', alpha = 0.95)\n",
    "print(confidence_t)"
   ]
  },
  {
   "cell_type": "code",
   "execution_count": 148,
   "id": "0b3868f4",
   "metadata": {},
   "outputs": [
    {
     "name": "stdout",
     "output_type": "stream",
     "text": [
      "(0.8740586651515616, 1.6401913348484385)\n"
     ]
    }
   ],
   "source": [
    "confidence_c = my_norm_confidence(df=PC_metrics, column='ARPP_c_PC', alpha = 0.95)\n",
    "print(confidence_c)"
   ]
  },
  {
   "cell_type": "code",
   "execution_count": 149,
   "id": "039ad441",
   "metadata": {},
   "outputs": [
    {
     "data": {
      "text/plain": [
       "Text(0.5, 1.0, 'Доверительный интервал')"
      ]
     },
     "execution_count": 149,
     "metadata": {},
     "output_type": "execute_result"
    },
    {
     "data": {
      "image/png": "[encoded data removed]",
      "text/plain": [
       "<Figure size 432x288 with 1 Axes>"
      ]
     },
     "metadata": {
      "needs_background": "light"
     },
     "output_type": "display_data"
    }
   ],
   "source": [
    "plt.axhline(y = confidence_t[1], color = 'g', linestyle = '-')\n",
    "plt.axhline(y = confidence_t[0], color = 'g', linestyle = '-')\n",
    "plt.axhline(y = confidence_c[1], color = 'r', linestyle = '-')\n",
    "plt.axhline(y = confidence_c[0], color = 'r', linestyle = '-')\n",
    "plt.title('Доверительный интервал')"
   ]
  },
  {
   "cell_type": "markdown",
   "id": "050ce575",
   "metadata": {},
   "source": [
    "Доверительный интервал для метрики траты внутренней валюты на игровой платформе PC."
   ]
  },
  {
   "cell_type": "code",
   "execution_count": 150,
   "id": "b3e3794c",
   "metadata": {},
   "outputs": [
    {
     "name": "stdout",
     "output_type": "stream",
     "text": [
      "(521.7081366314266, 1073.6466133685735)\n"
     ]
    }
   ],
   "source": [
    "confidence_t = my_norm_confidence(df=PC_metrics, column='cash_t', alpha = 0.95)\n",
    "print(confidence_t)"
   ]
  },
  {
   "cell_type": "code",
   "execution_count": 151,
   "id": "9db69f83",
   "metadata": {},
   "outputs": [
    {
     "name": "stdout",
     "output_type": "stream",
     "text": [
      "(469.04171366919445, 927.7335363308057)\n"
     ]
    }
   ],
   "source": [
    "confidence_c = my_norm_confidence(df=PC_metrics, column='cash_c', alpha = 0.95)\n",
    "print(confidence_c)"
   ]
  },
  {
   "cell_type": "code",
   "execution_count": 152,
   "id": "6f330b7b",
   "metadata": {},
   "outputs": [
    {
     "data": {
      "text/plain": [
       "Text(0.5, 1.0, 'Доверительный интервал')"
      ]
     },
     "execution_count": 152,
     "metadata": {},
     "output_type": "execute_result"
    },
    {
     "data": {
      "image/png": "[encoded data removed]",
      "text/plain": [
       "<Figure size 432x288 with 1 Axes>"
      ]
     },
     "metadata": {
      "needs_background": "light"
     },
     "output_type": "display_data"
    }
   ],
   "source": [
    "plt.axhline(y = confidence_t[1], color = 'g', linestyle = '-')\n",
    "plt.axhline(y = confidence_t[0], color = 'g', linestyle = '-')\n",
    "plt.axhline(y = confidence_c[1], color = 'r', linestyle = '-')\n",
    "plt.axhline(y = confidence_c[0], color = 'r', linestyle = '-')\n",
    "plt.title('Доверительный интервал')"
   ]
  },
  {
   "cell_type": "markdown",
   "id": "1484e155",
   "metadata": {},
   "source": [
    "Построение доверительных интервалов для метрик игровой платформы PS4."
   ]
  },
  {
   "cell_type": "code",
   "execution_count": 153,
   "id": "5e0bb816",
   "metadata": {},
   "outputs": [
    {
     "data": {
      "text/html": [
       "<div>\n",
       "<style scoped>\n",
       "    .dataframe tbody tr th:only-of-type {\n",
       "        vertical-align: middle;\n",
       "    }\n",
       "\n",
       "    .dataframe tbody tr th {\n",
       "        vertical-align: top;\n",
       "    }\n",
       "\n",
       "    .dataframe thead th {\n",
       "        text-align: right;\n",
       "    }\n",
       "</style>\n",
       "<table border=\"1\" class=\"dataframe\">\n",
       "  <thead>\n",
       "    <tr style=\"text-align: right;\">\n",
       "      <th></th>\n",
       "      <th>AR_t_PS4</th>\n",
       "      <th>AR_c_PS4</th>\n",
       "      <th>perc_PS4</th>\n",
       "      <th>ARPP_t_PS4</th>\n",
       "      <th>ARPP_c_PS4</th>\n",
       "      <th>perc_ARPP</th>\n",
       "      <th>cash_t</th>\n",
       "      <th>cash_c</th>\n",
       "      <th>perc_cash</th>\n",
       "    </tr>\n",
       "    <tr>\n",
       "      <th>date</th>\n",
       "      <th></th>\n",
       "      <th></th>\n",
       "      <th></th>\n",
       "      <th></th>\n",
       "      <th></th>\n",
       "      <th></th>\n",
       "      <th></th>\n",
       "      <th></th>\n",
       "      <th></th>\n",
       "    </tr>\n",
       "  </thead>\n",
       "  <tbody>\n",
       "    <tr>\n",
       "      <th>10.07.2021</th>\n",
       "      <td>0.750</td>\n",
       "      <td>0.717</td>\n",
       "      <td>4.6</td>\n",
       "      <td>1.218</td>\n",
       "      <td>1.208</td>\n",
       "      <td>0.8</td>\n",
       "      <td>799.965</td>\n",
       "      <td>750.972</td>\n",
       "      <td>6.5</td>\n",
       "    </tr>\n",
       "    <tr>\n",
       "      <th>11.07.2021</th>\n",
       "      <td>0.753</td>\n",
       "      <td>0.714</td>\n",
       "      <td>5.4</td>\n",
       "      <td>1.222</td>\n",
       "      <td>1.207</td>\n",
       "      <td>1.2</td>\n",
       "      <td>799.857</td>\n",
       "      <td>750.073</td>\n",
       "      <td>6.6</td>\n",
       "    </tr>\n",
       "    <tr>\n",
       "      <th>12.07.2021</th>\n",
       "      <td>0.747</td>\n",
       "      <td>0.710</td>\n",
       "      <td>5.2</td>\n",
       "      <td>1.216</td>\n",
       "      <td>1.207</td>\n",
       "      <td>0.7</td>\n",
       "      <td>794.961</td>\n",
       "      <td>744.970</td>\n",
       "      <td>6.7</td>\n",
       "    </tr>\n",
       "    <tr>\n",
       "      <th>13.07.2021</th>\n",
       "      <td>0.735</td>\n",
       "      <td>0.693</td>\n",
       "      <td>6.0</td>\n",
       "      <td>1.216</td>\n",
       "      <td>1.201</td>\n",
       "      <td>1.3</td>\n",
       "      <td>780.440</td>\n",
       "      <td>724.262</td>\n",
       "      <td>7.8</td>\n",
       "    </tr>\n",
       "    <tr>\n",
       "      <th>14.07.2021</th>\n",
       "      <td>0.703</td>\n",
       "      <td>0.663</td>\n",
       "      <td>6.1</td>\n",
       "      <td>1.204</td>\n",
       "      <td>1.190</td>\n",
       "      <td>1.2</td>\n",
       "      <td>734.040</td>\n",
       "      <td>679.014</td>\n",
       "      <td>8.1</td>\n",
       "    </tr>\n",
       "    <tr>\n",
       "      <th>15.07.2021</th>\n",
       "      <td>0.648</td>\n",
       "      <td>0.611</td>\n",
       "      <td>6.1</td>\n",
       "      <td>1.183</td>\n",
       "      <td>1.170</td>\n",
       "      <td>1.1</td>\n",
       "      <td>653.338</td>\n",
       "      <td>598.475</td>\n",
       "      <td>9.2</td>\n",
       "    </tr>\n",
       "    <tr>\n",
       "      <th>16.07.2021</th>\n",
       "      <td>0.578</td>\n",
       "      <td>0.546</td>\n",
       "      <td>5.8</td>\n",
       "      <td>1.156</td>\n",
       "      <td>1.142</td>\n",
       "      <td>1.3</td>\n",
       "      <td>532.290</td>\n",
       "      <td>487.906</td>\n",
       "      <td>9.1</td>\n",
       "    </tr>\n",
       "    <tr>\n",
       "      <th>17.07.2021</th>\n",
       "      <td>1.172</td>\n",
       "      <td>1.085</td>\n",
       "      <td>8.0</td>\n",
       "      <td>1.921</td>\n",
       "      <td>1.824</td>\n",
       "      <td>5.3</td>\n",
       "      <td>1035.495</td>\n",
       "      <td>946.264</td>\n",
       "      <td>9.4</td>\n",
       "    </tr>\n",
       "  </tbody>\n",
       "</table>\n",
       "</div>"
      ],
      "text/plain": [
       "            AR_t_PS4  AR_c_PS4  perc_PS4  ARPP_t_PS4  ARPP_c_PS4  perc_ARPP  \\\n",
       "date                                                                          \n",
       "10.07.2021     0.750     0.717       4.6       1.218       1.208        0.8   \n",
       "11.07.2021     0.753     0.714       5.4       1.222       1.207        1.2   \n",
       "12.07.2021     0.747     0.710       5.2       1.216       1.207        0.7   \n",
       "13.07.2021     0.735     0.693       6.0       1.216       1.201        1.3   \n",
       "14.07.2021     0.703     0.663       6.1       1.204       1.190        1.2   \n",
       "15.07.2021     0.648     0.611       6.1       1.183       1.170        1.1   \n",
       "16.07.2021     0.578     0.546       5.8       1.156       1.142        1.3   \n",
       "17.07.2021     1.172     1.085       8.0       1.921       1.824        5.3   \n",
       "\n",
       "              cash_t   cash_c  perc_cash  \n",
       "date                                      \n",
       "10.07.2021   799.965  750.972        6.5  \n",
       "11.07.2021   799.857  750.073        6.6  \n",
       "12.07.2021   794.961  744.970        6.7  \n",
       "13.07.2021   780.440  724.262        7.8  \n",
       "14.07.2021   734.040  679.014        8.1  \n",
       "15.07.2021   653.338  598.475        9.2  \n",
       "16.07.2021   532.290  487.906        9.1  \n",
       "17.07.2021  1035.495  946.264        9.4  "
      ]
     },
     "execution_count": 153,
     "metadata": {},
     "output_type": "execute_result"
    }
   ],
   "source": [
    "PS4_metrics"
   ]
  },
  {
   "cell_type": "markdown",
   "id": "cebe2ace",
   "metadata": {},
   "source": [
    "Доверительный интервал для метрики ARPU на игровой платформе PS4."
   ]
  },
  {
   "cell_type": "code",
   "execution_count": 154,
   "id": "17df6d1a",
   "metadata": {},
   "outputs": [
    {
     "name": "stdout",
     "output_type": "stream",
     "text": [
      "(0.4136019384850691, 1.1078980615149308)\n"
     ]
    }
   ],
   "source": [
    "confidence_t = my_norm_confidence(df=PS4_metrics, column='AR_t_PS4', alpha = 0.95)\n",
    "print(confidence_t)"
   ]
  },
  {
   "cell_type": "code",
   "execution_count": 155,
   "id": "608a7ba3",
   "metadata": {},
   "outputs": [
    {
     "name": "stdout",
     "output_type": "stream",
     "text": [
      "(0.4035622020293427, 1.0311877979706572)\n"
     ]
    }
   ],
   "source": [
    "confidence_c = my_norm_confidence(df=PS4_metrics, column='AR_c_PS4', alpha = 0.95)\n",
    "print(confidence_c)"
   ]
  },
  {
   "cell_type": "code",
   "execution_count": 156,
   "id": "6105e0cc",
   "metadata": {},
   "outputs": [
    {
     "data": {
      "text/plain": [
       "Text(0.5, 1.0, 'Доверительный интервал')"
      ]
     },
     "execution_count": 156,
     "metadata": {},
     "output_type": "execute_result"
    },
    {
     "data": {
      "image/png": "[encoded data removed]",
      "text/plain": [
       "<Figure size 432x288 with 1 Axes>"
      ]
     },
     "metadata": {
      "needs_background": "light"
     },
     "output_type": "display_data"
    }
   ],
   "source": [
    "plt.axhline(y = confidence_t[1], color = 'g', linestyle = '-')\n",
    "plt.axhline(y = confidence_t[0], color = 'g', linestyle = '-')\n",
    "plt.axhline(y = confidence_c[1], color = 'r', linestyle = '-')\n",
    "plt.axhline(y = confidence_c[0], color = 'r', linestyle = '-')\n",
    "plt.title('Доверительный интервал')"
   ]
  },
  {
   "cell_type": "markdown",
   "id": "44e47344",
   "metadata": {},
   "source": [
    "Доверительный интервал для метрики ARPPU на игровой платформе PS4."
   ]
  },
  {
   "cell_type": "code",
   "execution_count": 157,
   "id": "183fc4a3",
   "metadata": {},
   "outputs": [
    {
     "name": "stdout",
     "output_type": "stream",
     "text": [
      "(0.7919265239698545, 1.792073476030145)\n"
     ]
    }
   ],
   "source": [
    "confidence_t = my_norm_confidence(df=PS4_metrics, column='ARPP_t_PS4', alpha = 0.95)\n",
    "print(confidence_t)"
   ]
  },
  {
   "cell_type": "code",
   "execution_count": 158,
   "id": "e65aab4f",
   "metadata": {},
   "outputs": [
    {
     "name": "stdout",
     "output_type": "stream",
     "text": [
      "(0.8264817277137623, 1.7107682722862374)\n"
     ]
    }
   ],
   "source": [
    "confidence_c = my_norm_confidence(df=PS4_metrics, column='ARPP_c_PS4', alpha = 0.95)\n",
    "print(confidence_c)"
   ]
  },
  {
   "cell_type": "code",
   "execution_count": 159,
   "id": "0ce2318e",
   "metadata": {},
   "outputs": [
    {
     "data": {
      "text/plain": [
       "Text(0.5, 1.0, 'Доверительный интервал')"
      ]
     },
     "execution_count": 159,
     "metadata": {},
     "output_type": "execute_result"
    },
    {
     "data": {
      "image/png": "[encoded data removed]",
      "text/plain": [
       "<Figure size 432x288 with 1 Axes>"
      ]
     },
     "metadata": {
      "needs_background": "light"
     },
     "output_type": "display_data"
    }
   ],
   "source": [
    "plt.axhline(y = confidence_t[1], color = 'g', linestyle = '-')\n",
    "plt.axhline(y = confidence_t[0], color = 'g', linestyle = '-')\n",
    "plt.axhline(y = confidence_c[1], color = 'r', linestyle = '-')\n",
    "plt.axhline(y = confidence_c[0], color = 'r', linestyle = '-')\n",
    "plt.title('Доверительный интервал')"
   ]
  },
  {
   "cell_type": "markdown",
   "id": "ef3b0930",
   "metadata": {},
   "source": [
    "Доверительный интервал для метрики траты внутренней валюты на игровой платформе PS4."
   ]
  },
  {
   "cell_type": "code",
   "execution_count": 160,
   "id": "0e076c9a",
   "metadata": {},
   "outputs": [
    {
     "name": "stdout",
     "output_type": "stream",
     "text": [
      "(484.8846404526884, 1047.7118595473116)\n"
     ]
    }
   ],
   "source": [
    "confidence_t = my_norm_confidence(df=PS4_metrics, column='cash_t', alpha = 0.95)\n",
    "print(confidence_t)"
   ]
  },
  {
   "cell_type": "code",
   "execution_count": 161,
   "id": "8e15c941",
   "metadata": {},
   "outputs": [
    {
     "name": "stdout",
     "output_type": "stream",
     "text": [
      "(450.16560633355783, 970.3183936664423)\n"
     ]
    }
   ],
   "source": [
    "confidence_c = my_norm_confidence(df=PS4_metrics, column='cash_c', alpha = 0.95)\n",
    "print(confidence_c)"
   ]
  },
  {
   "cell_type": "code",
   "execution_count": 162,
   "id": "aa94a39e",
   "metadata": {},
   "outputs": [
    {
     "data": {
      "text/plain": [
       "Text(0.5, 1.0, 'Доверительный интервал')"
      ]
     },
     "execution_count": 162,
     "metadata": {},
     "output_type": "execute_result"
    },
    {
     "data": {
      "image/png": "[encoded data removed]",
      "text/plain": [
       "<Figure size 432x288 with 1 Axes>"
      ]
     },
     "metadata": {
      "needs_background": "light"
     },
     "output_type": "display_data"
    }
   ],
   "source": [
    "plt.axhline(y = confidence_t[1], color = 'g', linestyle = '-')\n",
    "plt.axhline(y = confidence_t[0], color = 'g', linestyle = '-')\n",
    "plt.axhline(y = confidence_c[1], color = 'r', linestyle = '-')\n",
    "plt.axhline(y = confidence_c[0], color = 'r', linestyle = '-')\n",
    "plt.title('Доверительный интервал')"
   ]
  },
  {
   "cell_type": "markdown",
   "id": "3fc248ad",
   "metadata": {},
   "source": [
    "Построение доверительных интервалов для метрик игровой платформы XBox."
   ]
  },
  {
   "cell_type": "code",
   "execution_count": 163,
   "id": "bc1b218e",
   "metadata": {},
   "outputs": [
    {
     "data": {
      "text/html": [
       "<div>\n",
       "<style scoped>\n",
       "    .dataframe tbody tr th:only-of-type {\n",
       "        vertical-align: middle;\n",
       "    }\n",
       "\n",
       "    .dataframe tbody tr th {\n",
       "        vertical-align: top;\n",
       "    }\n",
       "\n",
       "    .dataframe thead th {\n",
       "        text-align: right;\n",
       "    }\n",
       "</style>\n",
       "<table border=\"1\" class=\"dataframe\">\n",
       "  <thead>\n",
       "    <tr style=\"text-align: right;\">\n",
       "      <th></th>\n",
       "      <th>AR_t_Xb</th>\n",
       "      <th>AR_c_Xb</th>\n",
       "      <th>perc_Xb</th>\n",
       "      <th>ARPP_t_Xb</th>\n",
       "      <th>ARPP_c_Xb</th>\n",
       "      <th>perc_ARPP</th>\n",
       "      <th>cash_t</th>\n",
       "      <th>cash_c</th>\n",
       "      <th>perc_cash</th>\n",
       "    </tr>\n",
       "    <tr>\n",
       "      <th>date</th>\n",
       "      <th></th>\n",
       "      <th></th>\n",
       "      <th></th>\n",
       "      <th></th>\n",
       "      <th></th>\n",
       "      <th></th>\n",
       "      <th></th>\n",
       "      <th></th>\n",
       "      <th></th>\n",
       "    </tr>\n",
       "  </thead>\n",
       "  <tbody>\n",
       "    <tr>\n",
       "      <th>10.07.2021</th>\n",
       "      <td>0.750</td>\n",
       "      <td>0.755</td>\n",
       "      <td>-0.7</td>\n",
       "      <td>1.219</td>\n",
       "      <td>1.221</td>\n",
       "      <td>-0.1</td>\n",
       "      <td>798.724</td>\n",
       "      <td>801.320</td>\n",
       "      <td>-0.3</td>\n",
       "    </tr>\n",
       "    <tr>\n",
       "      <th>11.07.2021</th>\n",
       "      <td>0.751</td>\n",
       "      <td>0.753</td>\n",
       "      <td>-0.3</td>\n",
       "      <td>1.218</td>\n",
       "      <td>1.219</td>\n",
       "      <td>-0.1</td>\n",
       "      <td>800.721</td>\n",
       "      <td>800.393</td>\n",
       "      <td>0.0</td>\n",
       "    </tr>\n",
       "    <tr>\n",
       "      <th>12.07.2021</th>\n",
       "      <td>0.749</td>\n",
       "      <td>0.748</td>\n",
       "      <td>0.1</td>\n",
       "      <td>1.220</td>\n",
       "      <td>1.219</td>\n",
       "      <td>0.1</td>\n",
       "      <td>795.484</td>\n",
       "      <td>795.144</td>\n",
       "      <td>0.0</td>\n",
       "    </tr>\n",
       "    <tr>\n",
       "      <th>13.07.2021</th>\n",
       "      <td>0.734</td>\n",
       "      <td>0.736</td>\n",
       "      <td>-0.4</td>\n",
       "      <td>1.215</td>\n",
       "      <td>1.215</td>\n",
       "      <td>-0.0</td>\n",
       "      <td>777.967</td>\n",
       "      <td>778.912</td>\n",
       "      <td>-0.1</td>\n",
       "    </tr>\n",
       "    <tr>\n",
       "      <th>14.07.2021</th>\n",
       "      <td>0.704</td>\n",
       "      <td>0.702</td>\n",
       "      <td>0.2</td>\n",
       "      <td>1.205</td>\n",
       "      <td>1.204</td>\n",
       "      <td>0.1</td>\n",
       "      <td>737.205</td>\n",
       "      <td>732.771</td>\n",
       "      <td>0.6</td>\n",
       "    </tr>\n",
       "    <tr>\n",
       "      <th>15.07.2021</th>\n",
       "      <td>0.649</td>\n",
       "      <td>0.648</td>\n",
       "      <td>0.1</td>\n",
       "      <td>1.186</td>\n",
       "      <td>1.187</td>\n",
       "      <td>-0.0</td>\n",
       "      <td>651.932</td>\n",
       "      <td>648.521</td>\n",
       "      <td>0.5</td>\n",
       "    </tr>\n",
       "    <tr>\n",
       "      <th>16.07.2021</th>\n",
       "      <td>0.581</td>\n",
       "      <td>0.576</td>\n",
       "      <td>0.8</td>\n",
       "      <td>1.157</td>\n",
       "      <td>1.154</td>\n",
       "      <td>0.2</td>\n",
       "      <td>537.521</td>\n",
       "      <td>530.738</td>\n",
       "      <td>1.3</td>\n",
       "    </tr>\n",
       "    <tr>\n",
       "      <th>17.07.2021</th>\n",
       "      <td>1.216</td>\n",
       "      <td>1.184</td>\n",
       "      <td>2.8</td>\n",
       "      <td>1.964</td>\n",
       "      <td>1.935</td>\n",
       "      <td>1.5</td>\n",
       "      <td>1076.715</td>\n",
       "      <td>1043.961</td>\n",
       "      <td>3.1</td>\n",
       "    </tr>\n",
       "  </tbody>\n",
       "</table>\n",
       "</div>"
      ],
      "text/plain": [
       "            AR_t_Xb  AR_c_Xb  perc_Xb  ARPP_t_Xb  ARPP_c_Xb  perc_ARPP  \\\n",
       "date                                                                     \n",
       "10.07.2021    0.750    0.755     -0.7      1.219      1.221       -0.1   \n",
       "11.07.2021    0.751    0.753     -0.3      1.218      1.219       -0.1   \n",
       "12.07.2021    0.749    0.748      0.1      1.220      1.219        0.1   \n",
       "13.07.2021    0.734    0.736     -0.4      1.215      1.215       -0.0   \n",
       "14.07.2021    0.704    0.702      0.2      1.205      1.204        0.1   \n",
       "15.07.2021    0.649    0.648      0.1      1.186      1.187       -0.0   \n",
       "16.07.2021    0.581    0.576      0.8      1.157      1.154        0.2   \n",
       "17.07.2021    1.216    1.184      2.8      1.964      1.935        1.5   \n",
       "\n",
       "              cash_t    cash_c  perc_cash  \n",
       "date                                       \n",
       "10.07.2021   798.724   801.320       -0.3  \n",
       "11.07.2021   800.721   800.393        0.0  \n",
       "12.07.2021   795.484   795.144        0.0  \n",
       "13.07.2021   777.967   778.912       -0.1  \n",
       "14.07.2021   737.205   732.771        0.6  \n",
       "15.07.2021   651.932   648.521        0.5  \n",
       "16.07.2021   537.521   530.738        1.3  \n",
       "17.07.2021  1076.715  1043.961        3.1  "
      ]
     },
     "execution_count": 163,
     "metadata": {},
     "output_type": "execute_result"
    }
   ],
   "source": [
    "XBox_metrics"
   ]
  },
  {
   "cell_type": "markdown",
   "id": "4a957fde",
   "metadata": {},
   "source": [
    "Доверительный интервал для метрики ARPU на игровой платформе XBox."
   ]
  },
  {
   "cell_type": "code",
   "execution_count": 164,
   "id": "fec6b1ca",
   "metadata": {},
   "outputs": [
    {
     "name": "stdout",
     "output_type": "stream",
     "text": [
      "(0.39189842415551057, 1.1416015758444893)\n"
     ]
    }
   ],
   "source": [
    "confidence_t = my_norm_confidence(df=XBox_metrics, column='AR_t_Xb', alpha = 0.95)\n",
    "print(confidence_t)"
   ]
  },
  {
   "cell_type": "code",
   "execution_count": 165,
   "id": "cc24fa43",
   "metadata": {},
   "outputs": [
    {
     "name": "stdout",
     "output_type": "stream",
     "text": [
      "(0.4072651866319726, 1.1182348133680273)\n"
     ]
    }
   ],
   "source": [
    "confidence_c = my_norm_confidence(df=XBox_metrics, column='AR_c_Xb', alpha = 0.95)\n",
    "print(confidence_c)"
   ]
  },
  {
   "cell_type": "code",
   "execution_count": 166,
   "id": "e17839c6",
   "metadata": {},
   "outputs": [
    {
     "data": {
      "text/plain": [
       "Text(0.5, 1.0, 'Доверительный интервал')"
      ]
     },
     "execution_count": 166,
     "metadata": {},
     "output_type": "execute_result"
    },
    {
     "data": {
      "image/png": "[encoded data removed]",
      "text/plain": [
       "<Figure size 432x288 with 1 Axes>"
      ]
     },
     "metadata": {
      "needs_background": "light"
     },
     "output_type": "display_data"
    }
   ],
   "source": [
    "plt.axhline(y = confidence_t[1], color = 'g', linestyle = '-')\n",
    "plt.axhline(y = confidence_t[0], color = 'g', linestyle = '-')\n",
    "plt.axhline(y = confidence_c[1], color = 'r', linestyle = '-')\n",
    "plt.axhline(y = confidence_c[0], color = 'r', linestyle = '-')\n",
    "plt.title('Доверительный интервал')"
   ]
  },
  {
   "cell_type": "markdown",
   "id": "dd0a9b9a",
   "metadata": {},
   "source": [
    "Доверительный интервал для метрики ARPPU на игровой платформе XBox."
   ]
  },
  {
   "cell_type": "code",
   "execution_count": 167,
   "id": "20803b72",
   "metadata": {},
   "outputs": [
    {
     "name": "stdout",
     "output_type": "stream",
     "text": [
      "(0.7688387614743157, 1.8271612385256844)\n"
     ]
    }
   ],
   "source": [
    "confidence_t = my_norm_confidence(df=XBox_metrics, column='ARPP_t_Xb', alpha = 0.95)\n",
    "print(confidence_t)"
   ]
  },
  {
   "cell_type": "code",
   "execution_count": 168,
   "id": "620e9f5e",
   "metadata": {},
   "outputs": [
    {
     "name": "stdout",
     "output_type": "stream",
     "text": [
      "(0.7848481262814473, 1.803651873718553)\n"
     ]
    }
   ],
   "source": [
    "confidence_c = my_norm_confidence(df=XBox_metrics, column='ARPP_c_Xb', alpha = 0.95)\n",
    "print(confidence_c)"
   ]
  },
  {
   "cell_type": "code",
   "execution_count": 169,
   "id": "c6c32683",
   "metadata": {},
   "outputs": [
    {
     "data": {
      "text/plain": [
       "Text(0.5, 1.0, 'Доверительный интервал')"
      ]
     },
     "execution_count": 169,
     "metadata": {},
     "output_type": "execute_result"
    },
    {
     "data": {
      "image/png": "[encoded data removed]",
      "text/plain": [
       "<Figure size 432x288 with 1 Axes>"
      ]
     },
     "metadata": {
      "needs_background": "light"
     },
     "output_type": "display_data"
    }
   ],
   "source": [
    "plt.axhline(y = confidence_t[1], color = 'g', linestyle = '-')\n",
    "plt.axhline(y = confidence_t[0], color = 'g', linestyle = '-')\n",
    "plt.axhline(y = confidence_c[1], color = 'r', linestyle = '-')\n",
    "plt.axhline(y = confidence_c[0], color = 'r', linestyle = '-')\n",
    "plt.title('Доверительный интервал')"
   ]
  },
  {
   "cell_type": "markdown",
   "id": "2c7a91b9",
   "metadata": {},
   "source": [
    "Доверительный интервал для метрики траты внутренней валюты на игровой платформе XBox."
   ]
  },
  {
   "cell_type": "code",
   "execution_count": 170,
   "id": "dd23d045",
   "metadata": {},
   "outputs": [
    {
     "name": "stdout",
     "output_type": "stream",
     "text": [
      "(470.5877674552469, 1073.4794825447532)\n"
     ]
    }
   ],
   "source": [
    "confidence_t = my_norm_confidence(df=XBox_metrics, column='cash_t', alpha = 0.95)\n",
    "print(confidence_t)"
   ]
  },
  {
   "cell_type": "code",
   "execution_count": 171,
   "id": "c494e278",
   "metadata": {},
   "outputs": [
    {
     "name": "stdout",
     "output_type": "stream",
     "text": [
      "(478.6433242160981, 1054.296675783902)\n"
     ]
    }
   ],
   "source": [
    "confidence_c = my_norm_confidence(df=XBox_metrics, column='cash_c', alpha = 0.95)\n",
    "print(confidence_c)"
   ]
  },
  {
   "cell_type": "code",
   "execution_count": 172,
   "id": "9daefdd6",
   "metadata": {},
   "outputs": [
    {
     "data": {
      "text/plain": [
       "Text(0.5, 1.0, 'Доверительный интервал')"
      ]
     },
     "execution_count": 172,
     "metadata": {},
     "output_type": "execute_result"
    },
    {
     "data": {
      "image/png": "[encoded data removed]",
      "text/plain": [
       "<Figure size 432x288 with 1 Axes>"
      ]
     },
     "metadata": {
      "needs_background": "light"
     },
     "output_type": "display_data"
    }
   ],
   "source": [
    "plt.axhline(y = confidence_t[1], color = 'g', linestyle = '-')\n",
    "plt.axhline(y = confidence_t[0], color = 'g', linestyle = '-')\n",
    "plt.axhline(y = confidence_c[1], color = 'r', linestyle = '-')\n",
    "plt.axhline(y = confidence_c[0], color = 'r', linestyle = '-')\n",
    "plt.title('Доверительный интервал')"
   ]
  },
  {
   "cell_type": "code",
   "execution_count": null,
   "id": "a823da8c",
   "metadata": {},
   "outputs": [],
   "source": []
  }
 ],
 "metadata": {
  "kernelspec": {
   "display_name": "Python 3 (ipykernel)",
   "language": "python",
   "name": "python3"
  },
  "language_info": {
   "codemirror_mode": {
    "name": "ipython",
    "version": 3
   },
   "file_extension": ".py",
   "mimetype": "text/x-python",
   "name": "python",
   "nbconvert_exporter": "python",
   "pygments_lexer": "ipython3",
   "version": "3.9.12"
  }
 },
 "nbformat": 4,
 "nbformat_minor": 5
}
